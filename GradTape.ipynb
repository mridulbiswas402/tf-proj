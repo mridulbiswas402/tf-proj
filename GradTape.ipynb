{
  "nbformat": 4,
  "nbformat_minor": 0,
  "metadata": {
    "colab": {
      "name": "learntf1.ipynb",
      "provenance": [],
      "collapsed_sections": []
    },
    "kernelspec": {
      "name": "python3",
      "display_name": "Python 3"
    },
    "language_info": {
      "name": "python"
    }
  },
  "cells": [
    {
      "cell_type": "code",
      "execution_count": 70,
      "metadata": {
        "id": "zTGXKqRkTMHk"
      },
      "outputs": [],
      "source": [
        "import tensorflow as tf\n",
        "import numpy as np"
      ]
    },
    {
      "cell_type": "code",
      "source": [
        "#computing dz/dx where y=x*x and z=log(y) at x=2.0 : dz/dx=2/x\n",
        "x=tf.constant(2.0)\n",
        "with tf.GradientTape() as g:\n",
        "  g.watch(x)\n",
        "  y=x*x\n",
        "  z=tf.math.log(y)\n",
        "\n",
        "print(g.gradient(z,x))\n",
        "\n"
      ],
      "metadata": {
        "colab": {
          "base_uri": "https://localhost:8080/"
        },
        "id": "EfqZZoB3LCN7",
        "outputId": "af921932-0170-4620-da35-5370c3c1160e"
      },
      "execution_count": 71,
      "outputs": [
        {
          "output_type": "stream",
          "name": "stdout",
          "text": [
            "tf.Tensor(1.0, shape=(), dtype=float32)\n"
          ]
        }
      ]
    },
    {
      "cell_type": "code",
      "source": [
        "#computing derivative of any arbitary function\n",
        "@tf.function\n",
        "def fx(x):\n",
        "  y=x*x\n",
        "  z=tf.math.log(y)\n",
        "  return z\n",
        "\n",
        "#print(fx(tf.constant(2.0)))\n",
        "\n",
        "x=tf.constant(2.0)\n",
        "#print(x)\n",
        "with tf.GradientTape() as g:\n",
        "  g.watch(x)\n",
        "  y=fx(x)\n",
        "\n",
        "print(g.gradient(y,x))"
      ],
      "metadata": {
        "colab": {
          "base_uri": "https://localhost:8080/"
        },
        "id": "FZnkUBYcLCMC",
        "outputId": "2454018c-0187-4c93-f072-accd00794194"
      },
      "execution_count": 72,
      "outputs": [
        {
          "output_type": "stream",
          "name": "stdout",
          "text": [
            "tf.Tensor(1.0, shape=(), dtype=float32)\n"
          ]
        }
      ]
    },
    {
      "cell_type": "code",
      "source": [
        "#gradient of a scalar-valued differentiable function f:R^n->R is grad(f):R^n->R^n\n",
        "\n",
        "# here f(x,y,z)=x^2*y+y^2*x+z^2\n",
        "@tf.function\n",
        "def fx(x):\n",
        "  z=x[0]*x[0]*x[1]+x[1]*x[1]*x[0]+x[2]*x[2]\n",
        "  return z\n",
        "\n",
        "#print(fx(tf.constant([1,1,1])))\n",
        "\n",
        "x=tf.constant([1.0,1,1])\n",
        "with tf.GradientTape() as g:\n",
        "  g.watch(x)\n",
        "  y=fx(x)\n",
        "\n",
        "print(g.gradient(y,x))"
      ],
      "metadata": {
        "colab": {
          "base_uri": "https://localhost:8080/"
        },
        "id": "hAYPh_jWLCCR",
        "outputId": "2d60d0d4-7554-4f91-cff1-e6931229f8be"
      },
      "execution_count": 73,
      "outputs": [
        {
          "output_type": "stream",
          "name": "stdout",
          "text": [
            "tf.Tensor([3. 3. 2.], shape=(3,), dtype=float32)\n"
          ]
        }
      ]
    },
    {
      "cell_type": "code",
      "source": [
        "#the Jacobian matrix of a vector-valued function f:R^n->R^m is jacobian(f):R^n->R^(m x n)\n",
        "\n",
        "# here f(x,y,z)=x^2*y+y^2*x+z^2\n",
        "@tf.function\n",
        "def f1(x):\n",
        "  z=x[0]*x[0]*x[1]\n",
        "  return z\n",
        "\n",
        "@tf.function\n",
        "def f2(x):\n",
        "  z=5*x[0]+tf.math.sin(x[1])\n",
        "  return z\n",
        "\n",
        "\n",
        "\n",
        "x=tf.Variable([1.0,1])\n",
        "\n",
        "\n",
        "with tf.GradientTape(persistent=True) as g:\n",
        "  fn=[f1(x),f2(x)]\n",
        "  #y=f1(x)\n",
        "  #z=f2(x)\n",
        "\n",
        "print(g.jacobian(fn[0],x))\n",
        "print(g.jacobian(fn[1],x))"
      ],
      "metadata": {
        "colab": {
          "base_uri": "https://localhost:8080/"
        },
        "id": "Q_nDpv79LByW",
        "outputId": "90cde88a-6db0-48da-ee16-fc57f72ae16e"
      },
      "execution_count": 74,
      "outputs": [
        {
          "output_type": "stream",
          "name": "stdout",
          "text": [
            "tf.Tensor([2. 1.], shape=(2,), dtype=float32)\n",
            "tf.Tensor([5.        0.5403023], shape=(2,), dtype=float32)\n"
          ]
        }
      ]
    },
    {
      "cell_type": "code",
      "source": [
        "np.array([g.jacobian(fn[i], x).numpy() for i in range(x.shape[0])])"
      ],
      "metadata": {
        "colab": {
          "base_uri": "https://localhost:8080/"
        },
        "id": "5DYvfs-RHGJ5",
        "outputId": "fbdb370a-c634-4149-a214-cbb74abe2993"
      },
      "execution_count": 77,
      "outputs": [
        {
          "output_type": "execute_result",
          "data": {
            "text/plain": [
              "array([[2.       , 1.       ],\n",
              "       [5.       , 0.5403023]], dtype=float32)"
            ]
          },
          "metadata": {},
          "execution_count": 77
        }
      ]
    },
    {
      "cell_type": "code",
      "source": [
        ""
      ],
      "metadata": {
        "id": "gKw5xkfhJkkn"
      },
      "execution_count": null,
      "outputs": []
    }
  ]
}