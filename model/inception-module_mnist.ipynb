{
  "cells": [
    {
      "cell_type": "code",
      "execution_count": 1,
      "metadata": {
        "id": "Wkl0rzN69JYr"
      },
      "outputs": [],
      "source": [
        "import numpy as np\n",
        "import tensorflow as tf\n",
        "from tensorflow import keras\n",
        "import matplotlib.pyplot as plt"
      ]
    },
    {
      "cell_type": "code",
      "execution_count": 18,
      "metadata": {
        "colab": {
          "base_uri": "https://localhost:8080/"
        },
        "id": "9wWYiNPu9lX_",
        "outputId": "961c4794-598a-45e0-f1b8-50be3dfb3c3b"
      },
      "outputs": [
        {
          "name": "stdout",
          "output_type": "stream",
          "text": [
            "Downloading data from https://storage.googleapis.com/tensorflow/tf-keras-datasets/mnist.npz\n",
            "11493376/11490434 [==============================] - 0s 0us/step\n",
            "11501568/11490434 [==============================] - 0s 0us/step\n"
          ]
        }
      ],
      "source": [
        "# data loading in appropriate formate\n",
        "\n",
        "mnist = tf.keras.datasets.mnist\n",
        "\n",
        "(x_train, y_train), (x_test, y_test) = mnist.load_data()\n",
        "x_train, x_test = x_train / 255.0, x_test / 255.0\n",
        "\n",
        "# Add a channels dimension\n",
        "x_train = x_train[..., tf.newaxis].astype(\"float32\")\n",
        "x_test = x_test[..., tf.newaxis].astype(\"float32\")\n"
      ]
    },
    {
      "cell_type": "code",
      "execution_count": 19,
      "metadata": {
        "id": "eMfYbUSA82Zl"
      },
      "outputs": [],
      "source": [
        "y_train=tf.keras.utils.to_categorical(y_train)"
      ]
    },
    {
      "cell_type": "code",
      "execution_count": 26,
      "metadata": {
        "id": "DVvZEL3Kkbqs"
      },
      "outputs": [],
      "source": [
        "class CONV(tf.keras.layers.Layer):\n",
        "    def __init__(self, out_channels, kernel_size=3):\n",
        "        super(CONV, self).__init__()\n",
        "        self.conv = tf.keras.layers.Conv2D(out_channels, kernel_size, padding=\"same\")\n",
        "\n",
        "    def call(self, input_tensor):\n",
        "        x = self.conv(input_tensor)\n",
        "        x = tf.nn.relu(x)\n",
        "        return x"
      ]
    },
    {
      "cell_type": "code",
      "execution_count": 31,
      "metadata": {
        "id": "6BnDroOlTBdE"
      },
      "outputs": [],
      "source": [
        "class inception(tf.keras.layers.Layer):\n",
        "    def __init__(self,f1,f3,f5):\n",
        "        super(inception, self).__init__()\n",
        "        self.conv1=CONV(f1,1)\n",
        "        self.conv2=CONV(f3,3)\n",
        "        self.conv3=CONV(f5,5)\n",
        "        self.conv4=CONV(f1,1)\n",
        "        self.max3=tf.keras.layers.MaxPool2D(3,padding='same',strides=1)\n",
        "\n",
        "    def call(self, input_tensor):\n",
        "        a=self.conv1(input_tensor)\n",
        "        b=self.conv2(a)\n",
        "        c=self.conv3(a)\n",
        "        d=self.conv4(self.max3(input_tensor))\n",
        "        x=tf.keras.layers.Concatenate()([a,b,c,d])\n",
        "        return x"
      ]
    },
    {
      "cell_type": "code",
      "execution_count": 32,
      "metadata": {
        "id": "9ZGy-eKWkboM"
      },
      "outputs": [],
      "source": [
        "#model subclassing with convolution layer.\n",
        "\n",
        "class MyModel(tf.keras.Model):\n",
        "    def __init__(self, num_classes):\n",
        "        super(MyModel, self).__init__()\n",
        "        # define all layers in init\n",
        "        # Layer of Block 1\n",
        "        self.c1 = CONV(32,3)\n",
        "        self.incep1 = inception(10,10,10)\n",
        "\n",
        "        #fully connected layer\n",
        "        self.flat = tf.keras.layers.Flatten()\n",
        "        self.d1 = keras.layers.Dense(20, activation='relu')\n",
        "        self.d2 = keras.layers.Dense(num_classes)\n",
        "\n",
        "\n",
        "    def call(self, input_tensor):\n",
        "        # forward pass: block 1 \n",
        "        x = self.c1(input_tensor)\n",
        "        x = self.incep1(x)\n",
        "\n",
        "        # forward pass: FC layer\n",
        "        x=self.flat(x)\n",
        "        x = self.d1(x)\n",
        "        return self.d2(x)\n"
      ]
    },
    {
      "cell_type": "code",
      "execution_count": 33,
      "metadata": {
        "id": "5rCt4dpvp33u"
      },
      "outputs": [],
      "source": [
        "model=MyModel(10)\n",
        "\n",
        "\"\"\"loss_fn = tf.keras.losses.SparseCategoricalCrossentropy(from_logits=True)\n",
        "model.compile(optimizer='adam',\n",
        "              loss=loss_fn,\n",
        "              metrics=['accuracy'])\"\"\"\n",
        "model.compile(\n",
        "          loss      = tf.keras.losses.CategoricalCrossentropy(from_logits=True),\n",
        "          metrics   = tf.keras.metrics.CategoricalAccuracy(),\n",
        "          optimizer = tf.keras.optimizers.Adam())"
      ]
    },
    {
      "cell_type": "code",
      "execution_count": 34,
      "metadata": {
        "colab": {
          "base_uri": "https://localhost:8080/"
        },
        "id": "TFZWf8APkbjR",
        "outputId": "a859711a-35e3-4bb5-96fb-a40d6b1489ac"
      },
      "outputs": [
        {
          "name": "stdout",
          "output_type": "stream",
          "text": [
            "Model: \"my_model_3\"\n",
            "_________________________________________________________________\n",
            " Layer (type)                Output Shape              Param #   \n",
            "=================================================================\n",
            " conv_8 (CONV)               (None, 28, 28, 32)        320       \n",
            "                                                                 \n",
            " inception_1 (inception)     (None, 28, 28, 40)        3750      \n",
            "                                                                 \n",
            " flatten_3 (Flatten)         (None, 31360)             0         \n",
            "                                                                 \n",
            " dense_6 (Dense)             (None, 20)                627220    \n",
            "                                                                 \n",
            " dense_7 (Dense)             (None, 10)                210       \n",
            "                                                                 \n",
            "=================================================================\n",
            "Total params: 631,500\n",
            "Trainable params: 631,500\n",
            "Non-trainable params: 0\n",
            "_________________________________________________________________\n"
          ]
        }
      ],
      "source": [
        "model.build(input_shape=(None, 28, 28, 1))\n",
        "model.call(tf.keras.Input(shape=(28, 28, 1)))\n",
        "model.summary()\n",
        "#no of parameter in conv  = ((m*n*d)+1)*k) for ex ((3*3*1)+1)*32 = 320\n",
        "# ((3*3*32)+1)*64) = 18496"
      ]
    },
    {
      "cell_type": "code",
      "execution_count": 35,
      "metadata": {
        "colab": {
          "base_uri": "https://localhost:8080/"
        },
        "id": "FP9EQhYzkbgy",
        "outputId": "4871d64d-ee3f-4770-f246-fc230c8bfad7"
      },
      "outputs": [
        {
          "name": "stdout",
          "output_type": "stream",
          "text": [
            "Epoch 1/2\n",
            "375/375 [==============================] - 185s 491ms/step - loss: 0.2674 - categorical_accuracy: 0.9194 - val_loss: 0.0896 - val_categorical_accuracy: 0.9735\n",
            "Epoch 2/2\n",
            "375/375 [==============================] - 179s 478ms/step - loss: 0.0706 - categorical_accuracy: 0.9785 - val_loss: 0.0647 - val_categorical_accuracy: 0.9808\n"
          ]
        },
        {
          "data": {
            "text/plain": [
              "<keras.callbacks.History at 0x7f2505eab2d0>"
            ]
          },
          "execution_count": 35,
          "metadata": {},
          "output_type": "execute_result"
        }
      ],
      "source": [
        "model.fit(x_train, y_train, batch_size=128,epochs=2,validation_split=0.2)"
      ]
    },
    {
      "cell_type": "code",
      "execution_count": null,
      "metadata": {
        "id": "MUwaszgLkbTT"
      },
      "outputs": [],
      "source": []
    },
    {
      "cell_type": "code",
      "execution_count": null,
      "metadata": {
        "id": "QqJMKxmSkbQt"
      },
      "outputs": [],
      "source": []
    }
  ],
  "metadata": {
    "colab": {
      "name": "model1.ipynb",
      "provenance": []
    },
    "kernelspec": {
      "display_name": "Python 3",
      "name": "python3"
    },
    "language_info": {
      "name": "python"
    }
  },
  "nbformat": 4,
  "nbformat_minor": 0
}
