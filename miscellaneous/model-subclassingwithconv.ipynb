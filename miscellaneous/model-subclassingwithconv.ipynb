{
  "cells": [
    {
      "cell_type": "code",
      "execution_count": 1,
      "metadata": {
        "id": "Wkl0rzN69JYr"
      },
      "outputs": [],
      "source": [
        "import numpy as np\n",
        "import tensorflow as tf\n",
        "from tensorflow import keras\n"
      ]
    },
    {
      "cell_type": "code",
      "execution_count": 2,
      "metadata": {
        "id": "KKbLIhyENcpW"
      },
      "outputs": [],
      "source": [
        "import matplotlib.pyplot as plt"
      ]
    },
    {
      "cell_type": "code",
      "execution_count": 3,
      "metadata": {
        "colab": {
          "base_uri": "https://localhost:8080/"
        },
        "id": "9wWYiNPu9lX_",
        "outputId": "dd310b6a-d748-4749-cd17-8a98609d5a1c"
      },
      "outputs": [
        {
          "name": "stdout",
          "output_type": "stream",
          "text": [
            "Downloading data from https://storage.googleapis.com/tensorflow/tf-keras-datasets/mnist.npz\n",
            "11493376/11490434 [==============================] - 0s 0us/step\n",
            "11501568/11490434 [==============================] - 0s 0us/step\n"
          ]
        }
      ],
      "source": [
        "# data loading in appropriate formate\n",
        "\n",
        "mnist = tf.keras.datasets.mnist\n",
        "\n",
        "(x_train, y_train), (x_test, y_test) = mnist.load_data()\n",
        "x_train, x_test = x_train / 255.0, x_test / 255.0\n",
        "\n",
        "# Add a channels dimension\n",
        "x_train = x_train[..., tf.newaxis].astype(\"float32\")\n",
        "x_test = x_test[..., tf.newaxis].astype(\"float32\")\n"
      ]
    },
    {
      "cell_type": "code",
      "execution_count": 4,
      "metadata": {
        "id": "eMfYbUSA82Zl"
      },
      "outputs": [],
      "source": [
        "y_train=tf.keras.utils.to_categorical(y_train)"
      ]
    },
    {
      "cell_type": "code",
      "execution_count": 5,
      "metadata": {
        "id": "DVvZEL3Kkbqs"
      },
      "outputs": [],
      "source": [
        "class CNNBlock(tf.keras.layers.Layer):\n",
        "    def __init__(self, out_channels, kernel_size=3):\n",
        "        super(CNNBlock, self).__init__()\n",
        "        self.conv = tf.keras.layers.Conv2D(out_channels, kernel_size, padding=\"same\")\n",
        "        self.max = tf.keras.layers.MaxPooling2D(kernel_size)\n",
        "\n",
        "    def call(self, input_tensor):\n",
        "        x = self.conv(input_tensor)\n",
        "        x = tf.nn.relu(x)\n",
        "        x = self.max(x)\n",
        "        return x"
      ]
    },
    {
      "cell_type": "code",
      "execution_count": 7,
      "metadata": {
        "colab": {
          "base_uri": "https://localhost:8080/",
          "height": 35
        },
        "id": "9ZGy-eKWkboM",
        "outputId": "671f5aa5-024e-4d62-d522-f5ca2d8c029e"
      },
      "outputs": [
        {
          "data": {
            "application/vnd.google.colaboratory.intrinsic+json": {
              "type": "string"
            },
            "text/plain": [
              "' def model(self):\\n    x = keras.Input(shape=(28, 28, 1))\\n    return keras.Model(inputs=[x], outputs=self.call(x)) '"
            ]
          },
          "execution_count": 7,
          "metadata": {},
          "output_type": "execute_result"
        }
      ],
      "source": [
        "#model subclassing with convolution layer.\n",
        "\n",
        "class MyModel(tf.keras.Model):\n",
        "    def __init__(self, num_classes):\n",
        "        super(MyModel, self).__init__()\n",
        "        # define all layers in init\n",
        "        # Layer of Block 1\n",
        "        self.c1 = CNNBlock(32)\n",
        "\n",
        "        # Layer of Block 2\n",
        "        self.c2 = CNNBlock(64)\n",
        "\n",
        "        #fully connected layer\n",
        "        self.flat = tf.keras.layers.Flatten()\n",
        "        self.d1 = keras.layers.Dense(20, activation='relu')\n",
        "        self.d2 = keras.layers.Dense(num_classes)\n",
        "\n",
        "\n",
        "    def call(self, input_tensor):\n",
        "        # forward pass: block 1 \n",
        "        x = self.c1(input_tensor)\n",
        "      \n",
        "        # forward pass: block 2 \n",
        "        x = self.c2(x)\n",
        "\n",
        "        # forward pass: FC layer\n",
        "        x=self.flat(x)\n",
        "        x = self.d1(x)\n",
        "        return self.d2(x)\n"
      ]
    },
    {
      "cell_type": "code",
      "execution_count": 9,
      "metadata": {
        "id": "5rCt4dpvp33u"
      },
      "outputs": [],
      "source": [
        "model=MyModel(10)\n",
        "\n",
        "\"\"\"loss_fn = tf.keras.losses.SparseCategoricalCrossentropy(from_logits=True)\n",
        "model.compile(optimizer='adam',\n",
        "              loss=loss_fn,\n",
        "              metrics=['accuracy'])\"\"\"\n",
        "model.compile(\n",
        "          loss      = tf.keras.losses.CategoricalCrossentropy(from_logits=True),\n",
        "          metrics   = tf.keras.metrics.CategoricalAccuracy(),\n",
        "          optimizer = tf.keras.optimizers.Adam())"
      ]
    },
    {
      "cell_type": "code",
      "execution_count": 10,
      "metadata": {
        "colab": {
          "base_uri": "https://localhost:8080/"
        },
        "id": "TFZWf8APkbjR",
        "outputId": "c3252bf3-b3da-43cc-d7a1-211506233013"
      },
      "outputs": [
        {
          "name": "stdout",
          "output_type": "stream",
          "text": [
            "Model: \"my_model\"\n",
            "_________________________________________________________________\n",
            " Layer (type)                Output Shape              Param #   \n",
            "=================================================================\n",
            " cnn_block (CNNBlock)        (None, 9, 9, 32)          320       \n",
            "                                                                 \n",
            " cnn_block_1 (CNNBlock)      (None, 3, 3, 64)          18496     \n",
            "                                                                 \n",
            " flatten (Flatten)           (None, 576)               0         \n",
            "                                                                 \n",
            " dense (Dense)               (None, 20)                11540     \n",
            "                                                                 \n",
            " dense_1 (Dense)             (None, 10)                210       \n",
            "                                                                 \n",
            "=================================================================\n",
            "Total params: 30,566\n",
            "Trainable params: 30,566\n",
            "Non-trainable params: 0\n",
            "_________________________________________________________________\n"
          ]
        }
      ],
      "source": [
        "model.build(input_shape=(None, 28, 28, 1))\n",
        "model.call(tf.keras.Input(shape=(28, 28, 1)))\n",
        "model.summary()\n",
        "#no of parameter in conv  = ((m*n*d)+1)*k) for ex ((3*3*1)+1)*32 = 320\n",
        "# ((3*3*32)+1)*64) = 18496"
      ]
    },
    {
      "cell_type": "code",
      "execution_count": 11,
      "metadata": {
        "colab": {
          "base_uri": "https://localhost:8080/"
        },
        "id": "FP9EQhYzkbgy",
        "outputId": "c9292c90-9671-41ab-dbd7-d1e19ba74316"
      },
      "outputs": [
        {
          "name": "stdout",
          "output_type": "stream",
          "text": [
            "Epoch 1/2\n",
            "375/375 [==============================] - 39s 101ms/step - loss: 0.5581 - categorical_accuracy: 0.8240 - val_loss: 0.1440 - val_categorical_accuracy: 0.9597\n",
            "Epoch 2/2\n",
            "375/375 [==============================] - 36s 95ms/step - loss: 0.1262 - categorical_accuracy: 0.9613 - val_loss: 0.0960 - val_categorical_accuracy: 0.9708\n"
          ]
        },
        {
          "data": {
            "text/plain": [
              "<keras.callbacks.History at 0x7f96d792bd50>"
            ]
          },
          "execution_count": 11,
          "metadata": {},
          "output_type": "execute_result"
        }
      ],
      "source": [
        "model.fit(x_train, y_train, batch_size=128,epochs=2,validation_split=0.2)"
      ]
    },
    {
      "cell_type": "code",
      "execution_count": null,
      "metadata": {
        "id": "6TQkaRHAkbeF"
      },
      "outputs": [],
      "source": []
    },
    {
      "cell_type": "code",
      "execution_count": null,
      "metadata": {
        "id": "4wRdR0JmkbbZ"
      },
      "outputs": [],
      "source": []
    },
    {
      "cell_type": "code",
      "execution_count": null,
      "metadata": {
        "id": "1nbDE0uBkbYr"
      },
      "outputs": [],
      "source": []
    },
    {
      "cell_type": "code",
      "execution_count": null,
      "metadata": {
        "id": "MUwaszgLkbTT"
      },
      "outputs": [],
      "source": []
    },
    {
      "cell_type": "code",
      "execution_count": null,
      "metadata": {
        "id": "QqJMKxmSkbQt"
      },
      "outputs": [],
      "source": []
    }
  ],
  "metadata": {
    "colab": {
      "name": "model0.ipynb",
      "provenance": []
    },
    "kernelspec": {
      "display_name": "Python 3.8.8 ('base')",
      "language": "python",
      "name": "python3"
    },
    "language_info": {
      "name": "python",
      "version": "3.8.8"
    },
    "vscode": {
      "interpreter": {
        "hash": "6dc624acf43b2321622f6ed80fff132ce49617c143070d523d553a643a556b1d"
      }
    }
  },
  "nbformat": 4,
  "nbformat_minor": 0
}
