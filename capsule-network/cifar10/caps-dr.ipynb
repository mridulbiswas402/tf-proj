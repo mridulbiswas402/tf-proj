{
 "cells": [
  {
   "cell_type": "raw",
   "id": "c22d861f",
   "metadata": {
    "papermill": {
     "duration": 0.005925,
     "end_time": "2022-10-23T02:29:12.550944",
     "exception": false,
     "start_time": "2022-10-23T02:29:12.545019",
     "status": "completed"
    },
    "tags": []
   },
   "source": []
  },
  {
   "cell_type": "code",
   "execution_count": 1,
   "id": "014207bc",
   "metadata": {
    "execution": {
     "iopub.execute_input": "2022-10-23T02:29:12.562726Z",
     "iopub.status.busy": "2022-10-23T02:29:12.562175Z",
     "iopub.status.idle": "2022-10-23T02:29:18.023194Z",
     "shell.execute_reply": "2022-10-23T02:29:18.022251Z"
    },
    "papermill": {
     "duration": 5.470009,
     "end_time": "2022-10-23T02:29:18.025918",
     "exception": false,
     "start_time": "2022-10-23T02:29:12.555909",
     "status": "completed"
    },
    "tags": []
   },
   "outputs": [],
   "source": [
    "import numpy as np\n",
    "import tensorflow as tf\n",
    "from tensorflow import keras\n",
    "\n",
    "# %matplotlib inline\n",
    "import matplotlib\n",
    "import matplotlib.pyplot as plt\n",
    "\n",
    "import os\n",
    "import time"
   ]
  },
  {
   "cell_type": "code",
   "execution_count": 2,
   "id": "8cd33834",
   "metadata": {
    "execution": {
     "iopub.execute_input": "2022-10-23T02:29:18.038520Z",
     "iopub.status.busy": "2022-10-23T02:29:18.037803Z",
     "iopub.status.idle": "2022-10-23T02:29:27.057469Z",
     "shell.execute_reply": "2022-10-23T02:29:27.056392Z"
    },
    "papermill": {
     "duration": 9.028814,
     "end_time": "2022-10-23T02:29:27.060130",
     "exception": false,
     "start_time": "2022-10-23T02:29:18.031316",
     "status": "completed"
    },
    "tags": []
   },
   "outputs": [
    {
     "name": "stdout",
     "output_type": "stream",
     "text": [
      "Downloading data from https://www.cs.toronto.edu/~kriz/cifar-10-python.tar.gz\n",
      "170500096/170498071 [==============================] - 4s 0us/step\n",
      "170508288/170498071 [==============================] - 4s 0us/step\n"
     ]
    }
   ],
   "source": [
    "(x_train, y_train), (x_test, y_test) = keras.datasets.cifar10.load_data()\n",
    "x_train, x_test = x_train / 255.0, x_test / 255.0\n",
    "\n",
    "y_train=tf.keras.utils.to_categorical(y_train)\n",
    "y_test=tf.keras.utils.to_categorical(y_test)"
   ]
  },
  {
   "cell_type": "code",
   "execution_count": 3,
   "id": "db21a11d",
   "metadata": {
    "execution": {
     "iopub.execute_input": "2022-10-23T02:29:27.080908Z",
     "iopub.status.busy": "2022-10-23T02:29:27.080501Z",
     "iopub.status.idle": "2022-10-23T02:29:27.086211Z",
     "shell.execute_reply": "2022-10-23T02:29:27.085063Z"
    },
    "papermill": {
     "duration": 0.019507,
     "end_time": "2022-10-23T02:29:27.089217",
     "exception": false,
     "start_time": "2022-10-23T02:29:27.069710",
     "status": "completed"
    },
    "tags": []
   },
   "outputs": [
    {
     "name": "stdout",
     "output_type": "stream",
     "text": [
      "(50000, 32, 32, 3) (10000, 32, 32, 3) (50000, 10) (10000, 10)\n"
     ]
    }
   ],
   "source": [
    "print(x_train.shape,x_test.shape,y_train.shape,y_test.shape)"
   ]
  },
  {
   "cell_type": "code",
   "execution_count": 4,
   "id": "27c26405",
   "metadata": {
    "execution": {
     "iopub.execute_input": "2022-10-23T02:29:27.109915Z",
     "iopub.status.busy": "2022-10-23T02:29:27.109518Z",
     "iopub.status.idle": "2022-10-23T02:29:29.879140Z",
     "shell.execute_reply": "2022-10-23T02:29:29.877872Z"
    },
    "papermill": {
     "duration": 2.783228,
     "end_time": "2022-10-23T02:29:29.881882",
     "exception": false,
     "start_time": "2022-10-23T02:29:27.098654",
     "status": "completed"
    },
    "tags": []
   },
   "outputs": [
    {
     "name": "stderr",
     "output_type": "stream",
     "text": [
      "2022-10-23 02:29:27.128090: I tensorflow/core/common_runtime/process_util.cc:146] Creating new thread pool with default inter op setting: 2. Tune using inter_op_parallelism_threads for best performance.\n"
     ]
    }
   ],
   "source": [
    "train_dataset = tf.data.Dataset.from_tensor_slices((x_train, y_train))\n",
    "test_dataset = tf.data.Dataset.from_tensor_slices((x_test, y_test))\n",
    "BATCH_SIZE = 64\n",
    "SHUFFLE_BUFFER_SIZE = 100\n",
    "\n",
    "train_dataset = train_dataset.shuffle(SHUFFLE_BUFFER_SIZE).batch(BATCH_SIZE)\n",
    "validation_dataset = test_dataset.batch(BATCH_SIZE)\n"
   ]
  },
  {
   "cell_type": "code",
   "execution_count": 5,
   "id": "2b61e5ea",
   "metadata": {
    "execution": {
     "iopub.execute_input": "2022-10-23T02:29:29.903522Z",
     "iopub.status.busy": "2022-10-23T02:29:29.903071Z",
     "iopub.status.idle": "2022-10-23T02:29:29.911113Z",
     "shell.execute_reply": "2022-10-23T02:29:29.910166Z"
    },
    "papermill": {
     "duration": 0.021787,
     "end_time": "2022-10-23T02:29:29.913659",
     "exception": false,
     "start_time": "2022-10-23T02:29:29.891872",
     "status": "completed"
    },
    "tags": []
   },
   "outputs": [],
   "source": [
    "#optimization parameter setting.\n",
    "AUTOTUNE = tf.data.AUTOTUNE\n",
    "\n",
    "train_dataset = train_dataset.prefetch(buffer_size=AUTOTUNE)\n",
    "validation_dataset = validation_dataset.prefetch(buffer_size=AUTOTUNE)"
   ]
  },
  {
   "cell_type": "code",
   "execution_count": 6,
   "id": "0e636477",
   "metadata": {
    "execution": {
     "iopub.execute_input": "2022-10-23T02:29:29.934794Z",
     "iopub.status.busy": "2022-10-23T02:29:29.934366Z",
     "iopub.status.idle": "2022-10-23T02:29:29.943954Z",
     "shell.execute_reply": "2022-10-23T02:29:29.942775Z"
    },
    "papermill": {
     "duration": 0.023082,
     "end_time": "2022-10-23T02:29:29.946370",
     "exception": false,
     "start_time": "2022-10-23T02:29:29.923288",
     "status": "completed"
    },
    "tags": []
   },
   "outputs": [],
   "source": [
    "@tf.function\n",
    "def squash(x, axis=-1):\n",
    "    s_squared_norm = tf.math.reduce_sum(tf.math.square(x), axis, keepdims=True) + keras.backend.epsilon()\n",
    "    scale = tf.math.sqrt(s_squared_norm) / (1 + s_squared_norm)\n",
    "    return scale * x\n",
    "\n",
    "@tf.function\n",
    "def margin_loss(y_true, y_pred):\n",
    "    lamb, margin = 0.5, 0.1\n",
    "    return tf.math.reduce_sum((y_true * tf.math.square(tf.nn.relu(1 - margin - y_pred)) + lamb * (\n",
    "        1 - y_true) * tf.math.square(tf.nn.relu(y_pred - margin))), axis=-1)\n",
    "\n",
    "#@tf.function\n",
    "def safe_norm(s, axis=-1, epsilon=1e-7, keep_dims=False):\n",
    "        squared_norm = tf.reduce_sum(tf.square(s),axis=axis,keepdims=keep_dims)\n",
    "        return tf.sqrt(squared_norm + epsilon)"
   ]
  },
  {
   "cell_type": "code",
   "execution_count": 7,
   "id": "da99d6b7",
   "metadata": {
    "execution": {
     "iopub.execute_input": "2022-10-23T02:29:29.967775Z",
     "iopub.status.busy": "2022-10-23T02:29:29.967365Z",
     "iopub.status.idle": "2022-10-23T02:29:29.985358Z",
     "shell.execute_reply": "2022-10-23T02:29:29.984244Z"
    },
    "papermill": {
     "duration": 0.03213,
     "end_time": "2022-10-23T02:29:29.988107",
     "exception": false,
     "start_time": "2022-10-23T02:29:29.955977",
     "status": "completed"
    },
    "tags": []
   },
   "outputs": [],
   "source": [
    "class Capsule(keras.layers.Layer):\n",
    "   \n",
    "\n",
    "    def __init__(self,\n",
    "                 num_capsule,\n",
    "                 dim_capsule,\n",
    "                 routings=3,\n",
    "                 **kwargs):\n",
    "        super(Capsule, self).__init__(**kwargs)\n",
    "        self.caps_n = num_capsule\n",
    "        self.caps_dim = dim_capsule\n",
    "        self.r = routings\n",
    "\n",
    "    def get_config(self):\n",
    "        config = super().get_config().copy()\n",
    "        config.update({\n",
    "        'num_capsule':  self.caps_n,\n",
    "        'dim_capsule' : self.caps_dim,\n",
    "        'routings':  self.r,      \n",
    "        })\n",
    "        return config\n",
    "\n",
    "    def build(self, input_shape):\n",
    "        \n",
    "        self.W = self.add_weight(name='W',\n",
    "                    shape=[1, input_shape[1], self.caps_n, self.caps_dim, input_shape[-1]],\n",
    "                    dtype=tf.float32,\n",
    "                    initializer='glorot_uniform',\n",
    "                    trainable=True)\n",
    "\n",
    "    def call(self, input_tensor):\n",
    "        batch_size = input_tensor.shape[0]\n",
    "        \n",
    "        W_tiled = tf.tile(self.W, [batch_size, 1, 1, 1, 1]) # replicating the weights for parallel processing of a batch.\n",
    "        \"\"\" W_tiled.shape=[batch_size,caps_n(i-1),caps_n(i),caps_dim(i),caps_dim(i-1)] \"\"\"\n",
    "\n",
    "        caps_output_expanded = tf.expand_dims(input_tensor, -1) # converting last dim to a column vector.\n",
    "        \"\"\" the above step change the input shape from \n",
    "            [batch_size,caps_n(i-1),caps_dim(i-1)] --> [batch_size,caps_n(i-1),caps_dim(i-1),1]\"\"\"\n",
    "\n",
    "        caps_output_tile = tf.expand_dims(caps_output_expanded, 2)\n",
    "        \"\"\" the above step change the input shape from \n",
    "            [batch_size,caps_n(i-1),caps_dim(i-1),1] --> [batch_size,caps_n(i-1),1,caps_dim(i-1),1]\"\"\"\n",
    "\n",
    "        caps_output_tiled = tf.tile(caps_output_tile, [1, 1, self.caps_n, 1, 1]) # replicating the input capsule vector for every output capsule.\n",
    "        \"\"\" i.e [batch_size,caps_n(i-1),1,caps_dim(i-1),1] --> [batch_size,caps_n(i-1),caps_n(i),1,caps_dim(i-1),1]\"\"\"\n",
    "\n",
    "        caps_predicted = tf.matmul(W_tiled, caps_output_tiled) # this is performing element wise tf.matmul() operation.\n",
    "        \"\"\" caps_predicted.shape = [1,caps_n(i-1),caps_n(i),caps_dim(i),1]\"\"\"\n",
    "\n",
    "        \"\"\" dynamic routing \"\"\"\n",
    "        raw_weights = tf.zeros([batch_size,input_tensor.shape[1] , self.caps_n, 1, 1]) # non trainable weights.\n",
    "        \"\"\" raw_weights.shape=[batch_size,caps_n(i-1) ,caps_n(i), 1, 1]\"\"\"\n",
    "\n",
    "        r=self.r\n",
    "        while(r):\n",
    "          r-=1\n",
    "          routing_weights = tf.nn.softmax(raw_weights,axis=2)\n",
    "          \"\"\" [batch_size,caps_n(i-1) ,caps_n(i), 1, 1]  softmax applied along the pointed dim.\n",
    "                                           ^                                                   \"\"\"\n",
    "\n",
    "          weighted_predictions = tf.multiply(routing_weights, caps_predicted)\n",
    "          \"\"\" weighted_predictions.shape = [batch_size, caps_n(i-1),caps_n(i),caps_dim(i), 1]\"\"\"\n",
    "\n",
    "          weighted_sum = tf.reduce_sum(weighted_predictions, axis=1, keepdims=True)\n",
    "          \"\"\" [batch_size,caps_n(i-1) ,caps_n(i),caps_dim(i), 1]  sum applied along the pointed dim.\n",
    "                               ^                                                               \n",
    "          therefore weighted_sum.shape=[batch_size,1 ,caps_n(i),caps_dim(i), 1]\"\"\"\n",
    "\n",
    "          v = squash(weighted_sum, axis=-2) #normalize to unit length vector.\n",
    "          v_tiled = tf.tile(v, [1, input_tensor.shape[1], 1, 1, 1])\n",
    "          \"\"\" v_tiled.shape=[batch_size,caps_n(i-1),caps_n(i),caps_dim(i), 1]\"\"\"\n",
    "\n",
    "          agreement = tf.matmul(caps_predicted, v_tiled,transpose_a=True)\n",
    "          \"\"\" agreement.shape=[batch_size,caps_n(i-1),caps_n(i), 1, 1]\"\"\"\n",
    "\n",
    "          if(r>0):\n",
    "              routing_weights+=agreement\n",
    "          else:\n",
    "              v = tf.squeeze(v, axis=[1,4])\n",
    "              return v\n"
   ]
  },
  {
   "cell_type": "code",
   "execution_count": 8,
   "id": "0b5239b5",
   "metadata": {
    "execution": {
     "iopub.execute_input": "2022-10-23T02:29:30.011197Z",
     "iopub.status.busy": "2022-10-23T02:29:30.010354Z",
     "iopub.status.idle": "2022-10-23T02:29:30.049248Z",
     "shell.execute_reply": "2022-10-23T02:29:30.048018Z"
    },
    "papermill": {
     "duration": 0.052861,
     "end_time": "2022-10-23T02:29:30.052022",
     "exception": false,
     "start_time": "2022-10-23T02:29:29.999161",
     "status": "completed"
    },
    "tags": []
   },
   "outputs": [],
   "source": [
    "c1=tf.keras.layers.Conv2D(16,kernel_size=5,strides=1,padding='valid',activation='relu')\n",
    "c2=tf.keras.layers.Conv2D(32,kernel_size=5,strides=2,padding='valid',activation='relu')\n",
    "c3=tf.keras.layers.Conv2D(64,kernel_size=5,strides=1,padding='valid',activation='relu')\n",
    "c4=tf.keras.layers.Conv2D(128,kernel_size=3,strides=2,padding='valid',activation='relu')\n",
    "dc1=tf.keras.layers.DepthwiseConv2D(kernel_size=9,strides=(1, 1),padding='valid',activation='relu')\n",
    "last=Capsule(10,16)\n",
    "bn1=tf.keras.layers.BatchNormalization()\n",
    "bn2=tf.keras.layers.BatchNormalization()\n",
    "bn3=tf.keras.layers.BatchNormalization()\n",
    "bn4=tf.keras.layers.BatchNormalization()"
   ]
  },
  {
   "cell_type": "code",
   "execution_count": 9,
   "id": "2c093b5a",
   "metadata": {
    "execution": {
     "iopub.execute_input": "2022-10-23T02:29:30.073930Z",
     "iopub.status.busy": "2022-10-23T02:29:30.072702Z",
     "iopub.status.idle": "2022-10-23T02:29:30.080955Z",
     "shell.execute_reply": "2022-10-23T02:29:30.080038Z"
    },
    "papermill": {
     "duration": 0.021632,
     "end_time": "2022-10-23T02:29:30.083317",
     "exception": false,
     "start_time": "2022-10-23T02:29:30.061685",
     "status": "completed"
    },
    "tags": []
   },
   "outputs": [],
   "source": [
    "model_input = keras.Input(shape=(32, 32, 3), batch_size=64)"
   ]
  },
  {
   "cell_type": "code",
   "execution_count": 10,
   "id": "f8327bc3",
   "metadata": {
    "execution": {
     "iopub.execute_input": "2022-10-23T02:29:30.105154Z",
     "iopub.status.busy": "2022-10-23T02:29:30.104058Z",
     "iopub.status.idle": "2022-10-23T02:29:30.348663Z",
     "shell.execute_reply": "2022-10-23T02:29:30.347413Z"
    },
    "papermill": {
     "duration": 0.258129,
     "end_time": "2022-10-23T02:29:30.351297",
     "exception": false,
     "start_time": "2022-10-23T02:29:30.093168",
     "status": "completed"
    },
    "tags": []
   },
   "outputs": [
    {
     "data": {
      "text/plain": [
       "<KerasTensor: shape=(64, 4, 4, 32) dtype=float32 (created by layer 'depthwise_conv2d')>"
      ]
     },
     "execution_count": 10,
     "metadata": {},
     "output_type": "execute_result"
    }
   ],
   "source": [
    "dc1(c2(c1(model_input)))"
   ]
  },
  {
   "cell_type": "code",
   "execution_count": 11,
   "id": "d88612a9",
   "metadata": {
    "execution": {
     "iopub.execute_input": "2022-10-23T02:29:30.373816Z",
     "iopub.status.busy": "2022-10-23T02:29:30.371911Z",
     "iopub.status.idle": "2022-10-23T02:29:30.824913Z",
     "shell.execute_reply": "2022-10-23T02:29:30.824025Z"
    },
    "papermill": {
     "duration": 0.46672,
     "end_time": "2022-10-23T02:29:30.827692",
     "exception": false,
     "start_time": "2022-10-23T02:29:30.360972",
     "status": "completed"
    },
    "tags": []
   },
   "outputs": [],
   "source": [
    "model_input = keras.Input(shape=(32, 32, 3), batch_size=64)\n",
    "x=c1(model_input)\n",
    "x=bn1(x,training=True)\n",
    "x=c2(x)\n",
    "x=bn2(x,training=True)\n",
    "x=dc1(x)\n",
    "x=tf.reshape(x,[-1,32,16])\n",
    "x=last(x)\n",
    "x=safe_norm(x, axis=2)\n",
    "model_output = x\n"
   ]
  },
  {
   "cell_type": "code",
   "execution_count": 12,
   "id": "659817c4",
   "metadata": {
    "execution": {
     "iopub.execute_input": "2022-10-23T02:29:30.849029Z",
     "iopub.status.busy": "2022-10-23T02:29:30.848605Z",
     "iopub.status.idle": "2022-10-23T02:29:30.859093Z",
     "shell.execute_reply": "2022-10-23T02:29:30.857915Z"
    },
    "papermill": {
     "duration": 0.024005,
     "end_time": "2022-10-23T02:29:30.861590",
     "exception": false,
     "start_time": "2022-10-23T02:29:30.837585",
     "status": "completed"
    },
    "tags": []
   },
   "outputs": [],
   "source": [
    "model = keras.Model(model_input, model_output, name=\"encoder\")"
   ]
  },
  {
   "cell_type": "code",
   "execution_count": 13,
   "id": "158c5e53",
   "metadata": {
    "execution": {
     "iopub.execute_input": "2022-10-23T02:29:30.883402Z",
     "iopub.status.busy": "2022-10-23T02:29:30.882568Z",
     "iopub.status.idle": "2022-10-23T02:29:30.904841Z",
     "shell.execute_reply": "2022-10-23T02:29:30.903571Z"
    },
    "papermill": {
     "duration": 0.036434,
     "end_time": "2022-10-23T02:29:30.907738",
     "exception": false,
     "start_time": "2022-10-23T02:29:30.871304",
     "status": "completed"
    },
    "tags": []
   },
   "outputs": [
    {
     "name": "stdout",
     "output_type": "stream",
     "text": [
      "Model: \"encoder\"\n",
      "_________________________________________________________________\n",
      "Layer (type)                 Output Shape              Param #   \n",
      "=================================================================\n",
      "input_2 (InputLayer)         [(64, 32, 32, 3)]         0         \n",
      "_________________________________________________________________\n",
      "conv2d (Conv2D)              (64, 28, 28, 16)          1216      \n",
      "_________________________________________________________________\n",
      "batch_normalization (BatchNo (64, 28, 28, 16)          64        \n",
      "_________________________________________________________________\n",
      "conv2d_1 (Conv2D)            (64, 12, 12, 32)          12832     \n",
      "_________________________________________________________________\n",
      "batch_normalization_1 (Batch (64, 12, 12, 32)          128       \n",
      "_________________________________________________________________\n",
      "depthwise_conv2d (DepthwiseC (64, 4, 4, 32)            2624      \n",
      "_________________________________________________________________\n",
      "tf.reshape (TFOpLambda)      (64, 32, 16)              0         \n",
      "_________________________________________________________________\n",
      "capsule (Capsule)            (64, 10, 16)              81920     \n",
      "_________________________________________________________________\n",
      "tf.math.square (TFOpLambda)  (64, 10, 16)              0         \n",
      "_________________________________________________________________\n",
      "tf.math.reduce_sum (TFOpLamb (64, 10)                  0         \n",
      "_________________________________________________________________\n",
      "tf.__operators__.add (TFOpLa (64, 10)                  0         \n",
      "_________________________________________________________________\n",
      "tf.math.sqrt (TFOpLambda)    (64, 10)                  0         \n",
      "=================================================================\n",
      "Total params: 98,784\n",
      "Trainable params: 98,688\n",
      "Non-trainable params: 96\n",
      "_________________________________________________________________\n"
     ]
    }
   ],
   "source": [
    "adam = tf.keras.optimizers.Adam(learning_rate=0.0001) \n",
    "\n",
    "model.compile(loss=margin_loss, optimizer=adam, metrics=tf.keras.metrics.CategoricalAccuracy())\n",
    "model.summary()"
   ]
  },
  {
   "cell_type": "code",
   "execution_count": 14,
   "id": "1d6e4e74",
   "metadata": {
    "execution": {
     "iopub.execute_input": "2022-10-23T02:29:30.929801Z",
     "iopub.status.busy": "2022-10-23T02:29:30.929396Z",
     "iopub.status.idle": "2022-10-23T02:29:30.942026Z",
     "shell.execute_reply": "2022-10-23T02:29:30.941175Z"
    },
    "papermill": {
     "duration": 0.026648,
     "end_time": "2022-10-23T02:29:30.944435",
     "exception": false,
     "start_time": "2022-10-23T02:29:30.917787",
     "status": "completed"
    },
    "tags": []
   },
   "outputs": [],
   "source": [
    "\"\"\"customize training loop.\"\"\"\n",
    "\n",
    "# Instantiate an optimizer to train the model.\n",
    "base_learning_rate = 0.0001\n",
    "optimizer = tf.keras.optimizers.Adam(learning_rate=base_learning_rate)\n",
    "# Instantiate a loss function.\n",
    "loss_fn = margin_loss\n",
    "\n",
    "# Prepare the metrics.\n",
    "train_acc_metric = tf.keras.metrics.CategoricalAccuracy()\n",
    "val_acc_metric = tf.keras.metrics.CategoricalAccuracy()"
   ]
  },
  {
   "cell_type": "code",
   "execution_count": 15,
   "id": "6dd67a5c",
   "metadata": {
    "execution": {
     "iopub.execute_input": "2022-10-23T02:29:30.967291Z",
     "iopub.status.busy": "2022-10-23T02:29:30.966079Z",
     "iopub.status.idle": "2022-10-23T06:42:36.724737Z",
     "shell.execute_reply": "2022-10-23T06:42:36.723831Z"
    },
    "papermill": {
     "duration": 15190.725295,
     "end_time": "2022-10-23T06:42:41.679781",
     "exception": false,
     "start_time": "2022-10-23T02:29:30.954486",
     "status": "completed"
    },
    "tags": []
   },
   "outputs": [
    {
     "name": "stdout",
     "output_type": "stream",
     "text": [
      "\n",
      "epoch 1/100\n"
     ]
    },
    {
     "name": "stderr",
     "output_type": "stream",
     "text": [
      "2022-10-23 02:29:32.180334: I tensorflow/compiler/mlir/mlir_graph_optimization_pass.cc:185] None of the MLIR Optimization Passes are enabled (registered 2)\n"
     ]
    },
    {
     "name": "stdout",
     "output_type": "stream",
     "text": [
      "782/782 [==============================] - 101s 127ms/step - train_acc: 0.2369 - val_acc: 0.4401\n",
      "\n",
      "epoch 2/100\n",
      "782/782 [==============================] - 152s 195ms/step - train_acc: 0.4560 - val_acc: 0.4990\n",
      "\n",
      "epoch 3/100\n",
      "782/782 [==============================] - 152s 195ms/step - train_acc: 0.5133 - val_acc: 0.5303\n",
      "\n",
      "epoch 4/100\n",
      "782/782 [==============================] - 152s 195ms/step - train_acc: 0.5477 - val_acc: 0.5517\n",
      "\n",
      "epoch 5/100\n",
      "782/782 [==============================] - 152s 195ms/step - train_acc: 0.5674 - val_acc: 0.5686\n",
      "\n",
      "epoch 6/100\n",
      "782/782 [==============================] - 152s 195ms/step - train_acc: 0.5850 - val_acc: 0.5846\n",
      "\n",
      "epoch 7/100\n",
      "782/782 [==============================] - 152s 195ms/step - train_acc: 0.5967 - val_acc: 0.5953\n",
      "\n",
      "epoch 8/100\n",
      "782/782 [==============================] - 152s 195ms/step - train_acc: 0.6096 - val_acc: 0.6015\n",
      "\n",
      "epoch 9/100\n",
      "782/782 [==============================] - 152s 195ms/step - train_acc: 0.6204 - val_acc: 0.6088\n",
      "\n",
      "epoch 10/100\n",
      "782/782 [==============================] - 152s 195ms/step - train_acc: 0.6262 - val_acc: 0.6158\n",
      "\n",
      "epoch 11/100\n",
      "782/782 [==============================] - 152s 195ms/step - train_acc: 0.6354 - val_acc: 0.6192\n",
      "\n",
      "epoch 12/100\n",
      "782/782 [==============================] - 152s 195ms/step - train_acc: 0.6415 - val_acc: 0.6244\n",
      "\n",
      "epoch 13/100\n",
      "782/782 [==============================] - 152s 195ms/step - train_acc: 0.6472 - val_acc: 0.6296\n",
      "\n",
      "epoch 14/100\n",
      "782/782 [==============================] - 152s 195ms/step - train_acc: 0.6518 - val_acc: 0.6330\n",
      "\n",
      "epoch 15/100\n",
      "782/782 [==============================] - 152s 195ms/step - train_acc: 0.6565 - val_acc: 0.6360\n",
      "\n",
      "epoch 16/100\n",
      "782/782 [==============================] - 152s 195ms/step - train_acc: 0.6591 - val_acc: 0.6402\n",
      "\n",
      "epoch 17/100\n",
      "782/782 [==============================] - 152s 195ms/step - train_acc: 0.6642 - val_acc: 0.6424\n",
      "\n",
      "epoch 18/100\n",
      "782/782 [==============================] - 152s 195ms/step - train_acc: 0.6664 - val_acc: 0.6451\n",
      "\n",
      "epoch 19/100\n",
      "782/782 [==============================] - 152s 195ms/step - train_acc: 0.6695 - val_acc: 0.6431\n",
      "\n",
      "epoch 20/100\n",
      "782/782 [==============================] - 152s 195ms/step - train_acc: 0.6734 - val_acc: 0.6475\n",
      "\n",
      "epoch 21/100\n",
      "782/782 [==============================] - 152s 195ms/step - train_acc: 0.6753 - val_acc: 0.6469\n",
      "\n",
      "epoch 22/100\n",
      "782/782 [==============================] - 152s 195ms/step - train_acc: 0.6782 - val_acc: 0.6487\n",
      "\n",
      "epoch 23/100\n",
      "782/782 [==============================] - 152s 195ms/step - train_acc: 0.6831 - val_acc: 0.6502\n",
      "\n",
      "epoch 24/100\n",
      "782/782 [==============================] - 152s 195ms/step - train_acc: 0.6826 - val_acc: 0.6528\n",
      "\n",
      "epoch 25/100\n",
      "782/782 [==============================] - 152s 195ms/step - train_acc: 0.6858 - val_acc: 0.6565\n",
      "\n",
      "epoch 26/100\n",
      "782/782 [==============================] - 152s 195ms/step - train_acc: 0.6871 - val_acc: 0.6544\n",
      "\n",
      "epoch 27/100\n",
      "782/782 [==============================] - 152s 195ms/step - train_acc: 0.6897 - val_acc: 0.6571\n",
      "\n",
      "epoch 28/100\n",
      "782/782 [==============================] - 152s 195ms/step - train_acc: 0.6906 - val_acc: 0.6616\n",
      "\n",
      "epoch 29/100\n",
      "782/782 [==============================] - 152s 195ms/step - train_acc: 0.6923 - val_acc: 0.6620\n",
      "\n",
      "epoch 30/100\n",
      "782/782 [==============================] - 152s 195ms/step - train_acc: 0.6944 - val_acc: 0.6609\n",
      "\n",
      "epoch 31/100\n",
      "782/782 [==============================] - 152s 195ms/step - train_acc: 0.6958 - val_acc: 0.6591\n",
      "\n",
      "epoch 32/100\n",
      "782/782 [==============================] - 152s 195ms/step - train_acc: 0.6962 - val_acc: 0.6628\n",
      "\n",
      "epoch 33/100\n",
      "782/782 [==============================] - 152s 195ms/step - train_acc: 0.6992 - val_acc: 0.6633\n",
      "\n",
      "epoch 34/100\n",
      "782/782 [==============================] - 152s 195ms/step - train_acc: 0.7041 - val_acc: 0.6642\n",
      "\n",
      "epoch 35/100\n",
      "782/782 [==============================] - 152s 195ms/step - train_acc: 0.7026 - val_acc: 0.6661\n",
      "\n",
      "epoch 36/100\n",
      "782/782 [==============================] - 152s 195ms/step - train_acc: 0.7040 - val_acc: 0.6659\n",
      "\n",
      "epoch 37/100\n",
      "782/782 [==============================] - 152s 195ms/step - train_acc: 0.7070 - val_acc: 0.6647\n",
      "\n",
      "epoch 38/100\n",
      "782/782 [==============================] - 152s 195ms/step - train_acc: 0.7085 - val_acc: 0.6672\n",
      "\n",
      "epoch 39/100\n",
      "782/782 [==============================] - 152s 195ms/step - train_acc: 0.7105 - val_acc: 0.6678\n",
      "\n",
      "epoch 40/100\n",
      "782/782 [==============================] - 152s 195ms/step - train_acc: 0.7097 - val_acc: 0.6684\n",
      "\n",
      "epoch 41/100\n",
      "782/782 [==============================] - 152s 195ms/step - train_acc: 0.7095 - val_acc: 0.6701\n",
      "\n",
      "epoch 42/100\n",
      "782/782 [==============================] - 152s 195ms/step - train_acc: 0.7146 - val_acc: 0.6713\n",
      "\n",
      "epoch 43/100\n",
      "782/782 [==============================] - 152s 195ms/step - train_acc: 0.7125 - val_acc: 0.6731\n",
      "\n",
      "epoch 44/100\n",
      "782/782 [==============================] - 152s 195ms/step - train_acc: 0.7144 - val_acc: 0.6732\n",
      "\n",
      "epoch 45/100\n",
      "782/782 [==============================] - 152s 195ms/step - train_acc: 0.7164 - val_acc: 0.6735\n",
      "\n",
      "epoch 46/100\n",
      "782/782 [==============================] - 152s 195ms/step - train_acc: 0.7184 - val_acc: 0.6748\n",
      "\n",
      "epoch 47/100\n",
      "782/782 [==============================] - 152s 195ms/step - train_acc: 0.7206 - val_acc: 0.6746\n",
      "\n",
      "epoch 48/100\n",
      "782/782 [==============================] - 152s 195ms/step - train_acc: 0.7180 - val_acc: 0.6747\n",
      "\n",
      "epoch 49/100\n",
      "782/782 [==============================] - 152s 195ms/step - train_acc: 0.7187 - val_acc: 0.6740\n",
      "\n",
      "epoch 50/100\n",
      "782/782 [==============================] - 152s 195ms/step - train_acc: 0.7222 - val_acc: 0.6759\n",
      "\n",
      "epoch 51/100\n",
      "782/782 [==============================] - 152s 195ms/step - train_acc: 0.7222 - val_acc: 0.6770\n",
      "\n",
      "epoch 52/100\n",
      "782/782 [==============================] - 152s 195ms/step - train_acc: 0.7232 - val_acc: 0.6765\n",
      "\n",
      "epoch 53/100\n",
      "782/782 [==============================] - 152s 195ms/step - train_acc: 0.7235 - val_acc: 0.6773\n",
      "\n",
      "epoch 54/100\n",
      "782/782 [==============================] - 152s 195ms/step - train_acc: 0.7262 - val_acc: 0.6767\n",
      "\n",
      "epoch 55/100\n",
      "782/782 [==============================] - 152s 195ms/step - train_acc: 0.7253 - val_acc: 0.6774\n",
      "\n",
      "epoch 56/100\n",
      "782/782 [==============================] - 152s 195ms/step - train_acc: 0.7288 - val_acc: 0.6777\n",
      "\n",
      "epoch 57/100\n",
      "782/782 [==============================] - 152s 195ms/step - train_acc: 0.7272 - val_acc: 0.6788\n",
      "\n",
      "epoch 58/100\n",
      "782/782 [==============================] - 152s 195ms/step - train_acc: 0.7284 - val_acc: 0.6787\n",
      "\n",
      "epoch 59/100\n",
      "782/782 [==============================] - 152s 195ms/step - train_acc: 0.7299 - val_acc: 0.6765\n",
      "\n",
      "epoch 60/100\n",
      "782/782 [==============================] - 152s 195ms/step - train_acc: 0.7296 - val_acc: 0.6766\n",
      "\n",
      "epoch 61/100\n",
      "782/782 [==============================] - 152s 195ms/step - train_acc: 0.7298 - val_acc: 0.6770\n",
      "\n",
      "epoch 62/100\n",
      "782/782 [==============================] - 152s 195ms/step - train_acc: 0.7312 - val_acc: 0.6778\n",
      "\n",
      "epoch 63/100\n",
      "782/782 [==============================] - 152s 195ms/step - train_acc: 0.7297 - val_acc: 0.6775\n",
      "\n",
      "epoch 64/100\n",
      "782/782 [==============================] - 152s 195ms/step - train_acc: 0.7330 - val_acc: 0.6779\n",
      "\n",
      "epoch 65/100\n",
      "782/782 [==============================] - 152s 195ms/step - train_acc: 0.7337 - val_acc: 0.6795\n",
      "\n",
      "epoch 66/100\n",
      "782/782 [==============================] - 152s 195ms/step - train_acc: 0.7334 - val_acc: 0.6785\n",
      "\n",
      "epoch 67/100\n",
      "782/782 [==============================] - 152s 195ms/step - train_acc: 0.7353 - val_acc: 0.6797\n",
      "\n",
      "epoch 68/100\n",
      "782/782 [==============================] - 152s 195ms/step - train_acc: 0.7364 - val_acc: 0.6791\n",
      "\n",
      "epoch 69/100\n",
      "782/782 [==============================] - 152s 195ms/step - train_acc: 0.7366 - val_acc: 0.6794\n",
      "\n",
      "epoch 70/100\n",
      "782/782 [==============================] - 152s 195ms/step - train_acc: 0.7360 - val_acc: 0.6798\n",
      "\n",
      "epoch 71/100\n",
      "782/782 [==============================] - 152s 195ms/step - train_acc: 0.7364 - val_acc: 0.6784\n",
      "\n",
      "epoch 72/100\n",
      "782/782 [==============================] - 152s 195ms/step - train_acc: 0.7394 - val_acc: 0.6778\n",
      "\n",
      "epoch 73/100\n",
      "782/782 [==============================] - 152s 195ms/step - train_acc: 0.7394 - val_acc: 0.6806\n",
      "\n",
      "epoch 74/100\n",
      "782/782 [==============================] - 152s 195ms/step - train_acc: 0.7383 - val_acc: 0.6791\n",
      "\n",
      "epoch 75/100\n",
      "782/782 [==============================] - 152s 195ms/step - train_acc: 0.7412 - val_acc: 0.6787\n",
      "\n",
      "epoch 76/100\n",
      "782/782 [==============================] - 152s 195ms/step - train_acc: 0.7411 - val_acc: 0.6799\n",
      "\n",
      "epoch 77/100\n",
      "782/782 [==============================] - 152s 195ms/step - train_acc: 0.7417 - val_acc: 0.6783\n",
      "\n",
      "epoch 78/100\n",
      "782/782 [==============================] - 152s 195ms/step - train_acc: 0.7414 - val_acc: 0.6786\n",
      "\n",
      "epoch 79/100\n",
      "782/782 [==============================] - 152s 195ms/step - train_acc: 0.7440 - val_acc: 0.6781\n",
      "\n",
      "epoch 80/100\n",
      "782/782 [==============================] - 152s 195ms/step - train_acc: 0.7454 - val_acc: 0.6793\n",
      "\n",
      "epoch 81/100\n",
      "782/782 [==============================] - 152s 195ms/step - train_acc: 0.7443 - val_acc: 0.6796\n",
      "\n",
      "epoch 82/100\n",
      "782/782 [==============================] - 152s 195ms/step - train_acc: 0.7445 - val_acc: 0.6782\n",
      "\n",
      "epoch 83/100\n",
      "782/782 [==============================] - 152s 195ms/step - train_acc: 0.7461 - val_acc: 0.6808\n",
      "\n",
      "epoch 84/100\n",
      "782/782 [==============================] - 152s 195ms/step - train_acc: 0.7449 - val_acc: 0.6815\n",
      "\n",
      "epoch 85/100\n",
      "782/782 [==============================] - 152s 195ms/step - train_acc: 0.7461 - val_acc: 0.6794\n",
      "\n",
      "epoch 86/100\n",
      "782/782 [==============================] - 152s 195ms/step - train_acc: 0.7455 - val_acc: 0.6810\n",
      "\n",
      "epoch 87/100\n",
      "782/782 [==============================] - 152s 195ms/step - train_acc: 0.7466 - val_acc: 0.6803\n",
      "\n",
      "epoch 88/100\n",
      "782/782 [==============================] - 152s 195ms/step - train_acc: 0.7469 - val_acc: 0.6792\n",
      "\n",
      "epoch 89/100\n",
      "782/782 [==============================] - 152s 195ms/step - train_acc: 0.7480 - val_acc: 0.6811\n",
      "\n",
      "epoch 90/100\n",
      "782/782 [==============================] - 152s 195ms/step - train_acc: 0.7479 - val_acc: 0.6814\n",
      "\n",
      "epoch 91/100\n",
      "782/782 [==============================] - 152s 195ms/step - train_acc: 0.7485 - val_acc: 0.6818\n",
      "\n",
      "epoch 92/100\n",
      "782/782 [==============================] - 152s 195ms/step - train_acc: 0.7487 - val_acc: 0.6803\n",
      "\n",
      "epoch 93/100\n",
      "782/782 [==============================] - 152s 195ms/step - train_acc: 0.7490 - val_acc: 0.6803\n",
      "\n",
      "epoch 94/100\n",
      "782/782 [==============================] - 152s 195ms/step - train_acc: 0.7499 - val_acc: 0.6813\n",
      "\n",
      "epoch 95/100\n",
      "782/782 [==============================] - 152s 195ms/step - train_acc: 0.7510 - val_acc: 0.6805\n",
      "\n",
      "epoch 96/100\n",
      "782/782 [==============================] - 152s 195ms/step - train_acc: 0.7511 - val_acc: 0.6811\n",
      "\n",
      "epoch 97/100\n",
      "782/782 [==============================] - 152s 195ms/step - train_acc: 0.7529 - val_acc: 0.6811\n",
      "\n",
      "epoch 98/100\n",
      "782/782 [==============================] - 152s 195ms/step - train_acc: 0.7533 - val_acc: 0.6783\n",
      "\n",
      "epoch 99/100\n",
      "782/782 [==============================] - 152s 195ms/step - train_acc: 0.7533 - val_acc: 0.6818\n",
      "\n",
      "epoch 100/100\n",
      "782/782 [==============================] - 152s 195ms/step - train_acc: 0.7536 - val_acc: 0.6808\n"
     ]
    }
   ],
   "source": [
    "epochs = 100\n",
    "for epoch in range(epochs):\n",
    "    print(\"\\nepoch {}/{}\".format(epoch+1,epochs))\n",
    "    pbar = keras.utils.Progbar(target=int(train_dataset.cardinality()))\n",
    "    metrics = {}\n",
    "\n",
    "    # Iterate over the batches of the dataset.\n",
    "    for step, (x_batch_train, y_true) in enumerate(train_dataset):\n",
    "        #y_true = tf.keras.utils.to_categorical(y_batch_train,num_classes=4)\n",
    "        with tf.GradientTape() as tape:\n",
    "            y_pred=model(x_batch_train) # $ better design needed.\n",
    "            # y_pred is prob. dist.\n",
    "            loss_value = loss_fn(y_true,y_pred) # loss computation\n",
    "        grads = tape.gradient(loss_value, model.trainable_weights) # back prop\n",
    "        optimizer.apply_gradients(zip(grads, model.trainable_weights)) # weight update\n",
    "\n",
    "        # Update training metric.\n",
    "        train_acc_metric.update_state(y_true, y_pred)\n",
    "        metrics.update({'train_acc':train_acc_metric.result()})\n",
    "        pbar.update(step+1, values=metrics.items(), finalize=False)\n",
    "\n",
    "\n",
    "    # Run a validation loop at the end of each epoch.\n",
    "    for x_batch_val, y_batch_val in validation_dataset:\n",
    "      #y_batch_val=tf.keras.utils.to_categorical(y_batch_val,num_classes=4)\n",
    "      val_pred = model(x_batch_val) # $ better design needed\n",
    "      # Update val metrics\n",
    "      val_acc_metric.update_state(y_batch_val, val_pred)\n",
    "\n",
    "    metrics.update({'val_acc':val_acc_metric.result()})\n",
    "    \n",
    "    pbar.update(step+1, values=metrics.items(), finalize=True)\n",
    "    \n",
    "    # Reset training & val metrics at the end of each epoch\n",
    "    train_acc_metric.reset_states()\n",
    "    val_acc_metric.reset_states()"
   ]
  },
  {
   "cell_type": "code",
   "execution_count": null,
   "id": "35ce720e",
   "metadata": {
    "papermill": {
     "duration": 4.915385,
     "end_time": "2022-10-23T06:42:51.590912",
     "exception": false,
     "start_time": "2022-10-23T06:42:46.675527",
     "status": "completed"
    },
    "tags": []
   },
   "outputs": [],
   "source": []
  }
 ],
 "metadata": {
  "kernelspec": {
   "display_name": "Python 3",
   "language": "python",
   "name": "python3"
  },
  "language_info": {
   "codemirror_mode": {
    "name": "ipython",
    "version": 3
   },
   "file_extension": ".py",
   "mimetype": "text/x-python",
   "name": "python",
   "nbconvert_exporter": "python",
   "pygments_lexer": "ipython3",
   "version": "3.7.12"
  },
  "papermill": {
   "default_parameters": {},
   "duration": 15235.977368,
   "end_time": "2022-10-23T06:42:59.656114",
   "environment_variables": {},
   "exception": null,
   "input_path": "__notebook__.ipynb",
   "output_path": "__notebook__.ipynb",
   "parameters": {},
   "start_time": "2022-10-23T02:29:03.678746",
   "version": "2.3.4"
  }
 },
 "nbformat": 4,
 "nbformat_minor": 5
}
