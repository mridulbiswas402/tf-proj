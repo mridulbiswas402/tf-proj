{
  "nbformat": 4,
  "nbformat_minor": 0,
  "metadata": {
    "colab": {
      "provenance": [],
      "collapsed_sections": []
    },
    "kernelspec": {
      "name": "python3",
      "display_name": "Python 3"
    },
    "language_info": {
      "name": "python"
    },
    "accelerator": "GPU",
    "gpuClass": "standard"
  },
  "cells": [
    {
      "cell_type": "code",
      "source": [
        "import numpy as np\n",
        "import tensorflow as tf\n",
        "from tensorflow import keras\n",
        "\n",
        "%matplotlib inline\n",
        "import matplotlib\n",
        "import matplotlib.pyplot as plt\n",
        "\n",
        "import os\n",
        "import time"
      ],
      "metadata": {
        "id": "_kHqzGCNoGwp"
      },
      "execution_count": 1,
      "outputs": []
    },
    {
      "cell_type": "code",
      "source": [
        "import tensorflow_probability as tfp\n",
        "from tensorflow_probability import distributions as tfd"
      ],
      "metadata": {
        "id": "5y3fXETitlJq"
      },
      "execution_count": 2,
      "outputs": []
    },
    {
      "cell_type": "code",
      "source": [
        "@tf.function\n",
        "def squash(x, axis=-1):\n",
        "    s_squared_norm = tf.math.reduce_sum(tf.math.square(x), axis, keepdims=True) + keras.backend.epsilon()\n",
        "    scale = tf.math.sqrt(s_squared_norm) / (1 + s_squared_norm)\n",
        "    return scale * x\n",
        "\n",
        "@tf.function\n",
        "def margin_loss(y_true, y_pred):\n",
        "    lamb, margin = 0.5, 0.1\n",
        "    return tf.math.reduce_sum((y_true * tf.math.square(tf.nn.relu(1 - margin - y_pred)) + lamb * (\n",
        "        1 - y_true) * tf.math.square(tf.nn.relu(y_pred - margin))), axis=-1)\n",
        "\n",
        "#@tf.function\n",
        "def safe_norm(s, axis=-1, epsilon=1e-7, keep_dims=False):\n",
        "        squared_norm = tf.reduce_sum(tf.square(s),axis=axis,keepdims=keep_dims)\n",
        "        return tf.sqrt(squared_norm + epsilon)"
      ],
      "metadata": {
        "id": "YOzOfUa8oGzG"
      },
      "execution_count": 3,
      "outputs": []
    },
    {
      "cell_type": "code",
      "source": [
        "class Capsule(keras.layers.Layer):\n",
        "   \n",
        "\n",
        "    def __init__(self,\n",
        "                 num_capsule,\n",
        "                 dim_capsule,\n",
        "                 routings=3,\n",
        "                 **kwargs):\n",
        "        super(Capsule, self).__init__(**kwargs)\n",
        "        self.caps_n = num_capsule\n",
        "        self.caps_dim = dim_capsule\n",
        "        self.r = routings\n",
        "\n",
        "    def get_config(self):\n",
        "        config = super().get_config().copy()\n",
        "        config.update({\n",
        "        'num_capsule':  self.caps_n,\n",
        "        'dim_capsule' : self.caps_dim,\n",
        "        'routings':  self.r,      \n",
        "        })\n",
        "        return config\n",
        "\n",
        "    def build(self, input_shape):\n",
        "\n",
        "        self.W = self.add_weight(name='W',\n",
        "                    shape=[1, input_shape[1], self.caps_n, self.caps_dim, input_shape[-1]],\n",
        "                    dtype=tf.float64,\n",
        "                    initializer='glorot_uniform',\n",
        "                    trainable=True)\n",
        "        \n",
        "        \n",
        "    def call(self, input_tensor):\n",
        "        assert input_tensor.shape[2]==self.caps_dim\n",
        "        input_tensor=tf.cast(input_tensor,dtype=tf.float64)\n",
        "        assert input_tensor.dtype==tf.float64\n",
        "        batch_size = input_tensor.shape[0]\n",
        "        n=input_tensor.shape[1]\n",
        "        k=self.caps_n\n",
        "        d=self.caps_dim\n",
        "        \n",
        "        W_tiled = tf.tile(self.W, [batch_size, 1, 1, 1, 1]) # replicating the weights for parallel processing of a batch.\n",
        "        \"\"\" W_tiled.shape=[batch_size,caps_n(i-1),caps_n(i),caps_dim(i),caps_dim(i-1)] \"\"\"\n",
        "\n",
        "        caps_output_expanded = tf.expand_dims(input_tensor, -1) # converting last dim to a column vector.\n",
        "        \"\"\" the above step change the input shape from \n",
        "            [batch_size,caps_n(i-1),caps_dim(i-1)] --> [batch_size,caps_n(i-1),caps_dim(i-1),1]\"\"\"\n",
        "\n",
        "        caps_output_tile = tf.expand_dims(caps_output_expanded, 2)\n",
        "        \"\"\" the above step change the input shape from \n",
        "            [batch_size,caps_n(i-1),caps_dim(i-1),1] --> [batch_size,caps_n(i-1),1,caps_dim(i-1),1]\"\"\"\n",
        "\n",
        "        caps_output_tiled = tf.tile(caps_output_tile, [1, 1, self.caps_n, 1, 1]) # replicating the input capsule vector for every output capsule.\n",
        "        \"\"\" i.e [batch_size,caps_n(i-1),1,caps_dim(i-1),1] --> [batch_size,caps_n(i-1),caps_n(i),1,caps_dim(i-1),1]\"\"\"\n",
        "\n",
        "        caps_predicted = tf.matmul(W_tiled, caps_output_tiled) # this is performing element wise tf.matmul() operation.\n",
        "        \"\"\" caps_predicted.shape = [1,caps_n(i-1),caps_n(i),caps_dim(i),1]\"\"\"\n",
        "\n",
        "        \"\"\" dynamic routing \"\"\"\n",
        "        #initialization step.\n",
        "        \n",
        "        pi=np.ones([batch_size,k])/k\n",
        "        mu=np.random.rand(batch_size,k,d)\n",
        "        sigma=np.ones([batch_size,k,d])\n",
        "        R=np.zeros(shape=(batch_size,n,k))\n",
        "\n",
        "        pi=tf.convert_to_tensor(pi,dtype=tf.float64)\n",
        "        mu=tf.convert_to_tensor(mu,dtype=tf.float64)\n",
        "        sigma=tf.convert_to_tensor(sigma,dtype=tf.float64)\n",
        "        R=tf.convert_to_tensor(R,dtype=tf.float64)\n",
        "\n",
        "        r=self.r\n",
        "        while(r):\n",
        "          r=r-1\n",
        "          \"\"\" E-step. \"\"\"\n",
        "          \n",
        "          x_tmp=tf.expand_dims(input_tensor,axis=1) # x.shape==[b,n,d]\n",
        "          x_tmp=tf.tile(x_tmp,[1,k,1,1]) # x_tmp.shape==[b,k,n,d]\n",
        "\n",
        "          mu_tmp=tf.expand_dims(mu,axis=2) # mu.shape==[b,k,d]\n",
        "          mu_tmp=tf.tile(mu_tmp,[1,1,n,1])   # mu_tmp.shape==[b,k,n,d]\n",
        "\n",
        "          sig_tmp=tf.expand_dims(sigma,axis=2) # sigma.shape==[b,k,d]\n",
        "          sig_tmp=tf.tile(sig_tmp,[1,1,n,1])   # sig_tmp.shape == [b,k,n,d]\n",
        "\n",
        "          N = tfd.MultivariateNormalDiag(loc=mu_tmp,scale_diag=sig_tmp).prob(x_tmp)\n",
        "          N = pi[:,:,None]*N\n",
        "          N = N/tf.expand_dims(tf.reduce_sum(N,axis=1),axis=1)\n",
        "          R = tf.transpose(N,perm=[0,2,1])\n",
        "\n",
        "          \"\"\" M-step. \"\"\"\n",
        "          \n",
        "          # updating pi.\n",
        "          N_k = tf.reduce_sum(R,axis=1)\n",
        "          pi = N_k/n\n",
        "\n",
        "          # updating mu.\n",
        "          mu = tf.matmul(tf.transpose(R,perm=[0,2,1]),input_tensor)\n",
        "          mu = mu/N_k[:,:,None]\n",
        "\n",
        "          # updating sigma.\n",
        "          mu_tmp=tf.expand_dims(mu,axis=2)\n",
        "          mu_tmp=tf.tile(mu_tmp,[1,1,n,1])\n",
        "          x_tmp=x_tmp-mu_tmp\n",
        "          x_tmp=tf.square(x_tmp)\n",
        "          R_T=tf.transpose(R,perm=[0,2,1])\n",
        "          x_tmp = tf.multiply(tf.reshape(R_T,[batch_size,k,n,1]),x_tmp)\n",
        "          sigma = tf.reduce_sum(x_tmp,axis=2)/tf.reshape(N_k,[batch_size,k,1])\n",
        "          sigma=tf.sqrt(sigma)\n",
        "              \n",
        "        weighted_prediction=tf.multiply(caps_predicted,tf.reshape(R,[batch_size,n,k,1,1]))\n",
        "        weighted_sum = tf.reduce_sum(weighted_prediction, axis=1, keepdims=True)\n",
        "        v=squash(weighted_sum, axis=-2)\n",
        "        v = tf.squeeze(v, axis=[1,4])\n",
        "        return v\n",
        "\n",
        "    def compute_output_signature(self,input_shape):\n",
        "      return tf.TensorSpec(shape=[input_shape[0],self.caps_n,self.caps_dim],dtype=tf.float64)"
      ],
      "metadata": {
        "id": "5-T8sFDEoG2E"
      },
      "execution_count": 4,
      "outputs": []
    },
    {
      "cell_type": "code",
      "source": [
        "c1=tf.keras.layers.Conv2D(16,kernel_size=5,strides=1,padding='valid',activation='relu')\n",
        "c2=tf.keras.layers.Conv2D(16,kernel_size=5,strides=1,padding='valid',activation='relu')\n",
        "c3=tf.keras.layers.Conv2D(32,kernel_size=9,strides=1,padding='valid',activation='relu')\n",
        "bn1=tf.keras.layers.BatchNormalization()\n",
        "bn2=tf.keras.layers.BatchNormalization()\n",
        "bn3=tf.keras.layers.BatchNormalization()\n",
        "last=Capsule(10,16)"
      ],
      "metadata": {
        "id": "Eqj28O3EoG_K"
      },
      "execution_count": 5,
      "outputs": []
    },
    {
      "cell_type": "code",
      "source": [
        "model_input = keras.Input(shape=(32,32,3), batch_size=32)\n",
        "x=c1(model_input)\n",
        "x=bn1(x,training=True)\n",
        "x=c2(x)\n",
        "x=bn2(x,training=True)\n",
        "x=c3(x)\n",
        "x=bn3(x,training=True)\n",
        "x=tf.reshape(x,[-1,16*32,16])\n",
        "x=last(x)\n",
        "x=tf.cast(x,tf.float32)\n",
        "x = safe_norm(x, axis=2)\n",
        "x = tf.nn.softmax(x,axis=1)\n",
        "model_output = x\n"
      ],
      "metadata": {
        "id": "esnIdI8-oHCZ"
      },
      "execution_count": 6,
      "outputs": []
    },
    {
      "cell_type": "code",
      "source": [
        "model = keras.Model(model_input, model_output)"
      ],
      "metadata": {
        "id": "-U6EXeQWoHNC"
      },
      "execution_count": 7,
      "outputs": []
    },
    {
      "cell_type": "code",
      "source": [
        "adam = tf.keras.optimizers.Adam(learning_rate=0.0001) \n",
        "model.compile(loss=margin_loss,\n",
        "              optimizer=adam,\n",
        "              metrics=tf.keras.metrics.CategoricalAccuracy())\n",
        "model.summary()"
      ],
      "metadata": {
        "colab": {
          "base_uri": "https://localhost:8080/"
        },
        "id": "i1OpHhb2oHPW",
        "outputId": "14528d9b-2bdd-4845-adbf-540cf176b48a"
      },
      "execution_count": 8,
      "outputs": [
        {
          "output_type": "stream",
          "name": "stdout",
          "text": [
            "Model: \"model\"\n",
            "_________________________________________________________________\n",
            " Layer (type)                Output Shape              Param #   \n",
            "=================================================================\n",
            " input_1 (InputLayer)        [(32, 32, 32, 3)]         0         \n",
            "                                                                 \n",
            " conv2d (Conv2D)             (32, 28, 28, 16)          1216      \n",
            "                                                                 \n",
            " batch_normalization (BatchN  (32, 28, 28, 16)         64        \n",
            " ormalization)                                                   \n",
            "                                                                 \n",
            " conv2d_1 (Conv2D)           (32, 24, 24, 16)          6416      \n",
            "                                                                 \n",
            " batch_normalization_1 (Batc  (32, 24, 24, 16)         64        \n",
            " hNormalization)                                                 \n",
            "                                                                 \n",
            " conv2d_2 (Conv2D)           (32, 16, 16, 32)          41504     \n",
            "                                                                 \n",
            " batch_normalization_2 (Batc  (32, 16, 16, 32)         128       \n",
            " hNormalization)                                                 \n",
            "                                                                 \n",
            " tf.reshape (TFOpLambda)     (32, 512, 16)             0         \n",
            "                                                                 \n",
            " capsule (Capsule)           (32, 10, 16)              1310720   \n",
            "                                                                 \n",
            " tf.cast (TFOpLambda)        (32, 10, 16)              0         \n",
            "                                                                 \n",
            " tf.math.square (TFOpLambda)  (32, 10, 16)             0         \n",
            "                                                                 \n",
            " tf.math.reduce_sum (TFOpLam  (32, 10)                 0         \n",
            " bda)                                                            \n",
            "                                                                 \n",
            " tf.__operators__.add (TFOpL  (32, 10)                 0         \n",
            " ambda)                                                          \n",
            "                                                                 \n",
            " tf.math.sqrt (TFOpLambda)   (32, 10)                  0         \n",
            "                                                                 \n",
            " tf.nn.softmax (TFOpLambda)  (32, 10)                  0         \n",
            "                                                                 \n",
            "=================================================================\n",
            "Total params: 1,360,112\n",
            "Trainable params: 1,359,984\n",
            "Non-trainable params: 128\n",
            "_________________________________________________________________\n"
          ]
        }
      ]
    },
    {
      "cell_type": "code",
      "source": [
        "# data loading in appropriate formate\n",
        "\n",
        "(x_train, y_train), (x_test, y_test) = keras.datasets.cifar10.load_data()\n",
        "x_train, x_test = x_train / 255.0, x_test / 255.0\n",
        "\n",
        "y_train=tf.keras.utils.to_categorical(y_train)\n",
        "y_test=tf.keras.utils.to_categorical(y_test)\n"
      ],
      "metadata": {
        "colab": {
          "base_uri": "https://localhost:8080/"
        },
        "id": "Y1x7HEYzoHRs",
        "outputId": "b5c819d3-5230-4ffc-ae7f-0c5aa66b9996"
      },
      "execution_count": 9,
      "outputs": [
        {
          "output_type": "stream",
          "name": "stdout",
          "text": [
            "Downloading data from https://www.cs.toronto.edu/~kriz/cifar-10-python.tar.gz\n",
            "170498071/170498071 [==============================] - 6s 0us/step\n"
          ]
        }
      ]
    },
    {
      "cell_type": "code",
      "source": [
        "print(x_train.shape,x_test.shape,y_train.shape,y_test.shape)  "
      ],
      "metadata": {
        "colab": {
          "base_uri": "https://localhost:8080/"
        },
        "id": "0x3OPyZAoHbh",
        "outputId": "c919d5db-1335-4f0d-b088-b4b8fa7cd093"
      },
      "execution_count": 10,
      "outputs": [
        {
          "output_type": "stream",
          "name": "stdout",
          "text": [
            "(50000, 32, 32, 3) (10000, 32, 32, 3) (50000, 10) (10000, 10)\n"
          ]
        }
      ]
    },
    {
      "cell_type": "code",
      "source": [
        "train_dataset = tf.data.Dataset.from_tensor_slices((x_train, y_train))\n",
        "test_dataset = tf.data.Dataset.from_tensor_slices((x_test, y_test))\n",
        "BATCH_SIZE = 32\n",
        "SHUFFLE_BUFFER_SIZE = 100\n",
        "\n",
        "train_dataset = train_dataset.shuffle(SHUFFLE_BUFFER_SIZE).batch(BATCH_SIZE)\n",
        "validation_dataset = test_dataset.batch(BATCH_SIZE)"
      ],
      "metadata": {
        "id": "gcBUcqBNfCVt"
      },
      "execution_count": 11,
      "outputs": []
    },
    {
      "cell_type": "code",
      "source": [
        "#optimization parameter setting.\n",
        "AUTOTUNE = tf.data.AUTOTUNE\n",
        "\n",
        "train_dataset = train_dataset.prefetch(buffer_size=AUTOTUNE)\n",
        "validation_dataset = validation_dataset.prefetch(buffer_size=AUTOTUNE)"
      ],
      "metadata": {
        "id": "LKxy8jT4fHM8"
      },
      "execution_count": 12,
      "outputs": []
    },
    {
      "cell_type": "code",
      "source": [
        "\"\"\"customize training loop.\"\"\"\n",
        "\n",
        "# Instantiate an optimizer to train the model.\n",
        "base_learning_rate = 0.0001\n",
        "optimizer = tf.keras.optimizers.Adam(learning_rate=base_learning_rate)\n",
        "# Instantiate a loss function.\n",
        "loss_fn = margin_loss\n",
        "\n",
        "# Prepare the metrics.\n",
        "train_acc_metric = tf.keras.metrics.CategoricalAccuracy()\n",
        "val_acc_metric = tf.keras.metrics.CategoricalAccuracy()"
      ],
      "metadata": {
        "id": "7IDhQeqMfPlD"
      },
      "execution_count": 13,
      "outputs": []
    },
    {
      "cell_type": "code",
      "source": [
        "epochs = 20\n",
        "for epoch in range(epochs):\n",
        "    print(\"\\nepoch {}/{}\".format(epoch+1,epochs))\n",
        "    pbar = keras.utils.Progbar(target=int(train_dataset.cardinality()))\n",
        "    metrics = {}\n",
        "\n",
        "    # Iterate over the batches of the dataset.\n",
        "    for step, (x_batch_train, y_true) in enumerate(train_dataset):\n",
        "        #y_true = tf.keras.utils.to_categorical(y_batch_train,num_classes=4)\n",
        "        with tf.GradientTape() as tape:\n",
        "            y_pred=model(x_batch_train) # $ better design needed.\n",
        "            # y_pred is prob. dist.\n",
        "            loss_value = loss_fn(y_true,y_pred) # loss computation\n",
        "        grads = tape.gradient(loss_value, model.trainable_weights) # back prop\n",
        "        optimizer.apply_gradients(zip(grads, model.trainable_weights)) # weight update\n",
        "\n",
        "        # Update training metric.\n",
        "        train_acc_metric.update_state(y_true, y_pred)\n",
        "        metrics.update({'train_acc':train_acc_metric.result()})\n",
        "        pbar.update(step+1, values=metrics.items(), finalize=False)\n",
        "\n",
        "\n",
        "    # Run a validation loop at the end of each epoch.\n",
        "    for x_batch_val, y_batch_val in validation_dataset:\n",
        "      #y_batch_val=tf.keras.utils.to_categorical(y_batch_val,num_classes=4)\n",
        "      val_pred = model(x_batch_val) # $ better design needed\n",
        "      # Update val metrics\n",
        "      val_acc_metric.update_state(y_batch_val, val_pred)\n",
        "\n",
        "    metrics.update({'val_acc':val_acc_metric.result()})\n",
        "    \n",
        "    pbar.update(step+1, values=metrics.items(), finalize=True)\n",
        "    \n",
        "    # Reset training & val metrics at the end of each epoch\n",
        "    train_acc_metric.reset_states()\n",
        "    val_acc_metric.reset_states()"
      ],
      "metadata": {
        "colab": {
          "base_uri": "https://localhost:8080/"
        },
        "id": "tQWrAjtafsGb",
        "outputId": "34c34f92-f5f2-467e-a75f-d987fad10361"
      },
      "execution_count": null,
      "outputs": [
        {
          "output_type": "stream",
          "name": "stdout",
          "text": [
            "\n",
            "epoch 1/20\n",
            "1563/1563 [==============================] - 287s 177ms/step - train_acc: 0.1543 - val_acc: 0.2061\n",
            "\n",
            "epoch 2/20\n",
            "1563/1563 [==============================] - 250s 160ms/step - train_acc: 0.2078 - val_acc: 0.2187\n",
            "\n",
            "epoch 3/20\n",
            "1563/1563 [==============================] - 268s 171ms/step - train_acc: 0.1827 - val_acc: 0.1000\n",
            "\n",
            "epoch 4/20\n",
            "1563/1563 [==============================] - 257s 164ms/step - train_acc: 0.0997 - val_acc: 0.1000\n",
            "\n",
            "epoch 5/20\n",
            "1563/1563 [==============================] - 285s 183ms/step - train_acc: 0.0995 - val_acc: 0.1000\n",
            "\n",
            "epoch 6/20\n",
            "1563/1563 [==============================] - 285s 183ms/step - train_acc: 0.0997 - val_acc: 0.1000\n",
            "\n",
            "epoch 7/20\n",
            "1563/1563 [==============================] - 285s 183ms/step - train_acc: 0.0996 - val_acc: 0.1000\n",
            "\n",
            "epoch 8/20\n",
            "1563/1563 [==============================] - 285s 183ms/step - train_acc: 0.0996 - val_acc: 0.1000\n",
            "\n",
            "epoch 9/20\n",
            "1563/1563 [==============================] - 253s 162ms/step - train_acc: 0.0997 - val_acc: 0.1000\n",
            "\n",
            "epoch 10/20\n",
            "1233/1563 [======================>.......] - ETA: 48s - train_acc: 0.0995"
          ]
        }
      ]
    },
    {
      "cell_type": "code",
      "source": [],
      "metadata": {
        "id": "zraGWzHrf8o_"
      },
      "execution_count": null,
      "outputs": []
    }
  ]
}