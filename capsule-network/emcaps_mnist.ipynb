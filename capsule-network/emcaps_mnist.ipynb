{
  "cells": [
    {
      "cell_type": "code",
      "execution_count": 1,
      "metadata": {
        "id": "-DCbvfO3CvPM"
      },
      "outputs": [],
      "source": [
        "import numpy as np\n",
        "import tensorflow as tf\n",
        "from tensorflow import keras"
      ]
    },
    {
      "cell_type": "code",
      "execution_count": 2,
      "metadata": {
        "id": "9qRNpO1Wx61L"
      },
      "outputs": [],
      "source": [
        "import tensorflow_probability as tfp"
      ]
    },
    {
      "cell_type": "code",
      "execution_count": 3,
      "metadata": {
        "id": "iEc0gm13CvME"
      },
      "outputs": [],
      "source": [
        "%matplotlib inline\n",
        "import matplotlib\n",
        "import matplotlib.pyplot as plt"
      ]
    },
    {
      "cell_type": "code",
      "execution_count": 4,
      "metadata": {
        "id": "VsKVCiHmyQdU"
      },
      "outputs": [],
      "source": [
        "from scipy import random"
      ]
    },
    {
      "cell_type": "code",
      "execution_count": 5,
      "metadata": {
        "id": "YJpp1ZU8CvI7"
      },
      "outputs": [],
      "source": [
        "import os\n",
        "import time"
      ]
    },
    {
      "cell_type": "code",
      "execution_count": 6,
      "metadata": {
        "id": "ppnv09zACvGE"
      },
      "outputs": [],
      "source": [
        "@tf.function\n",
        "def squash(x, axis=-1):\n",
        "    s_squared_norm = tf.math.reduce_sum(tf.math.square(x), axis, keepdims=True) + keras.backend.epsilon()\n",
        "    scale = tf.math.sqrt(s_squared_norm) / (1 + s_squared_norm)\n",
        "    return scale * x\n",
        "\n",
        "@tf.function\n",
        "def margin_loss(y_true, y_pred):\n",
        "    lamb, margin = 0.5, 0.1\n",
        "    return tf.math.reduce_sum((y_true * tf.math.square(tf.nn.relu(1 - margin - y_pred)) + lamb * (\n",
        "        1 - y_true) * tf.math.square(tf.nn.relu(y_pred - margin))), axis=-1)\n",
        "\n",
        "#@tf.function\n",
        "def safe_norm(s, axis=-1, epsilon=1e-7, keep_dims=False):\n",
        "        squared_norm = tf.reduce_sum(tf.square(s),axis=axis,keepdims=keep_dims)\n",
        "        return tf.sqrt(squared_norm + epsilon)"
      ]
    },
    {
      "cell_type": "code",
      "execution_count": 7,
      "metadata": {
        "id": "FWhXR-7ZTka9"
      },
      "outputs": [],
      "source": [
        "class Capsule(keras.layers.Layer):\n",
        "   \n",
        "\n",
        "    def __init__(self,\n",
        "                 num_capsule,\n",
        "                 dim_capsule,\n",
        "                 routings=3,\n",
        "                 **kwargs):\n",
        "        super(Capsule, self).__init__(**kwargs)\n",
        "        self.caps_n = num_capsule\n",
        "        self.caps_dim = dim_capsule\n",
        "        self.r = routings\n",
        "\n",
        "    def get_config(self):\n",
        "        config = super().get_config().copy()\n",
        "        config.update({\n",
        "        'num_capsule':  self.caps_n,\n",
        "        'dim_capsule' : self.caps_dim,\n",
        "        'routings':  self.r,      \n",
        "        })\n",
        "        return config\n",
        "\n",
        "    def build(self, input_shape):\n",
        "\n",
        "        batch_size = input_shape[0]\n",
        "        n=input_shape[1]\n",
        "        k=self.caps_n\n",
        "        d=self.caps_dim\n",
        "\n",
        "        self.W = self.add_weight(name='W',\n",
        "                    shape=[1, input_shape[1], self.caps_n, self.caps_dim, input_shape[-1]],\n",
        "                    dtype=tf.float64,\n",
        "                    initializer='glorot_uniform',\n",
        "                    trainable=True)\n",
        "        \n",
        "        #initialization step.\n",
        "        init_mu = random.rand(batch_size,k, d)*20 - 10\n",
        "        self.mu = init_mu #initializing mean.\n",
        "\n",
        "        init_sigma = np.zeros((k, d, d))\n",
        "        for i in range(k):\n",
        "            init_sigma[i] = np.eye(d)\n",
        "        sigma = init_sigma\n",
        "        sigma=tf.expand_dims(sigma,axis=0)\n",
        "        self.sigma=tf.tile(sigma,[batch_size,1,1,1]) # initializing cov matrix.\n",
        "\n",
        "        init_pi = np.ones(k)/k\n",
        "        pi = init_pi\n",
        "        pi=tf.expand_dims(pi,axis=0)\n",
        "        self.pi=tf.tile(pi,[batch_size,1])\n",
        "\n",
        "        R=np.zeros(shape=(n,k))\n",
        "        R=tf.expand_dims(R,axis=0)\n",
        "        self.R=tf.tile(R,[batch_size,1,1]) # coupling coefficient.\n",
        "        \n",
        "    def call(self, input_tensor):\n",
        "        assert input_tensor.shape[2]==self.caps_dim\n",
        "        input_tensor=tf.cast(input_tensor,dtype=tf.float64)\n",
        "        assert input_tensor.dtype==tf.float64\n",
        "        batch_size = input_tensor.shape[0]\n",
        "        n=input_tensor.shape[1]\n",
        "        k=self.caps_n\n",
        "        d=self.caps_dim\n",
        "        \n",
        "        W_tiled = tf.tile(self.W, [batch_size, 1, 1, 1, 1]) # replicating the weights for parallel processing of a batch.\n",
        "        \"\"\" W_tiled.shape=[batch_size,caps_n(i-1),caps_n(i),caps_dim(i),caps_dim(i-1)] \"\"\"\n",
        "\n",
        "        caps_output_expanded = tf.expand_dims(input_tensor, -1) # converting last dim to a column vector.\n",
        "        \"\"\" the above step change the input shape from \n",
        "            [batch_size,caps_n(i-1),caps_dim(i-1)] --> [batch_size,caps_n(i-1),caps_dim(i-1),1]\"\"\"\n",
        "\n",
        "        caps_output_tile = tf.expand_dims(caps_output_expanded, 2)\n",
        "        \"\"\" the above step change the input shape from \n",
        "            [batch_size,caps_n(i-1),caps_dim(i-1),1] --> [batch_size,caps_n(i-1),1,caps_dim(i-1),1]\"\"\"\n",
        "\n",
        "        caps_output_tiled = tf.tile(caps_output_tile, [1, 1, self.caps_n, 1, 1]) # replicating the input capsule vector for every output capsule.\n",
        "        \"\"\" i.e [batch_size,caps_n(i-1),1,caps_dim(i-1),1] --> [batch_size,caps_n(i-1),caps_n(i),1,caps_dim(i-1),1]\"\"\"\n",
        "\n",
        "        caps_predicted = tf.matmul(W_tiled, caps_output_tiled) # this is performing element wise tf.matmul() operation.\n",
        "        \"\"\" caps_predicted.shape = [1,caps_n(i-1),caps_n(i),caps_dim(i),1]\"\"\"\n",
        "\n",
        "        \"\"\" dynamic routing \"\"\"\n",
        "        \"\"\"#initialization step.\n",
        "        init_mu = random.rand(batch_size,k, d)*20 - 10\n",
        "        mu = init_mu #initializing mean.\n",
        "\n",
        "        init_sigma = np.zeros((k, d, d))\n",
        "        for i in range(k):\n",
        "            init_sigma[i] = np.eye(d)\n",
        "        sigma = init_sigma\n",
        "        sigma=tf.expand_dims(sigma,axis=0)\n",
        "        sigma=tf.tile(sigma,[batch_size,1,1,1]) # initializing cov matrix.\n",
        "\n",
        "        init_pi = np.ones(k)/k\n",
        "        pi = init_pi\n",
        "        pi=tf.expand_dims(pi,axis=0)\n",
        "        pi=tf.tile(pi,[batch_size,1])\n",
        "\n",
        "        R=np.zeros(shape=(n,k))\n",
        "        R=tf.expand_dims(R,axis=0)\n",
        "        R=tf.tile(R,[batch_size,1,1]) # coupling coefficient.\"\"\"\n",
        "\n",
        "        pi=tf.Variable(self.pi,dtype=tf.float64)\n",
        "        mu=tf.Variable(self.mu,dtype=tf.float64)\n",
        "        sigma=tf.Variable(self.sigma,dtype=tf.float64)\n",
        "        R=tf.Variable(self.R,dtype=tf.float64)\n",
        "\n",
        "        #print(mu.shape,pi.shape,sigma.shape,R.shape)\n",
        "\n",
        "        N=np.zeros((batch_size,n))\n",
        "        N=tf.Variable(N,dtype=tf.float64)\n",
        "\n",
        "        r=self.r\n",
        "        while(r):\n",
        "          r=r-1\n",
        "          # E-step.\n",
        "          for i in range(k):\n",
        "              #tileing mu & sigma for 1 pass computation\n",
        "              \"\"\" for processing the whole batch at once.\"\"\"\n",
        "              mu_tmp=tf.expand_dims(mu[:,i,:,],axis=1)\n",
        "              mu_tmp=tf.tile(mu_tmp,[1,n,1])\n",
        "\n",
        "              sig_tmp=tf.expand_dims(sigma[:,i,:,:,],axis=1)\n",
        "              sig_tmp=tf.tile(sig_tmp,[1,n,1,1])\n",
        "\n",
        "              \n",
        "              N = tfp.distributions.MultivariateNormalFullCovariance(loc=mu_tmp,\n",
        "                                                              covariance_matrix=sig_tmp).prob(input_tensor)\n",
        "\n",
        "              R[:,:,i].assign(tf.expand_dims(pi[:,i],axis=1)*N)\n",
        "          R.assign(R/tf.reduce_sum(R,axis=2, keepdims=True))\n",
        "\n",
        "          # M-step\n",
        "          N_k=tf.reduce_sum(R,axis=1)\n",
        "          pi=N_k/n\n",
        "          mu=tf.matmul(tf.transpose(R,perm=[0,2,1]),input_tensor)\n",
        "          mu=mu/N_k[:,:,None]\n",
        "\n",
        "          for i in range(k):\n",
        "              tmp=input_tensor-tf.expand_dims(mu[:,i,:],axis=1)\n",
        "              tmp=tf.expand_dims(tmp,axis=-1)\n",
        "              tmp_T=tf.transpose(tmp,perm=[0,1,3,2])\n",
        "              res=tf.matmul(tmp,tmp_T)\n",
        "              res=tf.multiply(tf.reshape(R[:,:,i],[batch_size,n,1,1]),res)\n",
        "              res=tf.reduce_sum(res,axis=1)/tf.reshape(N_k[:,i],[batch_size,1,1])\n",
        "              sigma[:,i].assign(res)\n",
        "              \n",
        "        weighted_prediction=tf.multiply(caps_predicted,tf.reshape(R,[batch_size,n,k,1,1]))\n",
        "        weighted_sum = tf.reduce_sum(weighted_prediction, axis=1, keepdims=True)\n",
        "        v=squash(weighted_sum, axis=-2)\n",
        "        v = tf.squeeze(v, axis=[1,4])\n",
        "        return v\n",
        "\n",
        "    def compute_output_signature(self,input_shape):\n",
        "      return tf.TensorSpec(shape=[input_shape[0],self.caps_n,self.caps_dim],dtype=tf.float64)"
      ]
    },
    {
      "cell_type": "code",
      "execution_count": 8,
      "metadata": {
        "id": "JYtOCQh1wlth"
      },
      "outputs": [],
      "source": [
        "c1=tf.keras.layers.Conv2D(16,kernel_size=5,strides=1,padding='valid',activation='relu')\n",
        "c2=tf.keras.layers.Conv2D(32,kernel_size=9,strides=1,padding='valid',activation='relu')\n",
        "bn1=tf.keras.layers.BatchNormalization()\n",
        "bn2=tf.keras.layers.BatchNormalization()\n",
        "last=Capsule(10,16)"
      ]
    },
    {
      "cell_type": "code",
      "execution_count": 9,
      "metadata": {
        "colab": {
          "base_uri": "https://localhost:8080/"
        },
        "id": "4U_8gALDxOce",
        "outputId": "11cac896-77cf-4542-d0ce-09247029e6ae"
      },
      "outputs": [
        {
          "output_type": "stream",
          "name": "stderr",
          "text": [
            "WARNING:tensorflow:From /usr/local/lib/python3.7/dist-packages/tensorflow_probability/python/distributions/distribution.py:342: MultivariateNormalFullCovariance.__init__ (from tensorflow_probability.python.distributions.mvn_full_covariance) is deprecated and will be removed after 2019-12-01.\n",
            "Instructions for updating:\n",
            "`MultivariateNormalFullCovariance` is deprecated, use `MultivariateNormalTriL(loc=loc, scale_tril=tf.linalg.cholesky(covariance_matrix))` instead.\n"
          ]
        }
      ],
      "source": [
        "model_input = keras.Input(shape=(28,28,1), batch_size=32)\n",
        "x=c1(model_input)\n",
        "x=bn1(x,training=True)\n",
        "x=c2(x)\n",
        "x=bn2(x,training=True)\n",
        "x=tf.reshape(x,[-1,16*32,16])\n",
        "x=last(x)\n",
        "x=tf.cast(x,tf.float32)\n",
        "x=safe_norm(x, axis=2)\n",
        "model_output = x"
      ]
    },
    {
      "cell_type": "code",
      "execution_count": 10,
      "metadata": {
        "id": "nppmjLwYIGjm"
      },
      "outputs": [],
      "source": [
        "model = keras.Model(model_input, model_output, name=\"encoder\")"
      ]
    },
    {
      "cell_type": "code",
      "execution_count": 11,
      "metadata": {
        "colab": {
          "base_uri": "https://localhost:8080/"
        },
        "id": "cevc6Sx6IZOR",
        "outputId": "07d775ce-a6aa-4911-9775-6b4423c4c933"
      },
      "outputs": [
        {
          "output_type": "stream",
          "name": "stdout",
          "text": [
            "Model: \"encoder\"\n",
            "_________________________________________________________________\n",
            " Layer (type)                Output Shape              Param #   \n",
            "=================================================================\n",
            " input_1 (InputLayer)        [(32, 28, 28, 1)]         0         \n",
            "                                                                 \n",
            " conv2d (Conv2D)             (32, 24, 24, 16)          416       \n",
            "                                                                 \n",
            " batch_normalization (BatchN  (32, 24, 24, 16)         64        \n",
            " ormalization)                                                   \n",
            "                                                                 \n",
            " conv2d_1 (Conv2D)           (32, 16, 16, 32)          41504     \n",
            "                                                                 \n",
            " batch_normalization_1 (Batc  (32, 16, 16, 32)         128       \n",
            " hNormalization)                                                 \n",
            "                                                                 \n",
            " tf.reshape (TFOpLambda)     (32, 512, 16)             0         \n",
            "                                                                 \n",
            " capsule (Capsule)           (32, 10, 16)              1310720   \n",
            "                                                                 \n",
            " tf.cast (TFOpLambda)        (32, 10, 16)              0         \n",
            "                                                                 \n",
            " tf.math.square (TFOpLambda)  (32, 10, 16)             0         \n",
            "                                                                 \n",
            " tf.math.reduce_sum (TFOpLam  (32, 10)                 0         \n",
            " bda)                                                            \n",
            "                                                                 \n",
            " tf.__operators__.add (TFOpL  (32, 10)                 0         \n",
            " ambda)                                                          \n",
            "                                                                 \n",
            " tf.math.sqrt (TFOpLambda)   (32, 10)                  0         \n",
            "                                                                 \n",
            "=================================================================\n",
            "Total params: 1,352,832\n",
            "Trainable params: 1,352,736\n",
            "Non-trainable params: 96\n",
            "_________________________________________________________________\n"
          ]
        }
      ],
      "source": [
        "adam = tf.keras.optimizers.Adam(learning_rate=0.0001) \n",
        "\n",
        "model.compile(loss=margin_loss, optimizer=adam, metrics=tf.keras.metrics.CategoricalAccuracy())\n",
        "model.summary()"
      ]
    },
    {
      "cell_type": "code",
      "execution_count": 12,
      "metadata": {
        "colab": {
          "base_uri": "https://localhost:8080/"
        },
        "id": "5AxNPvfpIahl",
        "outputId": "7a10ff21-5b6e-41ef-a734-fc2d69683925"
      },
      "outputs": [
        {
          "output_type": "stream",
          "name": "stdout",
          "text": [
            "Downloading data from https://storage.googleapis.com/tensorflow/tf-keras-datasets/mnist.npz\n",
            "11490434/11490434 [==============================] - 0s 0us/step\n"
          ]
        }
      ],
      "source": [
        "# data loading in appropriate formate\n",
        "\n",
        "mnist = tf.keras.datasets.mnist\n",
        "\n",
        "(x_train, y_train), (x_test, y_test) = mnist.load_data()\n",
        "x_train, x_test = x_train / 255.0, x_test / 255.0\n",
        "\n",
        "# Add a channels dimension\n",
        "x_train = x_train[..., tf.newaxis].astype(\"float32\")\n",
        "x_test = x_test[..., tf.newaxis].astype(\"float32\")\n",
        "\n",
        "y_train=tf.keras.utils.to_categorical(y_train)\n",
        "y_test=tf.keras.utils.to_categorical(y_test)"
      ]
    },
    {
      "cell_type": "code",
      "execution_count": 13,
      "metadata": {
        "id": "lM4ie9BcIlpO"
      },
      "outputs": [],
      "source": [
        "train_dataset = tf.data.Dataset.from_tensor_slices((x_train, y_train))\n",
        "validation_dataset = tf.data.Dataset.from_tensor_slices((x_test, y_test))\n",
        "BATCH_SIZE = 32\n",
        "SHUFFLE_BUFFER_SIZE = 100\n",
        "\n",
        "train_dataset = train_dataset.shuffle(SHUFFLE_BUFFER_SIZE).batch(BATCH_SIZE)\n",
        "validation_dataset = validation_dataset.batch(BATCH_SIZE)"
      ]
    },
    {
      "cell_type": "code",
      "execution_count": 14,
      "metadata": {
        "id": "lPvfxW7tI2dJ"
      },
      "outputs": [],
      "source": [
        "\"\"\"customize training loop.\"\"\"\n",
        "\n",
        "# Instantiate an optimizer to train the model.\n",
        "base_learning_rate = 0.0001\n",
        "optimizer = tf.keras.optimizers.Adam(learning_rate=base_learning_rate)\n",
        "# Instantiate a loss function.\n",
        "loss_fn = margin_loss\n",
        "\n",
        "# Prepare the metrics.\n",
        "train_acc_metric = tf.keras.metrics.CategoricalAccuracy()\n",
        "val_acc_metric = tf.keras.metrics.CategoricalAccuracy()"
      ]
    },
    {
      "cell_type": "code",
      "execution_count": null,
      "metadata": {
        "colab": {
          "base_uri": "https://localhost:8080/"
        },
        "id": "HlWH6qqjI5GX",
        "outputId": "95ef06c5-ece1-4d57-aefe-655ee81cb635"
      },
      "outputs": [
        {
          "output_type": "stream",
          "name": "stdout",
          "text": [
            "\n",
            "epoch 1/30\n",
            " 147/1875 [=>............................] - ETA: 21:17 - train_acc: 0.0972"
          ]
        }
      ],
      "source": [
        "epochs = 30\n",
        "for epoch in range(epochs):\n",
        "    print(\"\\nepoch {}/{}\".format(epoch+1,epochs))\n",
        "    pbar = keras.utils.Progbar(target=int(train_dataset.cardinality()))\n",
        "    metrics = {}\n",
        "\n",
        "    # Iterate over the batches of the dataset.\n",
        "    for step, (x_batch_train, y_batch_train) in enumerate(train_dataset):\n",
        "        y_true = y_batch_train\n",
        "        with tf.GradientTape() as tape:\n",
        "            y_pred=model(x_batch_train) # $ better design needed.\n",
        "            # y_pred is prob. dist.\n",
        "            loss_value = loss_fn(y_true,y_pred) # loss computation\n",
        "        grads = tape.gradient(loss_value, model.trainable_weights) # back prop\n",
        "        optimizer.apply_gradients(zip(grads, model.trainable_weights)) # weight update\n",
        "\n",
        "        # Update training metric.\n",
        "        train_acc_metric.update_state(y_true, y_pred)\n",
        "        metrics.update({'train_acc':train_acc_metric.result()})\n",
        "        pbar.update(step+1, values=metrics.items(), finalize=False)\n",
        "\n",
        "\n",
        "    # Run a validation loop at the end of each epoch.\n",
        "    for x_batch_val, y_batch_val in validation_dataset:\n",
        "      val_pred = model(x_batch_val) # $ better design needed\n",
        "      # Update val metrics\n",
        "      val_acc_metric.update_state(y_batch_val, val_pred)\n",
        "\n",
        "    metrics.update({'val_acc':val_acc_metric.result()})\n",
        "    \n",
        "    pbar.update(step+1, values=metrics.items(), finalize=True)\n",
        "    \n",
        "    # Reset training & val metrics at the end of each epoch\n",
        "    train_acc_metric.reset_states()\n",
        "    val_acc_metric.reset_states()"
      ]
    },
    {
      "cell_type": "code",
      "execution_count": null,
      "metadata": {
        "colab": {
          "background_save": true
        },
        "id": "-LysWSksJnvn"
      },
      "outputs": [],
      "source": []
    }
  ],
  "metadata": {
    "colab": {
      "provenance": []
    },
    "kernelspec": {
      "display_name": "Python 3",
      "name": "python3"
    },
    "language_info": {
      "name": "python"
    },
    "accelerator": "GPU"
  },
  "nbformat": 4,
  "nbformat_minor": 0
}