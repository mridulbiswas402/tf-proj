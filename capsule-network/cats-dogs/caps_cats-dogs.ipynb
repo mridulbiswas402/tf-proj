{
  "nbformat": 4,
  "nbformat_minor": 0,
  "metadata": {
    "colab": {
      "provenance": []
    },
    "kernelspec": {
      "name": "python3",
      "display_name": "Python 3"
    },
    "language_info": {
      "name": "python"
    },
    "gpuClass": "standard",
    "accelerator": "GPU"
  },
  "cells": [
    {
      "cell_type": "code",
      "execution_count": 1,
      "metadata": {
        "id": "zmQwP2-_Gl0A"
      },
      "outputs": [],
      "source": [
        "import numpy as np\n",
        "import tensorflow as tf\n",
        "from tensorflow import keras"
      ]
    },
    {
      "cell_type": "code",
      "source": [
        "from keras.engine import data_adapter"
      ],
      "metadata": {
        "id": "RkpRtymlqAb3"
      },
      "execution_count": 2,
      "outputs": []
    },
    {
      "cell_type": "code",
      "source": [
        "%matplotlib inline\n",
        "import matplotlib\n",
        "import matplotlib.pyplot as plt"
      ],
      "metadata": {
        "id": "FTzA6fy_Gvnp"
      },
      "execution_count": 3,
      "outputs": []
    },
    {
      "cell_type": "code",
      "source": [
        "import os\n",
        "import time"
      ],
      "metadata": {
        "id": "njM193-baa26"
      },
      "execution_count": 4,
      "outputs": []
    },
    {
      "cell_type": "code",
      "source": [
        "@tf.function\n",
        "def squash(x, axis=-1):\n",
        "    s_squared_norm = tf.math.reduce_sum(tf.math.square(x), axis, keepdims=True) + keras.backend.epsilon()\n",
        "    scale = tf.math.sqrt(s_squared_norm) / (1 + s_squared_norm)\n",
        "    return scale * x\n",
        "\n",
        "@tf.function\n",
        "def margin_loss(y_true, y_pred):\n",
        "    lamb, margin = 0.5, 0.1\n",
        "    return tf.math.reduce_sum((y_true * tf.math.square(tf.nn.relu(1 - margin - y_pred)) + lamb * (\n",
        "        1 - y_true) * tf.math.square(tf.nn.relu(y_pred - margin))), axis=-1)\n",
        "\n",
        "#@tf.function\n",
        "def safe_norm(s, axis=-1, epsilon=1e-7, keep_dims=False):\n",
        "        squared_norm = tf.reduce_sum(tf.square(s),axis=axis,keepdims=keep_dims)\n",
        "        return tf.sqrt(squared_norm + epsilon)\n",
        "    \n"
      ],
      "metadata": {
        "id": "I3-j_MOkaCtf"
      },
      "execution_count": 5,
      "outputs": []
    },
    {
      "cell_type": "code",
      "source": [
        "\n",
        "#downloading data.\n",
        "_URL = 'https://storage.googleapis.com/mledu-datasets/cats_and_dogs_filtered.zip'\n",
        "path_to_zip = tf.keras.utils.get_file('cats_and_dogs.zip', origin=_URL, extract=True)\n",
        "PATH = os.path.join(os.path.dirname(path_to_zip), 'cats_and_dogs_filtered')\n",
        "\n",
        "train_dir = os.path.join(PATH, 'train')\n",
        "validation_dir = os.path.join(PATH, 'validation')\n",
        "\n",
        "BATCH_SIZE = 32\n",
        "IMG_SIZE = (128, 128)\n",
        "\n",
        "#train data\n",
        "train_dataset = tf.keras.utils.image_dataset_from_directory(train_dir,\n",
        "                                                            shuffle=True,\n",
        "                                                            batch_size=BATCH_SIZE,\n",
        "                                                            image_size=IMG_SIZE)\n",
        "\n",
        "print('Number of validation batches: %d' % tf.data.experimental.cardinality(train_dataset))\n",
        "\n",
        "#validation model.\n",
        "validation_dataset = tf.keras.utils.image_dataset_from_directory(validation_dir,\n",
        "                                                                 shuffle=True,\n",
        "                                                                 batch_size=BATCH_SIZE,\n",
        "                                                                 image_size=IMG_SIZE)\n",
        "\n",
        "\n",
        "# creating test data.\n",
        "val_batches = tf.data.experimental.cardinality(validation_dataset)\n",
        "test_dataset = validation_dataset.take(val_batches // 5)\n",
        "validation_dataset = validation_dataset.skip(val_batches // 5)\n",
        "\n",
        "print('Number of validation batches: %d' % tf.data.experimental.cardinality(validation_dataset))\n",
        "print('Number of test batches: %d' % tf.data.experimental.cardinality(test_dataset))\n",
        "\n",
        "\n",
        "#y_train=tf.keras.utils.to_categorical(y_train)\n",
        "#y_test=tf.keras.utils.to_categorical(y_test)"
      ],
      "metadata": {
        "colab": {
          "base_uri": "https://localhost:8080/"
        },
        "id": "ES7neHl9Gx-o",
        "outputId": "84f3f15c-b5bb-4851-daa4-ca33afd5981f"
      },
      "execution_count": 13,
      "outputs": [
        {
          "output_type": "stream",
          "name": "stdout",
          "text": [
            "Found 2000 files belonging to 2 classes.\n",
            "Number of validation batches: 63\n",
            "Found 1000 files belonging to 2 classes.\n",
            "Number of validation batches: 26\n",
            "Number of test batches: 6\n"
          ]
        }
      ]
    },
    {
      "cell_type": "code",
      "source": [
        "\n",
        "#optimization parameter setting.\n",
        "AUTOTUNE = tf.data.AUTOTUNE\n",
        "\n",
        "train_dataset = train_dataset.prefetch(buffer_size=AUTOTUNE)\n",
        "validation_dataset = validation_dataset.prefetch(buffer_size=AUTOTUNE)\n",
        "test_dataset = test_dataset.prefetch(buffer_size=AUTOTUNE)\n"
      ],
      "metadata": {
        "id": "1IaqLHuAwxYt"
      },
      "execution_count": 7,
      "outputs": []
    },
    {
      "cell_type": "code",
      "source": [
        "class Capsule(keras.layers.Layer):\n",
        "   \n",
        "\n",
        "    def __init__(self,\n",
        "                 num_capsule,\n",
        "                 dim_capsule,\n",
        "                 routings=3,\n",
        "                 **kwargs):\n",
        "        super(Capsule, self).__init__(**kwargs)\n",
        "        self.caps_n = num_capsule\n",
        "        self.caps_dim = dim_capsule\n",
        "        self.r = routings\n",
        "\n",
        "    def get_config(self):\n",
        "        config = super().get_config().copy()\n",
        "        config.update({\n",
        "        'num_capsule':  self.caps_n,\n",
        "        'dim_capsule' : self.caps_dim,\n",
        "        'routings':  self.r,      \n",
        "        })\n",
        "        return config\n",
        "\n",
        "    def build(self, input_shape):\n",
        "        \n",
        "        self.W = self.add_weight(name='W',\n",
        "                    shape=[1, input_shape[1], self.caps_n, self.caps_dim, input_shape[-1]],\n",
        "                    dtype=tf.float32,\n",
        "                    initializer='glorot_uniform',\n",
        "                    trainable=True)\n",
        "\n",
        "    def call(self, input_tensor):\n",
        "        batch_size = input_tensor.shape[0]\n",
        "        \n",
        "        W_tiled = tf.tile(self.W, [batch_size, 1, 1, 1, 1]) # replicating the weights for parallel processing of a batch.\n",
        "        \"\"\" W_tiled.shape=[batch_size,caps_n(i-1),caps_n(i),caps_dim(i),caps_dim(i-1)] \"\"\"\n",
        "\n",
        "        caps_output_expanded = tf.expand_dims(input_tensor, -1) # converting last dim to a column vector.\n",
        "        \"\"\" the above step change the input shape from \n",
        "            [batch_size,caps_n(i-1),caps_dim(i-1)] --> [batch_size,caps_n(i-1),caps_dim(i-1),1]\"\"\"\n",
        "\n",
        "        caps_output_tile = tf.expand_dims(caps_output_expanded, 2)\n",
        "        \"\"\" the above step change the input shape from \n",
        "            [batch_size,caps_n(i-1),caps_dim(i-1),1] --> [batch_size,caps_n(i-1),1,caps_dim(i-1),1]\"\"\"\n",
        "\n",
        "        caps_output_tiled = tf.tile(caps_output_tile, [1, 1, self.caps_n, 1, 1]) # replicating the input capsule vector for every output capsule.\n",
        "        \"\"\" i.e [batch_size,caps_n(i-1),1,caps_dim(i-1),1] --> [batch_size,caps_n(i-1),caps_n(i),1,caps_dim(i-1),1]\"\"\"\n",
        "\n",
        "        caps_predicted = tf.matmul(W_tiled, caps_output_tiled) # this is performing element wise tf.matmul() operation.\n",
        "        \"\"\" caps_predicted.shape = [1,caps_n(i-1),caps_n(i),caps_dim(i),1]\"\"\"\n",
        "\n",
        "        \"\"\" dynamic routing \"\"\"\n",
        "        raw_weights = tf.zeros([batch_size,input_tensor.shape[1] , self.caps_n, 1, 1]) # non trainable weights.\n",
        "        \"\"\" raw_weights.shape=[batch_size,caps_n(i-1) ,caps_n(i), 1, 1]\"\"\"\n",
        "\n",
        "        r=self.r\n",
        "        while(r):\n",
        "          r-=1\n",
        "          routing_weights = tf.nn.softmax(raw_weights,axis=2)\n",
        "          \"\"\" [batch_size,caps_n(i-1) ,caps_n(i), 1, 1]  softmax applied along the pointed dim.\n",
        "                                           ^                                                   \"\"\"\n",
        "\n",
        "          weighted_predictions = tf.multiply(routing_weights, caps_predicted)\n",
        "          \"\"\" weighted_predictions.shape = [batch_size, caps_n(i-1),caps_n(i),caps_dim(i), 1]\"\"\"\n",
        "\n",
        "          weighted_sum = tf.reduce_sum(weighted_predictions, axis=1, keepdims=True)\n",
        "          \"\"\" [batch_size,caps_n(i-1) ,caps_n(i),caps_dim(i), 1]  sum applied along the pointed dim.\n",
        "                               ^                                                               \n",
        "          therefore weighted_sum.shape=[batch_size,1 ,caps_n(i),caps_dim(i), 1]\"\"\"\n",
        "\n",
        "          v = squash(weighted_sum, axis=-2) #normalize to unit length vector.\n",
        "          v_tiled = tf.tile(v, [1, input_tensor.shape[1], 1, 1, 1])\n",
        "          \"\"\" v_tiled.shape=[batch_size,caps_n(i-1),caps_n(i),caps_dim(i), 1]\"\"\"\n",
        "\n",
        "          agreement = tf.matmul(caps_predicted, v_tiled,transpose_a=True)\n",
        "          \"\"\" agreement.shape=[batch_size,caps_n(i-1),caps_n(i), 1, 1]\"\"\"\n",
        "\n",
        "          if(r>0):\n",
        "              routing_weights+=agreement\n",
        "          else:\n",
        "              v = tf.squeeze(v, axis=[1,4])\n",
        "              return v"
      ],
      "metadata": {
        "id": "UJZ0c0hDKstw"
      },
      "execution_count": 8,
      "outputs": []
    },
    {
      "cell_type": "code",
      "source": [
        "c1=tf.keras.layers.Conv2D(16,kernel_size=5,strides=2,padding='valid',activation='relu')\n",
        "c2=tf.keras.layers.Conv2D(32,kernel_size=5,strides=2,padding='valid',activation='relu')\n",
        "c3=tf.keras.layers.Conv2D(64,kernel_size=5,strides=2,padding='valid',activation='relu')\n",
        "c4=tf.keras.layers.Conv2D(128,kernel_size=5,strides=1,padding='valid',activation='relu')\n",
        "dc1=tf.keras.layers.DepthwiseConv2D(kernel_size=9,strides=(1, 1),padding='valid',activation='relu')\n",
        "last=Capsule(2,16)\n",
        "bn1=tf.keras.layers.BatchNormalization()\n",
        "bn2=tf.keras.layers.BatchNormalization()\n",
        "bn3=tf.keras.layers.BatchNormalization()\n",
        "bn4=tf.keras.layers.BatchNormalization()"
      ],
      "metadata": {
        "id": "feQeksWpaH4V"
      },
      "execution_count": 9,
      "outputs": []
    },
    {
      "cell_type": "code",
      "source": [
        "model_input = keras.Input(shape=(128, 128, 3), batch_size=32)\n",
        "x=c1(model_input)\n",
        "x=bn1(x,training=True)\n",
        "x=c2(x)\n",
        "x=bn2(x,training=True)\n",
        "x=c3(x)\n",
        "x=bn3(x,training=True)\n",
        "x=c4(x)\n",
        "x=bn4(x,training=True)\n",
        "x=dc1(x)\n",
        "x=tf.reshape(x,[-1,16,8])\n",
        "x=last(x)\n",
        "x=safe_norm(x, axis=2)\n",
        "model_output = x"
      ],
      "metadata": {
        "id": "a8I_pYcCaSNt"
      },
      "execution_count": 14,
      "outputs": []
    },
    {
      "cell_type": "code",
      "source": [
        "model = keras.Model(model_input, model_output, name=\"encoder\")"
      ],
      "metadata": {
        "id": "cFEYHBLuaYuY"
      },
      "execution_count": 15,
      "outputs": []
    },
    {
      "cell_type": "code",
      "source": [
        "adam = tf.keras.optimizers.Adam(learning_rate=0.0001) \n",
        "\n",
        "model.compile(loss=margin_loss, optimizer=adam, metrics=tf.keras.metrics.CategoricalAccuracy())\n",
        "model.summary()\n"
      ],
      "metadata": {
        "colab": {
          "base_uri": "https://localhost:8080/"
        },
        "id": "XRibkiafacL7",
        "outputId": "ebc88661-3e42-4b68-c9f7-344b17b1e3f7"
      },
      "execution_count": 16,
      "outputs": [
        {
          "output_type": "stream",
          "name": "stdout",
          "text": [
            "Model: \"encoder\"\n",
            "_________________________________________________________________\n",
            " Layer (type)                Output Shape              Param #   \n",
            "=================================================================\n",
            " input_2 (InputLayer)        [(32, 128, 128, 3)]       0         \n",
            "                                                                 \n",
            " conv2d (Conv2D)             multiple                  1216      \n",
            "                                                                 \n",
            " batch_normalization (BatchN  multiple                 64        \n",
            " ormalization)                                                   \n",
            "                                                                 \n",
            " conv2d_1 (Conv2D)           multiple                  12832     \n",
            "                                                                 \n",
            " batch_normalization_1 (Batc  multiple                 128       \n",
            " hNormalization)                                                 \n",
            "                                                                 \n",
            " conv2d_2 (Conv2D)           multiple                  51264     \n",
            "                                                                 \n",
            " batch_normalization_2 (Batc  multiple                 256       \n",
            " hNormalization)                                                 \n",
            "                                                                 \n",
            " conv2d_3 (Conv2D)           multiple                  204928    \n",
            "                                                                 \n",
            " batch_normalization_3 (Batc  multiple                 512       \n",
            " hNormalization)                                                 \n",
            "                                                                 \n",
            " depthwise_conv2d (Depthwise  multiple                 10496     \n",
            " Conv2D)                                                         \n",
            "                                                                 \n",
            " tf.reshape_1 (TFOpLambda)   (32, 16, 8)               0         \n",
            "                                                                 \n",
            " capsule (Capsule)           multiple                  4096      \n",
            "                                                                 \n",
            " tf.math.square_1 (TFOpLambd  (32, 2, 16)              0         \n",
            " a)                                                              \n",
            "                                                                 \n",
            " tf.math.reduce_sum_1 (TFOpL  (32, 2)                  0         \n",
            " ambda)                                                          \n",
            "                                                                 \n",
            " tf.__operators__.add_1 (TFO  (32, 2)                  0         \n",
            " pLambda)                                                        \n",
            "                                                                 \n",
            " tf.math.sqrt_1 (TFOpLambda)  (32, 2)                  0         \n",
            "                                                                 \n",
            "=================================================================\n",
            "Total params: 285,792\n",
            "Trainable params: 285,312\n",
            "Non-trainable params: 480\n",
            "_________________________________________________________________\n"
          ]
        }
      ]
    },
    {
      "cell_type": "code",
      "source": [
        "history = model.fit(train_dataset,validation_data=validation_dataset, epochs=20)"
      ],
      "metadata": {
        "colab": {
          "base_uri": "https://localhost:8080/",
          "height": 571
        },
        "id": "u33gHD7dalVC",
        "outputId": "26dad679-2306-4e03-b4db-4a5e5c18ae2b"
      },
      "execution_count": 17,
      "outputs": [
        {
          "output_type": "stream",
          "name": "stdout",
          "text": [
            "Epoch 1/20\n"
          ]
        },
        {
          "output_type": "error",
          "ename": "TypeError",
          "evalue": "ignored",
          "traceback": [
            "\u001b[0;31m---------------------------------------------------------------------------\u001b[0m",
            "\u001b[0;31mTypeError\u001b[0m                                 Traceback (most recent call last)",
            "\u001b[0;32m<ipython-input-17-7b2eb71be266>\u001b[0m in \u001b[0;36m<module>\u001b[0;34m\u001b[0m\n\u001b[0;32m----> 1\u001b[0;31m \u001b[0mhistory\u001b[0m \u001b[0;34m=\u001b[0m \u001b[0mmodel\u001b[0m\u001b[0;34m.\u001b[0m\u001b[0mfit\u001b[0m\u001b[0;34m(\u001b[0m\u001b[0mtrain_dataset\u001b[0m\u001b[0;34m,\u001b[0m\u001b[0mvalidation_data\u001b[0m\u001b[0;34m=\u001b[0m\u001b[0mvalidation_dataset\u001b[0m\u001b[0;34m,\u001b[0m \u001b[0mepochs\u001b[0m\u001b[0;34m=\u001b[0m\u001b[0;36m20\u001b[0m\u001b[0;34m)\u001b[0m\u001b[0;34m\u001b[0m\u001b[0;34m\u001b[0m\u001b[0m\n\u001b[0m",
            "\u001b[0;32m/usr/local/lib/python3.7/dist-packages/keras/utils/traceback_utils.py\u001b[0m in \u001b[0;36merror_handler\u001b[0;34m(*args, **kwargs)\u001b[0m\n\u001b[1;32m     65\u001b[0m     \u001b[0;32mexcept\u001b[0m \u001b[0mException\u001b[0m \u001b[0;32mas\u001b[0m \u001b[0me\u001b[0m\u001b[0;34m:\u001b[0m  \u001b[0;31m# pylint: disable=broad-except\u001b[0m\u001b[0;34m\u001b[0m\u001b[0;34m\u001b[0m\u001b[0m\n\u001b[1;32m     66\u001b[0m       \u001b[0mfiltered_tb\u001b[0m \u001b[0;34m=\u001b[0m \u001b[0m_process_traceback_frames\u001b[0m\u001b[0;34m(\u001b[0m\u001b[0me\u001b[0m\u001b[0;34m.\u001b[0m\u001b[0m__traceback__\u001b[0m\u001b[0;34m)\u001b[0m\u001b[0;34m\u001b[0m\u001b[0;34m\u001b[0m\u001b[0m\n\u001b[0;32m---> 67\u001b[0;31m       \u001b[0;32mraise\u001b[0m \u001b[0me\u001b[0m\u001b[0;34m.\u001b[0m\u001b[0mwith_traceback\u001b[0m\u001b[0;34m(\u001b[0m\u001b[0mfiltered_tb\u001b[0m\u001b[0;34m)\u001b[0m \u001b[0;32mfrom\u001b[0m \u001b[0;32mNone\u001b[0m\u001b[0;34m\u001b[0m\u001b[0;34m\u001b[0m\u001b[0m\n\u001b[0m\u001b[1;32m     68\u001b[0m     \u001b[0;32mfinally\u001b[0m\u001b[0;34m:\u001b[0m\u001b[0;34m\u001b[0m\u001b[0;34m\u001b[0m\u001b[0m\n\u001b[1;32m     69\u001b[0m       \u001b[0;32mdel\u001b[0m \u001b[0mfiltered_tb\u001b[0m\u001b[0;34m\u001b[0m\u001b[0;34m\u001b[0m\u001b[0m\n",
            "\u001b[0;32m/usr/local/lib/python3.7/dist-packages/tensorflow/python/framework/func_graph.py\u001b[0m in \u001b[0;36mautograph_handler\u001b[0;34m(*args, **kwargs)\u001b[0m\n\u001b[1;32m   1145\u001b[0m           \u001b[0;32mexcept\u001b[0m \u001b[0mException\u001b[0m \u001b[0;32mas\u001b[0m \u001b[0me\u001b[0m\u001b[0;34m:\u001b[0m  \u001b[0;31m# pylint:disable=broad-except\u001b[0m\u001b[0;34m\u001b[0m\u001b[0;34m\u001b[0m\u001b[0m\n\u001b[1;32m   1146\u001b[0m             \u001b[0;32mif\u001b[0m \u001b[0mhasattr\u001b[0m\u001b[0;34m(\u001b[0m\u001b[0me\u001b[0m\u001b[0;34m,\u001b[0m \u001b[0;34m\"ag_error_metadata\"\u001b[0m\u001b[0;34m)\u001b[0m\u001b[0;34m:\u001b[0m\u001b[0;34m\u001b[0m\u001b[0;34m\u001b[0m\u001b[0m\n\u001b[0;32m-> 1147\u001b[0;31m               \u001b[0;32mraise\u001b[0m \u001b[0me\u001b[0m\u001b[0;34m.\u001b[0m\u001b[0mag_error_metadata\u001b[0m\u001b[0;34m.\u001b[0m\u001b[0mto_exception\u001b[0m\u001b[0;34m(\u001b[0m\u001b[0me\u001b[0m\u001b[0;34m)\u001b[0m\u001b[0;34m\u001b[0m\u001b[0;34m\u001b[0m\u001b[0m\n\u001b[0m\u001b[1;32m   1148\u001b[0m             \u001b[0;32melse\u001b[0m\u001b[0;34m:\u001b[0m\u001b[0;34m\u001b[0m\u001b[0;34m\u001b[0m\u001b[0m\n\u001b[1;32m   1149\u001b[0m               \u001b[0;32mraise\u001b[0m\u001b[0;34m\u001b[0m\u001b[0;34m\u001b[0m\u001b[0m\n",
            "\u001b[0;31mTypeError\u001b[0m: in user code:\n\n    File \"/usr/local/lib/python3.7/dist-packages/keras/engine/training.py\", line 1021, in train_function  *\n        return step_function(self, iterator)\n    File \"<ipython-input-5-02f47614b085>\", line 11, in margin_loss  *\n        1 - y_true) * tf.math.square(tf.nn.relu(y_pred - margin))), axis=-1)\n\n    TypeError: Input 'y' of 'Mul' Op has type float32 that does not match type int32 of argument 'x'.\n"
          ]
        }
      ]
    },
    {
      "cell_type": "code",
      "source": [
        "\"\"\"customize training loop.\"\"\"\n",
        "\n",
        "# Instantiate an optimizer to train the model.\n",
        "base_learning_rate = 0.0001\n",
        "optimizer = tf.keras.optimizers.Adam(learning_rate=base_learning_rate)\n",
        "# Instantiate a loss function.\n",
        "loss_fn = margin_loss\n",
        "\n",
        "# Prepare the metrics.\n",
        "train_acc_metric = tf.keras.metrics.CategoricalAccuracy()\n",
        "val_acc_metric = tf.keras.metrics.CategoricalAccuracy()"
      ],
      "metadata": {
        "id": "6F_P1WSFqT2y"
      },
      "execution_count": 18,
      "outputs": []
    },
    {
      "cell_type": "code",
      "source": [
        "epochs = 30\n",
        "for epoch in range(epochs):\n",
        "    print(\"\\nepoch {}/{}\".format(epoch+1,epochs))\n",
        "    pbar = keras.utils.Progbar(target=int(train_dataset.cardinality()))\n",
        "    metrics = {}\n",
        "\n",
        "    # Iterate over the batches of the dataset.\n",
        "    for step, (x_batch_train, y_batch_train) in enumerate(train_dataset):\n",
        "        y_true = tf.keras.utils.to_categorical(y_batch_train,num_classes=2)\n",
        "        with tf.GradientTape() as tape:\n",
        "            y_pred=model(x_batch_train) # $ better design needed.\n",
        "            # y_pred is prob. dist.\n",
        "            loss_value = loss_fn(y_true,y_pred) # loss computation\n",
        "        grads = tape.gradient(loss_value, model.trainable_weights) # back prop\n",
        "        optimizer.apply_gradients(zip(grads, model.trainable_weights)) # weight update\n",
        "\n",
        "        # Update training metric.\n",
        "        train_acc_metric.update_state(y_true, y_pred)\n",
        "        metrics.update({'train_acc':train_acc_metric.result()})\n",
        "        pbar.update(step+1, values=metrics.items(), finalize=False)\n",
        "\n",
        "\n",
        "    # Run a validation loop at the end of each epoch.\n",
        "    for x_batch_val, y_batch_val in validation_dataset:\n",
        "      y_batch_val=tf.keras.utils.to_categorical(y_batch_val,num_classes=2)\n",
        "      val_pred = model(x_batch_val) # $ better design needed\n",
        "      # Update val metrics\n",
        "      val_acc_metric.update_state(y_batch_val, val_pred)\n",
        "\n",
        "    metrics.update({'val_acc':val_acc_metric.result()})\n",
        "    \n",
        "    pbar.update(step+1, values=metrics.items(), finalize=True)\n",
        "    \n",
        "    # Reset training & val metrics at the end of each epoch\n",
        "    train_acc_metric.reset_states()\n",
        "    val_acc_metric.reset_states()"
      ],
      "metadata": {
        "colab": {
          "base_uri": "https://localhost:8080/"
        },
        "id": "hmp_nTBM5L9t",
        "outputId": "3315f0ba-979f-40e0-f50a-5c10162e4df6"
      },
      "execution_count": 19,
      "outputs": [
        {
          "output_type": "stream",
          "name": "stdout",
          "text": [
            "\n",
            "epoch 1/30\n",
            "63/63 [==============================] - 18s 96ms/step - train_acc: 0.5221 - val_acc: 0.5804\n",
            "\n",
            "epoch 2/30\n",
            "63/63 [==============================] - 5s 76ms/step - train_acc: 0.5971 - val_acc: 0.6238\n",
            "\n",
            "epoch 3/30\n",
            "63/63 [==============================] - 6s 97ms/step - train_acc: 0.6250 - val_acc: 0.6423\n",
            "\n",
            "epoch 4/30\n",
            "63/63 [==============================] - 5s 75ms/step - train_acc: 0.6441 - val_acc: 0.6485\n",
            "\n",
            "epoch 5/30\n",
            "63/63 [==============================] - 5s 76ms/step - train_acc: 0.6494 - val_acc: 0.6757\n",
            "\n",
            "epoch 6/30\n",
            "63/63 [==============================] - 5s 75ms/step - train_acc: 0.6801 - val_acc: 0.6745\n",
            "\n",
            "epoch 7/30\n",
            "63/63 [==============================] - 5s 74ms/step - train_acc: 0.7115 - val_acc: 0.6844\n",
            "\n",
            "epoch 8/30\n",
            "63/63 [==============================] - 5s 75ms/step - train_acc: 0.7181 - val_acc: 0.6757\n",
            "\n",
            "epoch 9/30\n",
            "63/63 [==============================] - 5s 76ms/step - train_acc: 0.7347 - val_acc: 0.7005\n",
            "\n",
            "epoch 10/30\n",
            "63/63 [==============================] - 5s 75ms/step - train_acc: 0.7346 - val_acc: 0.6745\n",
            "\n",
            "epoch 11/30\n",
            "63/63 [==============================] - 5s 75ms/step - train_acc: 0.7629 - val_acc: 0.7030\n",
            "\n",
            "epoch 12/30\n",
            "63/63 [==============================] - 5s 75ms/step - train_acc: 0.8048 - val_acc: 0.6869\n",
            "\n",
            "epoch 13/30\n",
            "63/63 [==============================] - 5s 74ms/step - train_acc: 0.8206 - val_acc: 0.7042\n",
            "\n",
            "epoch 14/30\n",
            "63/63 [==============================] - 5s 76ms/step - train_acc: 0.8484 - val_acc: 0.7042\n",
            "\n",
            "epoch 15/30\n",
            "63/63 [==============================] - 5s 77ms/step - train_acc: 0.8971 - val_acc: 0.7042\n",
            "\n",
            "epoch 16/30\n",
            "63/63 [==============================] - 5s 75ms/step - train_acc: 0.9075 - val_acc: 0.7178\n",
            "\n",
            "epoch 17/30\n",
            "63/63 [==============================] - 5s 77ms/step - train_acc: 0.9316 - val_acc: 0.7054\n",
            "\n",
            "epoch 18/30\n",
            "63/63 [==============================] - 5s 75ms/step - train_acc: 0.9529 - val_acc: 0.6943\n",
            "\n",
            "epoch 19/30\n",
            "63/63 [==============================] - 5s 75ms/step - train_acc: 0.9702 - val_acc: 0.6993\n",
            "\n",
            "epoch 20/30\n",
            "63/63 [==============================] - 5s 75ms/step - train_acc: 0.9630 - val_acc: 0.7005\n",
            "\n",
            "epoch 21/30\n",
            "63/63 [==============================] - 5s 75ms/step - train_acc: 0.9862 - val_acc: 0.6980\n",
            "\n",
            "epoch 22/30\n",
            "63/63 [==============================] - 5s 75ms/step - train_acc: 0.9914 - val_acc: 0.7092\n",
            "\n",
            "epoch 23/30\n",
            "63/63 [==============================] - 5s 75ms/step - train_acc: 0.9915 - val_acc: 0.6856\n",
            "\n",
            "epoch 24/30\n",
            "63/63 [==============================] - 6s 97ms/step - train_acc: 0.9960 - val_acc: 0.7104\n",
            "\n",
            "epoch 25/30\n",
            "63/63 [==============================] - 5s 75ms/step - train_acc: 0.9992 - val_acc: 0.7228\n",
            "\n",
            "epoch 26/30\n",
            "63/63 [==============================] - 5s 75ms/step - train_acc: 1.0000 - val_acc: 0.7092\n",
            "\n",
            "epoch 27/30\n",
            "63/63 [==============================] - 5s 75ms/step - train_acc: 1.0000 - val_acc: 0.7116\n",
            "\n",
            "epoch 28/30\n",
            "63/63 [==============================] - 5s 75ms/step - train_acc: 0.9994 - val_acc: 0.7079\n",
            "\n",
            "epoch 29/30\n",
            "63/63 [==============================] - 5s 75ms/step - train_acc: 1.0000 - val_acc: 0.7017\n",
            "\n",
            "epoch 30/30\n",
            "63/63 [==============================] - 5s 75ms/step - train_acc: 1.0000 - val_acc: 0.7203\n"
          ]
        }
      ]
    },
    {
      "cell_type": "code",
      "source": [
        "ls checkpoints"
      ],
      "metadata": {
        "colab": {
          "base_uri": "https://localhost:8080/"
        },
        "id": "kiIeSpgf8o4K",
        "outputId": "cb3c5d67-c234-438e-aa00-90e5dfeab2d4"
      },
      "execution_count": null,
      "outputs": [
        {
          "output_type": "stream",
          "name": "stdout",
          "text": [
            "checkpoint  my_checkpoint.data-00000-of-00001  my_checkpoint.index\n"
          ]
        }
      ]
    },
    {
      "cell_type": "code",
      "source": [
        "# Save the weights\n",
        "model.save_weights('./checkpoints/my_checkpoint')"
      ],
      "metadata": {
        "id": "PdKdt2DHTbG4"
      },
      "execution_count": null,
      "outputs": []
    },
    {
      "cell_type": "code",
      "source": [],
      "metadata": {
        "id": "d6nHMX9S85t3"
      },
      "execution_count": null,
      "outputs": []
    }
  ]
}