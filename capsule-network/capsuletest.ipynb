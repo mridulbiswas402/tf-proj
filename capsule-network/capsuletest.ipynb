{
  "nbformat": 4,
  "nbformat_minor": 0,
  "metadata": {
    "colab": {
      "name": "capsuletest.ipynb",
      "provenance": []
    },
    "kernelspec": {
      "name": "python3",
      "display_name": "Python 3"
    },
    "language_info": {
      "name": "python"
    }
  },
  "cells": [
    {
      "cell_type": "code",
      "source": [
        "import numpy as np\n",
        "import tensorflow as tf\n",
        "from tensorflow import keras"
      ],
      "metadata": {
        "id": "fOGVV6nDtSq4"
      },
      "execution_count": null,
      "outputs": []
    },
    {
      "cell_type": "code",
      "source": [
        "%matplotlib inline\n",
        "import matplotlib\n",
        "import matplotlib.pyplot as plt"
      ],
      "metadata": {
        "id": "fJ6tSixatSmk"
      },
      "execution_count": null,
      "outputs": []
    },
    {
      "cell_type": "code",
      "source": [
        "# data loading in appropriate formate\n",
        "\n",
        "mnist = tf.keras.datasets.mnist\n",
        "\n",
        "(x_train, y_train), (x_test, y_test) = mnist.load_data()\n",
        "x_train, x_test = x_train / 255.0, x_test / 255.0\n",
        "\n",
        "# Add a channels dimension\n",
        "x_train = x_train[..., tf.newaxis].astype(\"float32\")\n",
        "x_test = x_test[..., tf.newaxis].astype(\"float32\")\n"
      ],
      "metadata": {
        "colab": {
          "base_uri": "https://localhost:8080/"
        },
        "id": "TptGEMLDtSj0",
        "outputId": "a39d6c8a-2b92-43f3-b3dd-0548470b7853"
      },
      "execution_count": null,
      "outputs": [
        {
          "output_type": "stream",
          "name": "stdout",
          "text": [
            "Downloading data from https://storage.googleapis.com/tensorflow/tf-keras-datasets/mnist.npz\n",
            "11493376/11490434 [==============================] - 0s 0us/step\n",
            "11501568/11490434 [==============================] - 0s 0us/step\n"
          ]
        }
      ]
    },
    {
      "cell_type": "code",
      "source": [
        "caps1_n_maps = 32\n",
        "caps1_n_caps = caps1_n_maps * 6 * 6  # 1152 primary capsules\n",
        "caps1_n_dims = 8"
      ],
      "metadata": {
        "id": "DVOCEXvYzd5i"
      },
      "execution_count": null,
      "outputs": []
    },
    {
      "cell_type": "code",
      "source": [
        "X=x_train[:1]"
      ],
      "metadata": {
        "id": "Uq06sg4Ez9Jy"
      },
      "execution_count": null,
      "outputs": []
    },
    {
      "cell_type": "code",
      "source": [
        "#primary capsule.\n",
        "c1=tf.keras.layers.Conv2D(256,kernel_size=9,strides=1,padding='valid',activation='relu')\n",
        "c2=tf.keras.layers.Conv2D(caps1_n_maps * caps1_n_dims,kernel_size=9,strides=2,padding='valid',activation='relu')"
      ],
      "metadata": {
        "id": "VR5LD0ddxkda"
      },
      "execution_count": null,
      "outputs": []
    },
    {
      "cell_type": "code",
      "source": [
        "print(c1(X).shape)\n",
        "print(c2(c1(X)).shape)"
      ],
      "metadata": {
        "colab": {
          "base_uri": "https://localhost:8080/"
        },
        "id": "1x21mNA2z5vy",
        "outputId": "dca88f96-bc97-4f58-cbcd-bcea9da91175"
      },
      "execution_count": null,
      "outputs": [
        {
          "output_type": "stream",
          "name": "stdout",
          "text": [
            "(1, 20, 20, 256)\n",
            "(1, 6, 6, 256)\n"
          ]
        }
      ]
    },
    {
      "cell_type": "code",
      "source": [
        "z=c2(c1(X))"
      ],
      "metadata": {
        "id": "aJSe2nbt0Is0"
      },
      "execution_count": null,
      "outputs": []
    },
    {
      "cell_type": "code",
      "source": [
        "z.shape"
      ],
      "metadata": {
        "colab": {
          "base_uri": "https://localhost:8080/"
        },
        "id": "MniYp-bfZJuR",
        "outputId": "f756da3b-5981-4bf3-83c4-c228f4a0ea0e"
      },
      "execution_count": null,
      "outputs": [
        {
          "output_type": "execute_result",
          "data": {
            "text/plain": [
              "TensorShape([1, 6, 6, 256])"
            ]
          },
          "metadata": {},
          "execution_count": 9
        }
      ]
    },
    {
      "cell_type": "code",
      "source": [
        "z=tf.reshape(z,[-1, caps1_n_caps, caps1_n_dims])"
      ],
      "metadata": {
        "id": "aZdK_n2C0PYd"
      },
      "execution_count": null,
      "outputs": []
    },
    {
      "cell_type": "code",
      "source": [
        "\n",
        "z.shape"
      ],
      "metadata": {
        "colab": {
          "base_uri": "https://localhost:8080/"
        },
        "id": "tauCLPIEZIPF",
        "outputId": "46138f20-bf3a-44a7-b3a6-37962dea228f"
      },
      "execution_count": null,
      "outputs": [
        {
          "output_type": "execute_result",
          "data": {
            "text/plain": [
              "TensorShape([1, 1152, 8])"
            ]
          },
          "metadata": {},
          "execution_count": 11
        }
      ]
    },
    {
      "cell_type": "code",
      "source": [
        ""
      ],
      "metadata": {
        "id": "IidmhiD0jy41"
      },
      "execution_count": null,
      "outputs": []
    },
    {
      "cell_type": "code",
      "source": [
        "# primary capsule layer.\n",
        "def squash(v,epsilon=1e-7,axis=-1):\n",
        "    sqnrm=tf.reduce_sum(tf.square(v), axis=axis,keepdims=True)\n",
        "    nrm=tf.sqrt(sqnrm + epsilon) #safe norm to avoid divide by zero.\n",
        "    sqsh_factor = sqnrm / (1. + sqnrm)\n",
        "    unit_vect = v / nrm\n",
        "    return sqsh_factor*unit_vect\n",
        "\n",
        "    \n",
        "def primary_capsule(input_tensor):\n",
        "    c1=tf.keras.layers.Conv2D(256,kernel_size=9,strides=1,padding='valid',activation='relu')\n",
        "    c2=tf.keras.layers.Conv2D(caps1_n_maps * caps1_n_dims,kernel_size=9,strides=2,padding='valid',activation='relu')\n",
        "    z=c2(c1(X))\n",
        "    z=tf.reshape(z,[-1, caps1_n_caps, caps1_n_dims])\n",
        "    return squash(z)\n",
        "\n",
        "\n"
      ],
      "metadata": {
        "id": "hE_oMXhPghyI"
      },
      "execution_count": null,
      "outputs": []
    },
    {
      "cell_type": "code",
      "source": [
        "pri_out=primary_capsule(X)\n",
        "primary_capsule(X).shape #output shape of primary capsule."
      ],
      "metadata": {
        "colab": {
          "base_uri": "https://localhost:8080/"
        },
        "id": "FuJSRkbtlIEo",
        "outputId": "b02aeba2-f913-4037-9d62-71c311219d56"
      },
      "execution_count": null,
      "outputs": [
        {
          "output_type": "execute_result",
          "data": {
            "text/plain": [
              "TensorShape([1, 1152, 8])"
            ]
          },
          "metadata": {},
          "execution_count": 19
        }
      ]
    },
    {
      "cell_type": "code",
      "source": [
        "# digit capsule layer\n",
        "caps2_n_caps = 10 # 10 capsule each digit.\n",
        "caps2_n_dims = 16 # each of the 10 capsules are of 16 dims.\n"
      ],
      "metadata": {
        "id": "u5NSr5KYxcay"
      },
      "execution_count": null,
      "outputs": []
    },
    {
      "cell_type": "code",
      "source": [
        "\"\"\" Note primary capsule layer and digit capsule layer is fully connected .\"\"\""
      ],
      "metadata": {
        "id": "s9ZRvmr9mbXl"
      },
      "execution_count": null,
      "outputs": []
    },
    {
      "cell_type": "code",
      "source": [
        "init_sigma = 0.1\n",
        "\n",
        "W_init = tf.random.normal(\n",
        "    shape=(1, caps1_n_caps, caps2_n_caps, caps2_n_dims, caps1_n_dims),\n",
        "    stddev=init_sigma, dtype=tf.float32)\n",
        "W = tf.Variable(W_init)"
      ],
      "metadata": {
        "id": "9n6sXw4WxcX6"
      },
      "execution_count": null,
      "outputs": []
    },
    {
      "cell_type": "code",
      "source": [
        "W.shape"
      ],
      "metadata": {
        "id": "Rqkz28-fxcOd",
        "colab": {
          "base_uri": "https://localhost:8080/"
        },
        "outputId": "eb7bb781-5ba5-4c40-8270-7f62b4ae5ec6"
      },
      "execution_count": null,
      "outputs": [
        {
          "output_type": "execute_result",
          "data": {
            "text/plain": [
              "TensorShape([1, 1152, 10, 16, 8])"
            ]
          },
          "metadata": {},
          "execution_count": 16
        }
      ]
    },
    {
      "cell_type": "code",
      "source": [
        "batch_size = tf.shape(X)[0]\n",
        "W_tiled = tf.tile(W, [batch_size, 1, 1, 1, 1])"
      ],
      "metadata": {
        "id": "XUxy9f9y0FAi"
      },
      "execution_count": null,
      "outputs": []
    },
    {
      "cell_type": "code",
      "source": [
        "W_tiled.shape"
      ],
      "metadata": {
        "colab": {
          "base_uri": "https://localhost:8080/"
        },
        "id": "vV_XF-_sS4Uh",
        "outputId": "68700b9d-957c-4553-fa05-64e6a12b937c"
      },
      "execution_count": null,
      "outputs": [
        {
          "output_type": "execute_result",
          "data": {
            "text/plain": [
              "TensorShape([1, 1152, 10, 16, 8])"
            ]
          },
          "metadata": {},
          "execution_count": 18
        }
      ]
    },
    {
      "cell_type": "code",
      "source": [
        "pri_out.shape"
      ],
      "metadata": {
        "id": "ZMFNItr1UDu1"
      },
      "execution_count": null,
      "outputs": []
    },
    {
      "cell_type": "code",
      "source": [
        "caps1_output_expanded = tf.expand_dims(pri_out, -1)\n",
        "caps1_output_tile = tf.expand_dims(caps1_output_expanded, 2)\n",
        "caps1_output_tiled = tf.tile(caps1_output_tile, [1, 1, caps2_n_caps, 1, 1])"
      ],
      "metadata": {
        "id": "fvmarG_KS7Yw"
      },
      "execution_count": null,
      "outputs": []
    },
    {
      "cell_type": "code",
      "source": [
        "print(pri_out.shape)\n",
        "print(caps1_output_expanded.shape)\n",
        "print(caps1_output_tile.shape)\n",
        "print(caps1_output_tiled.shape)"
      ],
      "metadata": {
        "colab": {
          "base_uri": "https://localhost:8080/"
        },
        "id": "T2dZPwu4T-NY",
        "outputId": "ca3c36f6-e050-4c72-95d9-2a79c82d1ea6"
      },
      "execution_count": null,
      "outputs": [
        {
          "output_type": "stream",
          "name": "stdout",
          "text": [
            "(1, 1152, 8)\n",
            "(1, 1152, 8, 1)\n",
            "(1, 1152, 1, 8, 1)\n",
            "(1, 1152, 10, 8, 1)\n"
          ]
        }
      ]
    },
    {
      "cell_type": "code",
      "source": [
        "caps2_predicted = tf.matmul(W_tiled, caps1_output_tiled)"
      ],
      "metadata": {
        "id": "-5m7w7rmUB0e"
      },
      "execution_count": null,
      "outputs": []
    },
    {
      "cell_type": "code",
      "source": [
        "caps2_predicted.shape"
      ],
      "metadata": {
        "colab": {
          "base_uri": "https://localhost:8080/"
        },
        "id": "q63dyRhbVV_z",
        "outputId": "d903dd1e-db3b-4875-c5dd-e1d62a34a9c0"
      },
      "execution_count": null,
      "outputs": [
        {
          "output_type": "execute_result",
          "data": {
            "text/plain": [
              "TensorShape([1, 1152, 10, 16, 1])"
            ]
          },
          "metadata": {},
          "execution_count": 25
        }
      ]
    },
    {
      "cell_type": "code",
      "source": [
        "\"\"\" Routing by agreement. \"\"\"\n"
      ],
      "metadata": {
        "id": "mUMI4g0gVZAy"
      },
      "execution_count": null,
      "outputs": []
    },
    {
      "cell_type": "code",
      "source": [
        "raw_weights = tf.zeros([batch_size, caps1_n_caps, caps2_n_caps, 1, 1])"
      ],
      "metadata": {
        "id": "XSjkVWpXV4WT"
      },
      "execution_count": null,
      "outputs": []
    },
    {
      "cell_type": "code",
      "source": [
        "raw_weights.shape"
      ],
      "metadata": {
        "colab": {
          "base_uri": "https://localhost:8080/"
        },
        "id": "QZY_DW_gV6dd",
        "outputId": "0db00184-2965-4c80-dcaf-e646e0da48cc"
      },
      "execution_count": null,
      "outputs": [
        {
          "output_type": "execute_result",
          "data": {
            "text/plain": [
              "TensorShape([1, 1152, 10, 1, 1])"
            ]
          },
          "metadata": {},
          "execution_count": 28
        }
      ]
    },
    {
      "cell_type": "code",
      "source": [
        "routing_weights = tf.nn.softmax(raw_weights,axis=2)\n",
        "weighted_predictions = tf.multiply(routing_weights, caps2_predicted)\n",
        "weighted_sum = tf.reduce_sum(weighted_predictions, axis=1, keepdims=True)"
      ],
      "metadata": {
        "id": "J1GtwCP3V9Kl"
      },
      "execution_count": null,
      "outputs": []
    },
    {
      "cell_type": "code",
      "source": [
        "weighted_sum.shape"
      ],
      "metadata": {
        "colab": {
          "base_uri": "https://localhost:8080/"
        },
        "id": "H2-6yl8_cB8I",
        "outputId": "841af01e-3cc2-4379-c0c2-0bb8dc9a99f5"
      },
      "execution_count": null,
      "outputs": [
        {
          "output_type": "execute_result",
          "data": {
            "text/plain": [
              "TensorShape([1, 1, 10, 16, 1])"
            ]
          },
          "metadata": {},
          "execution_count": 33
        }
      ]
    },
    {
      "cell_type": "code",
      "source": [
        "print(routing_weights.shape)\n",
        "print(weighted_predictions.shape)\n",
        "print(weighted_sum.shape)"
      ],
      "metadata": {
        "colab": {
          "base_uri": "https://localhost:8080/"
        },
        "id": "yaOb8bsScYJZ",
        "outputId": "f1da3f65-d732-4a70-a0fa-ec1d4c0b12de"
      },
      "execution_count": null,
      "outputs": [
        {
          "output_type": "stream",
          "name": "stdout",
          "text": [
            "(1, 1152, 10, 1, 1)\n",
            "(1, 1152, 10, 16, 1)\n",
            "(1, 1, 10, 16, 1)\n"
          ]
        }
      ]
    },
    {
      "cell_type": "code",
      "source": [
        "print(routing_weights.shape)\n",
        "print(weighted_predictions.shape)\n",
        "print(weighted_sum.shape)"
      ],
      "metadata": {
        "colab": {
          "base_uri": "https://localhost:8080/"
        },
        "id": "WcP3BXY_30ml",
        "outputId": "820a9cea-b5ac-42c9-b9ab-25bded5cb664"
      },
      "execution_count": null,
      "outputs": [
        {
          "output_type": "stream",
          "name": "stdout",
          "text": [
            "(1, 1152, 10, 1, 1)\n",
            "(1, 1152, 10, 16, 1)\n",
            "(1, 1, 10, 16, 1)\n"
          ]
        }
      ]
    },
    {
      "cell_type": "code",
      "source": [
        "v=squash(weighted_sum, axis=-2)\n",
        "print(v.shape)"
      ],
      "metadata": {
        "colab": {
          "base_uri": "https://localhost:8080/"
        },
        "id": "ZncjKIDP9mq_",
        "outputId": "38c6b001-3712-4a39-9d95-4bdd24030848"
      },
      "execution_count": null,
      "outputs": [
        {
          "output_type": "stream",
          "name": "stdout",
          "text": [
            "(1, 1, 10, 16, 1)\n"
          ]
        }
      ]
    },
    {
      "cell_type": "code",
      "source": [
        "v_tiled = tf.tile(v, [1, caps1_n_caps, 1, 1, 1])\n",
        "v_tiled.shape"
      ],
      "metadata": {
        "colab": {
          "base_uri": "https://localhost:8080/"
        },
        "id": "CIq8iXSY-CVp",
        "outputId": "2db41e48-91c4-4338-acf3-6e45de3ed02a"
      },
      "execution_count": null,
      "outputs": [
        {
          "output_type": "execute_result",
          "data": {
            "text/plain": [
              "TensorShape([1, 1152, 10, 16, 1])"
            ]
          },
          "metadata": {},
          "execution_count": 40
        }
      ]
    },
    {
      "cell_type": "code",
      "source": [
        "agreement = tf.matmul(caps2_predicted, v_tiled,transpose_a=True)"
      ],
      "metadata": {
        "id": "SrOkQCIl-ZkK"
      },
      "execution_count": null,
      "outputs": []
    },
    {
      "cell_type": "code",
      "source": [
        "agreement.shape"
      ],
      "metadata": {
        "colab": {
          "base_uri": "https://localhost:8080/"
        },
        "id": "m7FBpZ7T-lVz",
        "outputId": "727943a4-4933-4caa-cc02-1433695f55c3"
      },
      "execution_count": null,
      "outputs": [
        {
          "output_type": "execute_result",
          "data": {
            "text/plain": [
              "TensorShape([1, 1152, 10, 1, 1])"
            ]
          },
          "metadata": {},
          "execution_count": 42
        }
      ]
    },
    {
      "cell_type": "code",
      "source": [
        "def Routing(caps2_predicted,r=3):\n",
        "    raw_weights = tf.zeros([batch_size, caps1_n_caps, caps2_n_caps, 1, 1])\n",
        "\n",
        "    while(r):\n",
        "      r-=1\n",
        "      routing_weights = tf.nn.softmax(raw_weights,axis=2)\n",
        "      weighted_predictions = tf.multiply(routing_weights, caps2_predicted)\n",
        "      weighted_sum = tf.reduce_sum(weighted_predictions, axis=1, keepdims=True)\n",
        "      v = squash(weighted_sum, axis=-2)\n",
        "      v_tiled = tf.tile(v, [1, caps1_n_caps, 1, 1, 1])\n",
        "      agreement = tf.matmul(caps2_predicted, v_tiled,transpose_a=True)\n",
        "      if(r>0):\n",
        "          routing_weights+=agreement\n",
        "      else:\n",
        "          return v\n",
        "      \n",
        "\n",
        "\n",
        "\n"
      ],
      "metadata": {
        "id": "VOkFCdol42EH"
      },
      "execution_count": null,
      "outputs": []
    },
    {
      "cell_type": "code",
      "source": [
        "caps2_output=Routing(caps2_predicted)\n",
        "caps2_output.shape"
      ],
      "metadata": {
        "colab": {
          "base_uri": "https://localhost:8080/"
        },
        "id": "F70YoxTt_vDo",
        "outputId": "49ed1016-f99e-455c-c687-c9e0e92b7407"
      },
      "execution_count": null,
      "outputs": [
        {
          "output_type": "execute_result",
          "data": {
            "text/plain": [
              "TensorShape([1, 1, 10, 16, 1])"
            ]
          },
          "metadata": {},
          "execution_count": 46
        }
      ]
    },
    {
      "cell_type": "code",
      "source": [
        "def safe_norm(s, axis=-1, epsilon=1e-7, keep_dims=False):\n",
        "        squared_norm = tf.reduce_sum(tf.square(s),axis=axis,keepdims=keep_dims)\n",
        "        return tf.sqrt(squared_norm + epsilon)"
      ],
      "metadata": {
        "id": "Uzg6qHu7_1e6"
      },
      "execution_count": null,
      "outputs": []
    },
    {
      "cell_type": "code",
      "source": [
        "y_proba = safe_norm(caps2_output, axis=-2)"
      ],
      "metadata": {
        "id": "qYDJqZDpC8SI"
      },
      "execution_count": null,
      "outputs": []
    },
    {
      "cell_type": "code",
      "source": [
        "tf.reduce_sum(y_proba,axis=2)"
      ],
      "metadata": {
        "colab": {
          "base_uri": "https://localhost:8080/"
        },
        "id": "aFWypSOEDCg-",
        "outputId": "edc85c3d-3d3a-4e5c-cd25-ee046958ebee"
      },
      "execution_count": null,
      "outputs": [
        {
          "output_type": "execute_result",
          "data": {
            "text/plain": [
              "<tf.Tensor: shape=(1, 1, 1), dtype=float32, numpy=array([[[0.00319418]]], dtype=float32)>"
            ]
          },
          "metadata": {},
          "execution_count": 60
        }
      ]
    },
    {
      "cell_type": "code",
      "source": [
        "y_proba"
      ],
      "metadata": {
        "colab": {
          "base_uri": "https://localhost:8080/"
        },
        "id": "BnNoK_TiDHUr",
        "outputId": "8ec49825-8cac-4ee6-aaaf-9fa94a8fd3b1"
      },
      "execution_count": null,
      "outputs": [
        {
          "output_type": "execute_result",
          "data": {
            "text/plain": [
              "<tf.Tensor: shape=(1, 1, 10, 1), dtype=float32, numpy=\n",
              "array([[[[0.0003206 ],\n",
              "         [0.0003218 ],\n",
              "         [0.000317  ],\n",
              "         [0.00032217],\n",
              "         [0.00031829],\n",
              "         [0.00031771],\n",
              "         [0.00032117],\n",
              "         [0.0003185 ],\n",
              "         [0.0003177 ],\n",
              "         [0.00031925]]]], dtype=float32)>"
            ]
          },
          "metadata": {},
          "execution_count": 58
        }
      ]
    },
    {
      "cell_type": "code",
      "source": [
        "tf.nn.softmax(y_proba,axis=2)"
      ],
      "metadata": {
        "colab": {
          "base_uri": "https://localhost:8080/"
        },
        "id": "_T46PPiZE7dt",
        "outputId": "07c8bf90-fde1-4a6e-e8b5-3cfa12188a1f"
      },
      "execution_count": null,
      "outputs": [
        {
          "output_type": "execute_result",
          "data": {
            "text/plain": [
              "<tf.Tensor: shape=(1, 1, 10, 1), dtype=float32, numpy=\n",
              "array([[[[0.10000012],\n",
              "         [0.10000024],\n",
              "         [0.09999976],\n",
              "         [0.10000028],\n",
              "         [0.09999989],\n",
              "         [0.09999983],\n",
              "         [0.10000017],\n",
              "         [0.09999991],\n",
              "         [0.09999983],\n",
              "         [0.09999999]]]], dtype=float32)>"
            ]
          },
          "metadata": {},
          "execution_count": 70
        }
      ]
    },
    {
      "cell_type": "code",
      "source": [
        "y_proba_argmax = tf.argmax(y_proba, axis=2)"
      ],
      "metadata": {
        "id": "Vj0EIAW5DX-D"
      },
      "execution_count": null,
      "outputs": []
    },
    {
      "cell_type": "code",
      "source": [
        "y_proba_argmax"
      ],
      "metadata": {
        "colab": {
          "base_uri": "https://localhost:8080/"
        },
        "id": "M4RJMexsERnS",
        "outputId": "e8c409cf-e524-4b57-a232-fa7b3a119cf6"
      },
      "execution_count": null,
      "outputs": [
        {
          "output_type": "execute_result",
          "data": {
            "text/plain": [
              "<tf.Tensor: shape=(1, 1, 1), dtype=int64, numpy=array([[[3]]])>"
            ]
          },
          "metadata": {},
          "execution_count": 62
        }
      ]
    },
    {
      "cell_type": "code",
      "source": [
        "y_pred = tf.squeeze(y_proba_argmax, axis=[1,2], name=\"y_pred\")"
      ],
      "metadata": {
        "id": "1_xCIzr8ET8i"
      },
      "execution_count": null,
      "outputs": []
    },
    {
      "cell_type": "code",
      "source": [
        "y_pred"
      ],
      "metadata": {
        "colab": {
          "base_uri": "https://localhost:8080/"
        },
        "id": "gBMroB6gEn7K",
        "outputId": "516a1c7e-2678-43d3-bb91-3f03ebbf2599"
      },
      "execution_count": null,
      "outputs": [
        {
          "output_type": "execute_result",
          "data": {
            "text/plain": [
              "<tf.Tensor: shape=(1,), dtype=int64, numpy=array([3])>"
            ]
          },
          "metadata": {},
          "execution_count": 64
        }
      ]
    },
    {
      "cell_type": "code",
      "source": [
        ""
      ],
      "metadata": {
        "id": "S5WljC_DEpza"
      },
      "execution_count": null,
      "outputs": []
    }
  ]
}