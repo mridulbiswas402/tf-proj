{
  "cells": [
    {
      "cell_type": "code",
      "execution_count": 1,
      "metadata": {
        "id": "lXT-_A0-4LUD"
      },
      "outputs": [],
      "source": [
        "import numpy as np\n",
        "import tensorflow as tf\n",
        "from tensorflow import keras\n",
        "\n",
        "%matplotlib inline\n",
        "import matplotlib\n",
        "import matplotlib.pyplot as plt\n",
        "\n",
        "import os\n",
        "import time"
      ]
    },
    {
      "cell_type": "code",
      "execution_count": 2,
      "metadata": {
        "id": "E87k8bMcot-j"
      },
      "outputs": [],
      "source": [
        "\"\"\" here \"drcaps\" is file caps-dr-layer_v2.py \"\"\"\n",
        "from drcaps import *"
      ]
    },
    {
      "cell_type": "code",
      "execution_count": 3,
      "metadata": {
        "id": "JWXPk0VM4Lck"
      },
      "outputs": [],
      "source": [
        "c1=tf.keras.layers.Conv2D(16,kernel_size=5,strides=1,padding='valid',activation='relu')\n",
        "c2=tf.keras.layers.Conv2D(32,kernel_size=9,strides=1,padding='valid',activation='relu')\n",
        "bn1=tf.keras.layers.BatchNormalization()\n",
        "bn2=tf.keras.layers.BatchNormalization()\n",
        "last=Capsule(10,16)"
      ]
    },
    {
      "cell_type": "code",
      "execution_count": 4,
      "metadata": {
        "id": "BbatIbVP4LfL"
      },
      "outputs": [],
      "source": [
        "model_input = keras.Input(shape=(28,28,1))\n",
        "x=c1(model_input)\n",
        "x=bn1(x,training=True)\n",
        "x=c2(x)\n",
        "x=bn2(x,training=True)\n",
        "x=tf.reshape(x,[-1,16*32,16])\n",
        "x=squash(x) # squash function needed to be applied.\n",
        "x=last(x)\n",
        "#x=tf.cast(x,tf.float32)\n",
        "x=safe_norm(x, axis=2)\n",
        "model_output = x"
      ]
    },
    {
      "cell_type": "code",
      "execution_count": 5,
      "metadata": {
        "id": "ICbdGnyN4Lh0"
      },
      "outputs": [],
      "source": [
        "\n",
        "model = keras.Model(model_input, model_output)"
      ]
    },
    {
      "cell_type": "code",
      "execution_count": 6,
      "metadata": {
        "colab": {
          "base_uri": "https://localhost:8080/"
        },
        "id": "hG1wxYdb4LkQ",
        "outputId": "f51450ef-c5ca-48a3-a867-a88bcd02f909"
      },
      "outputs": [
        {
          "name": "stdout",
          "output_type": "stream",
          "text": [
            "Model: \"model\"\n",
            "_________________________________________________________________\n",
            " Layer (type)                Output Shape              Param #   \n",
            "=================================================================\n",
            " input_1 (InputLayer)        [(None, 28, 28, 1)]       0         \n",
            "                                                                 \n",
            " conv2d (Conv2D)             (None, 24, 24, 16)        416       \n",
            "                                                                 \n",
            " batch_normalization (BatchN  (None, 24, 24, 16)       64        \n",
            " ormalization)                                                   \n",
            "                                                                 \n",
            " conv2d_1 (Conv2D)           (None, 16, 16, 32)        41504     \n",
            "                                                                 \n",
            " batch_normalization_1 (Batc  (None, 16, 16, 32)       128       \n",
            " hNormalization)                                                 \n",
            "                                                                 \n",
            " tf.reshape (TFOpLambda)     (None, 512, 16)           0         \n",
            "                                                                 \n",
            " capsule (Capsule)           (None, 10, 16)            1310720   \n",
            "                                                                 \n",
            " tf.math.square (TFOpLambda)  (None, 10, 16)           0         \n",
            "                                                                 \n",
            " tf.math.reduce_sum (TFOpLam  (None, 10)               0         \n",
            " bda)                                                            \n",
            "                                                                 \n",
            " tf.__operators__.add (TFOpL  (None, 10)               0         \n",
            " ambda)                                                          \n",
            "                                                                 \n",
            " tf.math.sqrt (TFOpLambda)   (None, 10)                0         \n",
            "                                                                 \n",
            "=================================================================\n",
            "Total params: 1,352,832\n",
            "Trainable params: 1,352,736\n",
            "Non-trainable params: 96\n",
            "_________________________________________________________________\n"
          ]
        }
      ],
      "source": [
        "adam = tf.keras.optimizers.Adam(learning_rate=0.0001) \n",
        "model.compile(loss=margin_loss,\n",
        "              optimizer=adam,\n",
        "              metrics=tf.keras.metrics.CategoricalAccuracy())\n",
        "model.summary()"
      ]
    },
    {
      "cell_type": "code",
      "execution_count": 7,
      "metadata": {
        "colab": {
          "base_uri": "https://localhost:8080/"
        },
        "id": "oT6aWkug4Lms",
        "outputId": "2a2a93be-3c73-4e43-fb87-85c6f814648b"
      },
      "outputs": [
        {
          "name": "stdout",
          "output_type": "stream",
          "text": [
            "Downloading data from https://storage.googleapis.com/tensorflow/tf-keras-datasets/mnist.npz\n",
            "11490434/11490434 [==============================] - 0s 0us/step\n"
          ]
        }
      ],
      "source": [
        "# data loading in appropriate formate\n",
        "\n",
        "mnist = tf.keras.datasets.mnist\n",
        "\n",
        "(x_train, y_train), (x_test, y_test) = mnist.load_data()\n",
        "x_train, x_test = x_train / 255.0, x_test / 255.0\n",
        "\n",
        "# Add a channels dimension\n",
        "x_train = x_train[..., tf.newaxis].astype(\"float32\")\n",
        "x_test = x_test[..., tf.newaxis].astype(\"float32\")\n",
        "\n",
        "y_train=tf.keras.utils.to_categorical(y_train)\n",
        "y_test=tf.keras.utils.to_categorical(y_test)\n",
        "     "
      ]
    },
    {
      "cell_type": "code",
      "execution_count": null,
      "metadata": {
        "colab": {
          "base_uri": "https://localhost:8080/"
        },
        "id": "CyLvIMbP4LrS",
        "outputId": "ff103e74-76b8-4981-dd18-a01404632c96"
      },
      "outputs": [
        {
          "name": "stdout",
          "output_type": "stream",
          "text": [
            "Epoch 1/5\n",
            " 146/1500 [=>............................] - ETA: 10:10 - loss: 0.1728 - categorical_accuracy: 0.8587"
          ]
        }
      ],
      "source": [
        "model.fit(x_train, y_train, batch_size=32,epochs=5,validation_split=0.2)"
      ]
    },
    {
      "cell_type": "code",
      "execution_count": null,
      "metadata": {
        "id": "_bE-Gn4g4LuJ"
      },
      "outputs": [],
      "source": []
    },
    {
      "cell_type": "code",
      "execution_count": null,
      "metadata": {
        "id": "HP_zDzRZ4LxL"
      },
      "outputs": [],
      "source": []
    },
    {
      "cell_type": "code",
      "execution_count": null,
      "metadata": {
        "id": "fqTXg0rQ4Lzf"
      },
      "outputs": [],
      "source": []
    }
  ],
  "metadata": {
    "colab": {
      "provenance": []
    },
    "gpuClass": "standard",
    "kernelspec": {
      "display_name": "Python 3.7.3 64-bit",
      "language": "python",
      "name": "python3"
    },
    "language_info": {
      "name": "python",
      "version": "3.7.3"
    },
    "vscode": {
      "interpreter": {
        "hash": "916dbcbb3f70747c44a77c7bcd40155683ae19c65e1c03b4aa3499c5328201f1"
      }
    }
  },
  "nbformat": 4,
  "nbformat_minor": 0
}
