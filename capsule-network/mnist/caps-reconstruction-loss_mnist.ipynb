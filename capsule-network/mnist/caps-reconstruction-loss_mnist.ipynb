{
  "nbformat": 4,
  "nbformat_minor": 0,
  "metadata": {
    "colab": {
      "provenance": [],
      "collapsed_sections": []
    },
    "kernelspec": {
      "name": "python3",
      "display_name": "Python 3"
    },
    "language_info": {
      "name": "python"
    },
    "accelerator": "GPU",
    "gpuClass": "standard"
  },
  "cells": [
    {
      "cell_type": "code",
      "source": [
        "\"\"\" some commenting conventions \"\"\"\n",
        "# $ comment -> future suggestion.\n",
        "# * -> changes made in this line."
      ],
      "metadata": {
        "id": "4C_TTjnasSzS"
      },
      "execution_count": null,
      "outputs": []
    },
    {
      "cell_type": "code",
      "execution_count": 1,
      "metadata": {
        "id": "r1102CE8A1J6"
      },
      "outputs": [],
      "source": [
        "import numpy as np\n",
        "import tensorflow as tf\n",
        "from tensorflow import keras"
      ]
    },
    {
      "cell_type": "code",
      "source": [
        "%matplotlib inline\n",
        "import matplotlib\n",
        "import matplotlib.pyplot as plt"
      ],
      "metadata": {
        "id": "4br1Kl6Gkhla"
      },
      "execution_count": 2,
      "outputs": []
    },
    {
      "cell_type": "code",
      "source": [
        "import os\n",
        "import time"
      ],
      "metadata": {
        "id": "loEriXJ0zCq2"
      },
      "execution_count": 3,
      "outputs": []
    },
    {
      "cell_type": "code",
      "source": [
        "@tf.function\n",
        "def squash(v,epsilon=1e-7,axis=-1):\n",
        "    sqnrm=tf.reduce_sum(tf.square(v), axis=axis,keepdims=True)\n",
        "    nrm=tf.sqrt(sqnrm + epsilon) #safe norm to avoid divide by zero.\n",
        "    sqsh_factor = sqnrm / (1. + sqnrm)\n",
        "    unit_vect = v / nrm\n",
        "    return sqsh_factor*unit_vect\n",
        "\n",
        "@tf.function\n",
        "def safe_norm(s, axis=-1, epsilon=1e-7, keep_dims=False):\n",
        "        squared_norm = tf.reduce_sum(tf.square(s),axis=axis,keepdims=keep_dims)\n",
        "        return tf.sqrt(squared_norm + epsilon)"
      ],
      "metadata": {
        "id": "OF9drKA_mXWT"
      },
      "execution_count": 4,
      "outputs": []
    },
    {
      "cell_type": "code",
      "source": [
        "# data loading in appropriate formate\n",
        "\n",
        "mnist = tf.keras.datasets.mnist\n",
        "\n",
        "(x_train, y_train), (x_test, y_test) = mnist.load_data()\n",
        "x_train, x_test = x_train / 255.0, x_test / 255.0\n",
        "\n",
        "# Add a channels dimension\n",
        "x_train = x_train[..., tf.newaxis].astype(\"float32\")\n",
        "x_test = x_test[..., tf.newaxis].astype(\"float32\")\n",
        "\n",
        "#y_train=tf.keras.utils.to_categorical(y_train)\n",
        "#y_test=tf.keras.utils.to_categorical(y_test)"
      ],
      "metadata": {
        "id": "vD3m_sdTmdF8",
        "colab": {
          "base_uri": "https://localhost:8080/"
        },
        "outputId": "7f00617b-2b3d-4915-ea3c-fe101d40328f"
      },
      "execution_count": 5,
      "outputs": [
        {
          "output_type": "stream",
          "name": "stdout",
          "text": [
            "Downloading data from https://storage.googleapis.com/tensorflow/tf-keras-datasets/mnist.npz\n",
            "11493376/11490434 [==============================] - 0s 0us/step\n",
            "11501568/11490434 [==============================] - 0s 0us/step\n"
          ]
        }
      ]
    },
    {
      "cell_type": "code",
      "source": [
        "train_dataset = tf.data.Dataset.from_tensor_slices((x_train, y_train))\n",
        "test_dataset = tf.data.Dataset.from_tensor_slices((x_test, y_test))\n",
        "BATCH_SIZE = 64\n",
        "SHUFFLE_BUFFER_SIZE = 100\n",
        "\n",
        "train_dataset = train_dataset.shuffle(SHUFFLE_BUFFER_SIZE).batch(BATCH_SIZE)\n",
        "test_dataset = test_dataset.batch(BATCH_SIZE)"
      ],
      "metadata": {
        "id": "N95mbbF3mg_W"
      },
      "execution_count": 6,
      "outputs": []
    },
    {
      "cell_type": "code",
      "source": [
        "\"\"\"caps1_n_maps = 32\n",
        "caps1_n_caps = caps1_n_maps * 6 * 6  # 1152 primary capsules\n",
        "caps1_n_dims = 8\n",
        "\n",
        "# digit capsule layer\n",
        "caps2_n_caps = 10 # 10 capsule each digit.\n",
        "caps2_n_dims = 16 # each of the 10 capsules are of 16 dims.\"\"\""
      ],
      "metadata": {
        "id": "Tt6jaI1Ymjlk"
      },
      "execution_count": null,
      "outputs": []
    },
    {
      "cell_type": "code",
      "source": [
        "class Primary_caps_layer(tf.keras.layers.Layer):\n",
        "  \"\"\" caps_n(i) --> no of capsule in ith layer \n",
        "      caps_dim(i) --> dimension of capsule in ith layer. \n",
        "      \n",
        "      primary_caps_layer output shape = [batch_size,caps_n,caps_dim]\"\"\"\n",
        "\n",
        "  def __init__(self,caps_n=1152,k1=256,k2=256,k_s1=9,k_s2=5,s1=1,s2=3):\n",
        "    super(Primary_caps_layer, self).__init__()\n",
        "    self.caps_n=caps_n  # no of capsule in this layer.(as initialized by usr this may be changed based on other parameters.)\n",
        "    self.k1=k1          # no of filter in 1st conv layer.\n",
        "    self.k2=k2          # no of filter in 2nd conv layer.\n",
        "    self.k_s1=k_s1      # kernel_size of 1st conv layer.\n",
        "    self.k_s2=k_s2      # kernel_size of 2nd conv layer.\n",
        "    self.s1=s1          # stride in 1st conv layer.\n",
        "    self.s2=s2          # stride in 2nd conv layer.\n",
        "    self.conv1=tf.keras.layers.Conv2D(k1,kernel_size=k_s1,strides=s1,padding='valid',activation='relu') \n",
        "    self.conv2=tf.keras.layers.Conv2D(k2,kernel_size=k_s2,strides=s2,padding='valid',activation='relu')\n",
        "\n",
        "  def call(self, input_tensor):\n",
        "    batch_size=input_tensor.shape[0]\n",
        "    x=self.conv1(input_tensor)\n",
        "    x=self.conv2(x) \n",
        "\n",
        "    assert x.shape[1]*x.shape[1]*self.k2==self.caps_n*self.caps_dim # $ eqn--1\n",
        "\n",
        "    x=tf.reshape(x,[batch_size,self.caps_n,self.caps_dim]) # *\n",
        "    return squash(x)\n",
        "\n",
        "  def build(self,input_shape):\n",
        "    self.batch_size=input_shape[0] \n",
        "    tmp=int(((input_shape[1]-self.k_s1)/self.s1))+1\n",
        "    self.conv1_output_shape=[input_shape[0],tmp,tmp,self.k1]\n",
        "    tmp=int(((tmp-self.k_s2)/self.s2))+1\n",
        "    self.conv2_output_shape=[input_shape[0],tmp,tmp,self.k2]\n",
        "    tmp1=tmp*tmp*self.k2\n",
        "    self.caps_n=self.caps_n-(tmp1%self.caps_n) # recomputing apropriate no of capsule : $ eqn--1 is true.\n",
        "    self.caps_dim=int((tmp*tmp*self.k2)/self.caps_n); # same is done for caps_dim.\n",
        "    \n",
        "    "
      ],
      "metadata": {
        "id": "ZBRdeYRFmmCU"
      },
      "execution_count": 7,
      "outputs": []
    },
    {
      "cell_type": "code",
      "source": [
        "class Digit_caps_layer(tf.keras.layers.Layer):\n",
        "  \"\"\" caps_n(i) --> no of capsule in ith layer \n",
        "      caps_dim(i) --> dimension of capsule in ith layer. \n",
        "      and we assume this is ith layer. \n",
        "      output.shape of ith layer = [batch_size, 1,caps_n(i),caps_dim(i), 1]\"\"\"\n",
        "\n",
        "  def __init__(self,caps_dim=16,caps_n=10,r=3):\n",
        "    super(Digit_caps_layer,self).__init__()\n",
        "    self.caps_n=caps_n # no of capsule.\n",
        "    self.caps_dim=caps_dim # dim of each capsule.\n",
        "    self.r=r # no of iteration in routing by agreement algorithm.\n",
        "    \n",
        "  def build(self,input_shape): # input_shape = [batch_size,caps_n(i-1),caps_dim(i-1)] \n",
        "    self.W = tf.Variable(initial_value=tf.random.normal(\n",
        "    shape=(1, input_shape[1], self.caps_n, self.caps_dim, input_shape[-1]),\n",
        "    stddev=0.1, dtype=tf.float32),\n",
        "    trainable=True)  #weigth initialization for this layer W.shape=[1,caps_n(i-1),caps_n(i),caps_dim(i),caps_dim(i-1)].\n",
        "\n",
        "  def call(self,input_tensor): #input_tensor.shape=[batch_size,caps_n(i-1),caps_dim(i-1)]\n",
        "    batch_size = input_tensor.shape[0]\n",
        "    W_tiled = tf.tile(self.W, [batch_size, 1, 1, 1, 1]) # replicating the weights for parallel processing of a batch.\n",
        "    \"\"\" W_tiled.shape=[batch_size,caps_n(i-1),caps_n(i),caps_dim(i),caps_dim(i-1)] \"\"\"\n",
        "\n",
        "    caps_output_expanded = tf.expand_dims(input_tensor, -1) # converting last dim to a column vector.\n",
        "    \"\"\" the above step change the input shape from \n",
        "        [batch_size,caps_n(i-1),caps_dim(i-1)] --> [batch_size,caps_n(i-1),caps_dim(i-1),1]\"\"\"\n",
        "\n",
        "    caps_output_tile = tf.expand_dims(caps_output_expanded, 2)\n",
        "    \"\"\" the above step change the input shape from \n",
        "        [batch_size,caps_n(i-1),caps_dim(i-1),1] --> [batch_size,caps_n(i-1),1,caps_dim(i-1),1]\"\"\"\n",
        "\n",
        "    caps_output_tiled = tf.tile(caps_output_tile, [1, 1, self.caps_n, 1, 1]) # replicating the input capsule vector for every output capsule.\n",
        "    \"\"\" i.e [batch_size,caps_n(i-1),1,caps_dim(i-1),1] --> [batch_size,caps_n(i-1),caps_n(i),1,caps_dim(i-1),1]\"\"\"\n",
        "\n",
        "    caps_predicted = tf.matmul(W_tiled, caps_output_tiled) # this is performing element wise tf.matmul() operation.\n",
        "    \"\"\" caps_predicted.shape = [1,caps_n(i-1),caps_n(i),caps_dim(i),1]\"\"\"\n",
        "\n",
        "    \"\"\" dynamic routing \"\"\"\n",
        "    raw_weights = tf.zeros([batch_size,input_tensor.shape[1] , self.caps_n, 1, 1]) # non trainable weights.\n",
        "    \"\"\" raw_weights.shape=[batch_size,caps_n(i-1) ,caps_n(i), 1, 1]\"\"\"\n",
        "\n",
        "    r=self.r\n",
        "    while(r):\n",
        "      r-=1\n",
        "      routing_weights = tf.nn.softmax(raw_weights,axis=2)\n",
        "      \"\"\" [batch_size,caps_n(i-1) ,caps_n(i), 1, 1]  softmax applied along the pointed dim.\n",
        "                                       ^                                                   \"\"\"\n",
        "\n",
        "      weighted_predictions = tf.multiply(routing_weights, caps_predicted)\n",
        "      \"\"\" weighted_predictions.shape = [batch_size, caps_n(i-1),caps_n(i),caps_dim(i), 1]\"\"\"\n",
        "\n",
        "      weighted_sum = tf.reduce_sum(weighted_predictions, axis=1, keepdims=True)\n",
        "      \"\"\" [batch_size,caps_n(i-1) ,caps_n(i),caps_dim(i), 1]  sum applied along the pointed dim.\n",
        "                           ^                                                               \n",
        "      therefore weighted_sum.shape=[batch_size,1 ,caps_n(i),caps_dim(i), 1]\"\"\"\n",
        "\n",
        "      v = squash(weighted_sum, axis=-2) #normalize to unit length vector.\n",
        "      v_tiled = tf.tile(v, [1, input_tensor.shape[1], 1, 1, 1])\n",
        "      \"\"\" v_tiled.shape=[batch_size,caps_n(i-1),caps_n(i),caps_dim(i), 1]\"\"\"\n",
        "\n",
        "      agreement = tf.matmul(caps_predicted, v_tiled,transpose_a=True)\n",
        "      \"\"\" agreement.shape=[batch_size,caps_n(i-1),caps_n(i), 1, 1]\"\"\"\n",
        "\n",
        "      if(r>0):\n",
        "          routing_weights+=agreement\n",
        "      else:\n",
        "          return v"
      ],
      "metadata": {
        "id": "bHNkcT-GmtXt"
      },
      "execution_count": 8,
      "outputs": []
    },
    {
      "cell_type": "code",
      "source": [
        "class Caps_net(tf.keras.Model):\n",
        "\n",
        "  def __init__(self,no_classes=10):\n",
        "    super(Caps_net,self).__init__()\n",
        "    self.no_classes=no_classes\n",
        "    self.pri_layer=Primary_caps_layer(caps_n=1152,k1=256,k2=256,k_s1=9,k_s2=9,s1=1,s2=2)\n",
        "    self.dig_layer=Digit_caps_layer(caps_dim=16,caps_n=no_classes,r=3)\n",
        "\n",
        "    self.decoder=tf.keras.Sequential([\n",
        "      keras.layers.Dense(512, activation='relu'),\n",
        "      keras.layers.Dense(1024, activation='relu'),\n",
        "      keras.layers.Dense(28*28, activation='sigmoid'),\n",
        "    ])\n",
        "\n",
        "  def call(self,input_tensor,y,training=False):\n",
        "    \"\"\" y should not be prob. dist/one-hot vectors it should be list of label for mnist it would \n",
        "        be as [1,4,6,3,8,7,...,5]. \n",
        "        when training is false y is not needed.\"\"\"\n",
        "\n",
        "    batch_size=input_tensor.shape[0]\n",
        "    img_dim=input_tensor.shape[1] # considering image size=(img_dim,img_dim,img_depth)\n",
        "    img_depth=input_tensor.shape[-1]\n",
        "\n",
        "    x = self.pri_layer(input_tensor) #x.shape=[batch_size,caps_n(i),caps_dim(i)]\n",
        "    x = self.dig_layer(x) #x.shape=[batch_size, 1,caps_n(i),caps_dim(i), 1]\n",
        "    z = safe_norm(x, axis=-2) #x.shape=[batch_size,1,caps_n(i-1),1]\n",
        "    z = tf.nn.softmax(z,axis=2) #converting those probabilities to prob dist.\n",
        "    y_pred = tf.squeeze(z, axis=[1,3]) #reducing the extra dims. therefore the output shape =[batch_size,caps_n(i-1)] \n",
        "    if(training==False):\n",
        "      return y_pred  # y_pred is a prob. dist.\n",
        "\n",
        "    loss=tf.keras.losses.CategoricalCrossentropy(from_logits=False)(tf.one_hot(y,depth=self.no_classes), y_pred)\n",
        "\n",
        "    #loss2 i.e reconstruction loss.\n",
        "    reconstruction_mask = tf.one_hot(y,depth=self.no_classes) # recon_mask is one-hot vect rep. of y.\n",
        "    \n",
        "    reconstruction_mask_reshaped = tf.reshape(reconstruction_mask, [batch_size, 1, self.no_classes, 1, 1])\n",
        "    # above reshape is done so that we can apply the mask.\n",
        "    lastcaps_output_masked = tf.multiply(x, reconstruction_mask_reshaped)\n",
        "\n",
        "    lastcaps_n=x.shape[2] # no of capsule in last layer.\n",
        "    lastcaps_dims=x.shape[3] # dim of capsule in last layer.\n",
        "\n",
        "    decoder_input = tf.reshape(lastcaps_output_masked,[batch_size, lastcaps_n * lastcaps_dims])\n",
        "    \n",
        "    decoder_output=self.decoder(decoder_input) \n",
        "    \"\"\" reconstruction of the input image based on the output vector of last layer\n",
        "        we apply the mask to the output of the last layer such that only the vector corresponding to a\n",
        "        particular lable is passed to the decoder.\"\"\"\n",
        "\n",
        "    X_flat = tf.reshape(input_tensor, [batch_size,img_dim*img_dim]) # $ changes may be needed.\n",
        "    \n",
        "    squared_difference = tf.square(X_flat - decoder_output)\n",
        "    reconstruction_loss = tf.reduce_mean(squared_difference) # computation of mean squared loss between input image and reconstructed image.\n",
        "  \n",
        "    return loss+0.0005*reconstruction_loss\n",
        "    \n",
        "  \n"
      ],
      "metadata": {
        "id": "vRduiI2Xm0oG"
      },
      "execution_count": 30,
      "outputs": []
    },
    {
      "cell_type": "code",
      "source": [
        "model=Caps_net(no_classes=10)"
      ],
      "metadata": {
        "id": "srzXnhwMm3I9"
      },
      "execution_count": 34,
      "outputs": []
    },
    {
      "cell_type": "code",
      "source": [
        "\"\"\"customize training loop.\"\"\"\n",
        "\n",
        "# Instantiate an optimizer to train the model.\n",
        "base_learning_rate = 0.0001\n",
        "optimizer = tf.keras.optimizers.Adam(learning_rate=base_learning_rate)\n",
        "# Instantiate a loss function.\n",
        "loss_fn = tf.keras.losses.CategoricalCrossentropy(from_logits=False)\n",
        "\n",
        "# Prepare the metrics.\n",
        "train_acc_metric = tf.keras.metrics.CategoricalAccuracy()\n",
        "val_acc_metric = tf.keras.metrics.CategoricalAccuracy()"
      ],
      "metadata": {
        "id": "hKicCH9JMREz"
      },
      "execution_count": 35,
      "outputs": []
    },
    {
      "cell_type": "code",
      "source": [
        "epochs = 3\n",
        "for epoch in range(epochs):\n",
        "    print(\"\\nepoch {}/{}\".format(epoch+1,epochs))\n",
        "    pbar = keras.utils.Progbar(target=int(train_dataset.cardinality()))\n",
        "    metrics = {}\n",
        "\n",
        "    # Iterate over the batches of the dataset.\n",
        "    for step, (x_batch_train, y_batch_train) in enumerate(train_dataset):\n",
        "        with tf.GradientTape() as tape:\n",
        "            y_pred=model(x_batch_train,y_batch_train,training=False) # $ better design needed.\n",
        "            # y_pred is prob. dist.\n",
        "            loss_value = model(x_batch_train,y_batch_train,training=True) # loss computation\n",
        "        grads = tape.gradient(loss_value, model.trainable_weights) # back prop\n",
        "        optimizer.apply_gradients(zip(grads, model.trainable_weights)) # weight update\n",
        "\n",
        "        # Update training metric.\n",
        "        train_acc_metric.update_state(tf.keras.utils.to_categorical(y_batch_train,num_classes=10), y_pred)\n",
        "        metrics.update({'train_acc':train_acc_metric.result()})\n",
        "        pbar.update(step+1, values=metrics.items(), finalize=False)\n",
        "\n",
        "\n",
        "    # Run a validation loop at the end of each epoch.\n",
        "    for x_batch_val, y_batch_val in test_dataset:\n",
        "      y_batch_val=tf.keras.utils.to_categorical(y_batch_val,num_classes=10)\n",
        "      val_pred = model(x_batch_val,y_batch_val,training=False) # $ better design needed\n",
        "      # Update val metrics\n",
        "      val_acc_metric.update_state(y_batch_val, val_pred)\n",
        "\n",
        "    metrics.update({'val_acc':val_acc_metric.result()})\n",
        "    \n",
        "    pbar.update(step+1, values=metrics.items(), finalize=True)\n",
        "    \n",
        "    # Reset training & val metrics at the end of each epoch\n",
        "    train_acc_metric.reset_states()\n",
        "    val_acc_metric.reset_states()"
      ],
      "metadata": {
        "id": "qtHAFR9ey6FW",
        "colab": {
          "base_uri": "https://localhost:8080/"
        },
        "outputId": "2c93fac1-2b86-484c-a0c4-156f6bc3922f"
      },
      "execution_count": 36,
      "outputs": [
        {
          "output_type": "stream",
          "name": "stdout",
          "text": [
            "\n",
            "epoch 1/3\n",
            "938/938 [==============================] - 134s 142ms/step - train_acc: 0.8100 - val_acc: 0.9582\n",
            "\n",
            "epoch 2/3\n",
            "938/938 [==============================] - 133s 141ms/step - train_acc: 0.9584 - val_acc: 0.9698\n",
            "\n",
            "epoch 3/3\n",
            "938/938 [==============================] - 133s 141ms/step - train_acc: 0.9686 - val_acc: 0.9751\n"
          ]
        }
      ]
    },
    {
      "cell_type": "code",
      "source": [],
      "metadata": {
        "id": "OsqXiwpSxECZ"
      },
      "execution_count": null,
      "outputs": []
    }
  ]
}