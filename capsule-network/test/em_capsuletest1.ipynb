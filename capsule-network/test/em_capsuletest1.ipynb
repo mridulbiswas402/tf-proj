{
  "nbformat": 4,
  "nbformat_minor": 0,
  "metadata": {
    "colab": {
      "provenance": []
    },
    "kernelspec": {
      "name": "python3",
      "display_name": "Python 3"
    },
    "language_info": {
      "name": "python"
    }
  },
  "cells": [
    {
      "cell_type": "code",
      "source": [
        "import numpy as np\n",
        "import tensorflow as tf\n",
        "from tensorflow import keras"
      ],
      "metadata": {
        "id": "fOGVV6nDtSq4"
      },
      "execution_count": 1,
      "outputs": []
    },
    {
      "cell_type": "code",
      "source": [
        "import tensorflow_probability as tfp"
      ],
      "metadata": {
        "id": "IOtxjau3zZ02"
      },
      "execution_count": 2,
      "outputs": []
    },
    {
      "cell_type": "code",
      "source": [
        "%matplotlib inline\n",
        "import matplotlib\n",
        "import matplotlib.pyplot as plt"
      ],
      "metadata": {
        "id": "fJ6tSixatSmk"
      },
      "execution_count": 3,
      "outputs": []
    },
    {
      "cell_type": "code",
      "source": [
        "from scipy import random"
      ],
      "metadata": {
        "id": "kfiuNJgWyHIR"
      },
      "execution_count": 4,
      "outputs": []
    },
    {
      "cell_type": "code",
      "source": [
        "@tf.function\n",
        "def squash(x, axis=-1):\n",
        "    s_squared_norm = tf.math.reduce_sum(tf.math.square(x), axis, keepdims=True) + keras.backend.epsilon()\n",
        "    scale = tf.math.sqrt(s_squared_norm) / (1 + s_squared_norm)\n",
        "    return scale * x\n",
        "\n",
        "@tf.function\n",
        "def margin_loss(y_true, y_pred):\n",
        "    lamb, margin = 0.5, 0.1\n",
        "    return tf.math.reduce_sum((y_true * tf.math.square(tf.nn.relu(1 - margin - y_pred)) + lamb * (\n",
        "        1 - y_true) * tf.math.square(tf.nn.relu(y_pred - margin))), axis=-1)\n",
        "\n",
        "@tf.function\n",
        "def safe_norm(s, axis=-1, epsilon=1e-7, keep_dims=False):\n",
        "        squared_norm = tf.reduce_sum(tf.square(s),axis=axis,keepdims=keep_dims)\n",
        "        return tf.sqrt(squared_norm + epsilon)"
      ],
      "metadata": {
        "id": "BKyd89txbmFi"
      },
      "execution_count": 5,
      "outputs": []
    },
    {
      "cell_type": "code",
      "source": [
        "# data loading in appropriate formate\n",
        "\n",
        "mnist = tf.keras.datasets.mnist\n",
        "\n",
        "(x_train, y_train), (x_test, y_test) = mnist.load_data()\n",
        "x_train, x_test = x_train / 255.0, x_test / 255.0\n",
        "\n",
        "# Add a channels dimension\n",
        "x_train = x_train[..., tf.newaxis].astype(\"float64\")\n",
        "x_test = x_test[..., tf.newaxis].astype(\"float64\")"
      ],
      "metadata": {
        "colab": {
          "base_uri": "https://localhost:8080/"
        },
        "id": "kEcUTqYKjlDU",
        "outputId": "2b8e0392-483e-4f88-a2aa-9b614a1c5d36"
      },
      "execution_count": 6,
      "outputs": [
        {
          "output_type": "stream",
          "name": "stdout",
          "text": [
            "Downloading data from https://storage.googleapis.com/tensorflow/tf-keras-datasets/mnist.npz\n",
            "11490434/11490434 [==============================] - 1s 0us/step\n"
          ]
        }
      ]
    },
    {
      "cell_type": "code",
      "source": [
        "X=x_train[:3]"
      ],
      "metadata": {
        "id": "kbKVUPJfkm9r"
      },
      "execution_count": 7,
      "outputs": []
    },
    {
      "cell_type": "code",
      "source": [
        "X.shape"
      ],
      "metadata": {
        "colab": {
          "base_uri": "https://localhost:8080/"
        },
        "id": "BuqYVLcakm6y",
        "outputId": "e4d17bf5-2158-463d-a2f7-b811c7f537fe"
      },
      "execution_count": 8,
      "outputs": [
        {
          "output_type": "execute_result",
          "data": {
            "text/plain": [
              "(3, 28, 28, 1)"
            ]
          },
          "metadata": {},
          "execution_count": 8
        }
      ]
    },
    {
      "cell_type": "code",
      "source": [
        "c1=tf.keras.layers.Conv2D(256,kernel_size=5,strides=1,padding='valid',activation='relu')\n",
        "c2=tf.keras.layers.Conv2D(256,kernel_size=5,strides=2,padding='valid',activation='relu')\n",
        "c3=tf.keras.layers.Conv2D(256,kernel_size=5,strides=2,padding='valid',activation='relu')\n",
        "bn1=tf.keras.layers.BatchNormalization()\n",
        "bn2=tf.keras.layers.BatchNormalization()"
      ],
      "metadata": {
        "id": "2OQxJ7ymkm2d"
      },
      "execution_count": 9,
      "outputs": []
    },
    {
      "cell_type": "code",
      "source": [
        "z=c3(bn2(c2(bn1(c1(X)))))"
      ],
      "metadata": {
        "id": "HxBrNX1Vkm0l"
      },
      "execution_count": 10,
      "outputs": []
    },
    {
      "cell_type": "code",
      "source": [
        "z.shape"
      ],
      "metadata": {
        "colab": {
          "base_uri": "https://localhost:8080/"
        },
        "id": "XBCwWePukmx8",
        "outputId": "3157f08b-496f-471f-8f16-bbf39cb43b8f"
      },
      "execution_count": 11,
      "outputs": [
        {
          "output_type": "execute_result",
          "data": {
            "text/plain": [
              "TensorShape([3, 3, 3, 256])"
            ]
          },
          "metadata": {},
          "execution_count": 11
        }
      ]
    },
    {
      "cell_type": "code",
      "source": [
        "z=tf.reshape(z,[-1,256,9])"
      ],
      "metadata": {
        "id": "ctobBWiCkmvn"
      },
      "execution_count": 12,
      "outputs": []
    },
    {
      "cell_type": "code",
      "source": [
        "z.shape"
      ],
      "metadata": {
        "colab": {
          "base_uri": "https://localhost:8080/"
        },
        "id": "R4qhQ8Y0kmtX",
        "outputId": "573b5a3f-6d15-400d-eb4d-b8748eda52b5"
      },
      "execution_count": 13,
      "outputs": [
        {
          "output_type": "execute_result",
          "data": {
            "text/plain": [
              "TensorShape([3, 256, 9])"
            ]
          },
          "metadata": {},
          "execution_count": 13
        }
      ]
    },
    {
      "cell_type": "code",
      "source": [
        "n=256\n",
        "k=10\n",
        "d=9\n",
        "batch_size=3"
      ],
      "metadata": {
        "id": "o5KOK_GXkmqr"
      },
      "execution_count": 14,
      "outputs": []
    },
    {
      "cell_type": "code",
      "source": [
        "z=tf.cast(z, tf.float64)"
      ],
      "metadata": {
        "id": "k3UB6-bvkmmO"
      },
      "execution_count": 15,
      "outputs": []
    },
    {
      "cell_type": "code",
      "source": [
        "init_sigma = 0.1\n",
        "\n",
        "W_init = tf.random.normal(\n",
        "    shape=(1,n,k,d,d),\n",
        "    stddev=init_sigma, dtype=tf.float64)\n",
        "W = tf.Variable(W_init)"
      ],
      "metadata": {
        "id": "LRqFT8C_ryuq"
      },
      "execution_count": 16,
      "outputs": []
    },
    {
      "cell_type": "code",
      "source": [
        "W.shape"
      ],
      "metadata": {
        "colab": {
          "base_uri": "https://localhost:8080/"
        },
        "id": "06NR4RtTsTCr",
        "outputId": "4d207759-4ad4-4c96-f6d8-d2b82a93ae82"
      },
      "execution_count": 17,
      "outputs": [
        {
          "output_type": "execute_result",
          "data": {
            "text/plain": [
              "TensorShape([1, 256, 10, 9, 9])"
            ]
          },
          "metadata": {},
          "execution_count": 17
        }
      ]
    },
    {
      "cell_type": "code",
      "source": [
        "caps1_output_expanded = tf.expand_dims(z, -1)\n",
        "caps1_output_tile = tf.expand_dims(caps1_output_expanded, 2)\n",
        "caps1_output_tiled = tf.tile(caps1_output_tile, [1, 1,k, 1, 1])"
      ],
      "metadata": {
        "id": "0eAj_31ksaZc"
      },
      "execution_count": 18,
      "outputs": []
    },
    {
      "cell_type": "code",
      "source": [
        "caps1_output_tiled.shape"
      ],
      "metadata": {
        "colab": {
          "base_uri": "https://localhost:8080/"
        },
        "id": "zGsF7PCds0nF",
        "outputId": "d8e1dbcc-fc2b-4616-f7a2-6c4d45e41777"
      },
      "execution_count": 19,
      "outputs": [
        {
          "output_type": "execute_result",
          "data": {
            "text/plain": [
              "TensorShape([3, 256, 10, 9, 1])"
            ]
          },
          "metadata": {},
          "execution_count": 19
        }
      ]
    },
    {
      "cell_type": "code",
      "source": [
        "caps2_predicted=tf.matmul(W,caps1_output_tiled)"
      ],
      "metadata": {
        "id": "WcatWjYOtN8-"
      },
      "execution_count": 20,
      "outputs": []
    },
    {
      "cell_type": "code",
      "source": [
        "caps2_predicted.shape"
      ],
      "metadata": {
        "colab": {
          "base_uri": "https://localhost:8080/"
        },
        "id": "KACAN1_itbf2",
        "outputId": "396ad28f-7716-4f94-f0b0-3dbffc7f93f9"
      },
      "execution_count": 21,
      "outputs": [
        {
          "output_type": "execute_result",
          "data": {
            "text/plain": [
              "TensorShape([3, 256, 10, 9, 1])"
            ]
          },
          "metadata": {},
          "execution_count": 21
        }
      ]
    },
    {
      "cell_type": "code",
      "source": [
        "z.shape"
      ],
      "metadata": {
        "colab": {
          "base_uri": "https://localhost:8080/"
        },
        "id": "7pNTLlVG1vZu",
        "outputId": "cf0a7531-d82a-4aa2-a82d-a80203c23863"
      },
      "execution_count": 22,
      "outputs": [
        {
          "output_type": "execute_result",
          "data": {
            "text/plain": [
              "TensorShape([3, 256, 9])"
            ]
          },
          "metadata": {},
          "execution_count": 22
        }
      ]
    },
    {
      "cell_type": "code",
      "source": [
        "init_mu = random.rand(batch_size,k, d)*20 - 10\n",
        "mu = init_mu\n",
        "\n",
        "init_sigma = np.zeros((k, d, d))\n",
        "for i in range(k):\n",
        "    init_sigma[i] = np.eye(d)\n",
        "sigma = init_sigma\n",
        "sigma=tf.expand_dims(sigma,axis=0)\n",
        "sigma=tf.tile(sigma,[batch_size,1,1,1])\n",
        "\n",
        "init_pi = np.ones(k)/k\n",
        "pi = init_pi\n",
        "pi=tf.expand_dims(pi,axis=0)\n",
        "pi=tf.tile(pi,[batch_size,1])\n",
        "\n",
        "R=np.zeros(shape=(n,k))\n",
        "R=tf.expand_dims(R,axis=0)\n",
        "R=tf.tile(R,[batch_size,1,1])\n",
        "\n",
        "pi=tf.Variable(pi,dtype=tf.float64)\n",
        "mu=tf.Variable(mu,dtype=tf.float64)\n",
        "sigma=tf.Variable(sigma,dtype=tf.float64)\n",
        "R=tf.Variable(R,dtype=tf.float64)\n",
        "\n",
        "print(mu.shape,pi.shape,sigma.shape,R.shape)\n",
        "\n",
        "N=np.zeros((batch_size,n))\n",
        "N=tf.Variable(N,dtype=tf.float64)"
      ],
      "metadata": {
        "colab": {
          "base_uri": "https://localhost:8080/"
        },
        "id": "gkm6w1qBwpX7",
        "outputId": "b945f1c1-dbe3-4a50-9df4-c00ba4f8899d"
      },
      "execution_count": 23,
      "outputs": [
        {
          "output_type": "stream",
          "name": "stdout",
          "text": [
            "(3, 10, 9) (3, 10) (3, 10, 9, 9) (3, 256, 10)\n"
          ]
        }
      ]
    },
    {
      "cell_type": "code",
      "source": [
        "# E-step.\n",
        "for i in range(k):\n",
        "    for b in range(batch_size):\n",
        "        tmp = tfp.distributions.MultivariateNormalFullCovariance(loc=mu[b][i],\n",
        "                                                               covariance_matrix=sigma[b][i]).prob(z[b])\n",
        "        N[b].assign(tmp)\n",
        "    R[:,:,i].assign(tf.expand_dims(pi[:,i],axis=1)*N)\n",
        "R.assign(R/tf.reduce_sum(R,axis=2, keepdims=True))\n",
        "\n",
        "# M-step\n",
        "N_k=tf.reduce_sum(R,axis=1)\n",
        "pi=N_k/n\n",
        "mu=tf.matmul(tf.transpose(R,perm=[0,2,1]),z)\n",
        "mu=mu/N_k[:,:,None]\n",
        "\n",
        "for i in range(k):\n",
        "    tmp=z-tf.expand_dims(mu[:,i,:],axis=1)\n",
        "    tmp=tf.expand_dims(tmp,axis=-1)\n",
        "    tmp_T=tf.transpose(tmp,perm=[0,1,3,2])\n",
        "    res=tf.matmul(tmp,tmp_T)\n",
        "    res=tf.multiply(tf.reshape(R[:,:,i],[batch_size,n,1,1]),res)\n",
        "    res=tf.reduce_sum(res,axis=1)/tf.reshape(N_k[:,i],[batch_size,1,1])\n",
        "    sigma[:,i].assign(res)"
      ],
      "metadata": {
        "id": "8oUqIhTdwpO8"
      },
      "execution_count": 26,
      "outputs": []
    },
    {
      "cell_type": "code",
      "source": [
        "R # coupling coefficient."
      ],
      "metadata": {
        "colab": {
          "base_uri": "https://localhost:8080/"
        },
        "id": "bBRSsV9epUnE",
        "outputId": "0ad84796-c770-4730-dcc2-84ad51b5877d"
      },
      "execution_count": 27,
      "outputs": [
        {
          "output_type": "execute_result",
          "data": {
            "text/plain": [
              "<tf.Variable 'Variable:0' shape=(3, 256, 10) dtype=float64, numpy=\n",
              "array([[[6.25504195e-36, 7.72355429e-32, 7.75496266e-37, ...,\n",
              "         1.67945343e-66, 8.69497372e-47, 1.00000000e+00],\n",
              "        [5.55936456e-36, 3.95371080e-31, 4.32123098e-36, ...,\n",
              "         1.25797381e-65, 3.54704519e-45, 1.00000000e+00],\n",
              "        [1.85381552e-35, 1.06206965e-30, 1.31256265e-35, ...,\n",
              "         1.44571063e-65, 1.06947436e-44, 1.00000000e+00],\n",
              "        ...,\n",
              "        [7.74069738e-36, 1.01337154e-30, 7.17333693e-36, ...,\n",
              "         1.44395249e-65, 6.70218287e-45, 1.00000000e+00],\n",
              "        [3.47690098e-36, 1.95952375e-31, 7.77837623e-38, ...,\n",
              "         3.73396083e-67, 1.01949299e-44, 1.00000000e+00],\n",
              "        [2.62197672e-34, 2.18448834e-30, 5.98471697e-36, ...,\n",
              "         1.21156310e-65, 4.87279626e-48, 1.00000000e+00]],\n",
              "\n",
              "       [[2.66350616e-12, 5.48901058e-09, 1.12164843e-60, ...,\n",
              "         4.28401556e-25, 9.99999995e-01, 8.40737614e-38],\n",
              "        [3.14008151e-10, 5.73578443e-09, 1.99499493e-55, ...,\n",
              "         5.53818775e-27, 9.99999994e-01, 6.13180376e-38],\n",
              "        [1.64649977e-09, 6.46633274e-09, 4.99585647e-55, ...,\n",
              "         5.96496759e-27, 9.99999992e-01, 1.47695876e-37],\n",
              "        ...,\n",
              "        [9.00635875e-10, 3.71377156e-09, 1.87148560e-56, ...,\n",
              "         5.68711902e-27, 9.99999995e-01, 7.28324990e-38],\n",
              "        [1.11905868e-09, 3.91797454e-09, 1.75572691e-55, ...,\n",
              "         5.11884162e-27, 9.99999995e-01, 7.76707254e-38],\n",
              "        [1.62425418e-09, 3.64861509e-09, 1.76660556e-55, ...,\n",
              "         5.06653885e-27, 9.99999995e-01, 4.73524132e-38]],\n",
              "\n",
              "       [[4.62876457e-53, 3.10413045e-32, 1.75724378e-40, ...,\n",
              "         6.98193483e-45, 1.00000000e+00, 3.26683524e-20],\n",
              "        [7.92448398e-52, 1.34446455e-32, 3.13932769e-38, ...,\n",
              "         3.18955300e-43, 1.00000000e+00, 6.62513295e-20],\n",
              "        [2.05350291e-50, 2.85479181e-31, 3.97000299e-36, ...,\n",
              "         3.76968289e-41, 1.00000000e+00, 2.10580434e-19],\n",
              "        ...,\n",
              "        [1.10974520e-50, 2.06756805e-33, 3.43256636e-37, ...,\n",
              "         3.69862829e-43, 1.00000000e+00, 8.09375892e-20],\n",
              "        [1.93788820e-54, 8.07479845e-36, 2.02708007e-40, ...,\n",
              "         1.90775505e-45, 1.00000000e+00, 1.49724047e-22],\n",
              "        [6.83775295e-52, 5.29974878e-34, 5.65535792e-39, ...,\n",
              "         5.79763191e-44, 1.00000000e+00, 3.84960956e-21]]])>"
            ]
          },
          "metadata": {},
          "execution_count": 27
        }
      ]
    },
    {
      "cell_type": "code",
      "source": [
        "caps2_predicted.shape"
      ],
      "metadata": {
        "id": "I5O3k6GFMQM7",
        "colab": {
          "base_uri": "https://localhost:8080/"
        },
        "outputId": "bf306e8d-cb38-4a58-bc45-bd14a1e3c413"
      },
      "execution_count": 29,
      "outputs": [
        {
          "output_type": "execute_result",
          "data": {
            "text/plain": [
              "TensorShape([3, 256, 10, 9, 1])"
            ]
          },
          "metadata": {},
          "execution_count": 29
        }
      ]
    },
    {
      "cell_type": "code",
      "source": [
        "R.shape"
      ],
      "metadata": {
        "colab": {
          "base_uri": "https://localhost:8080/"
        },
        "id": "6aAxQt8jEeOE",
        "outputId": "85754340-25ca-4a35-ad9e-35402163433a"
      },
      "execution_count": 30,
      "outputs": [
        {
          "output_type": "execute_result",
          "data": {
            "text/plain": [
              "TensorShape([3, 256, 10])"
            ]
          },
          "metadata": {},
          "execution_count": 30
        }
      ]
    },
    {
      "cell_type": "code",
      "source": [],
      "metadata": {
        "id": "uppbR99cGvSa"
      },
      "execution_count": null,
      "outputs": []
    },
    {
      "cell_type": "code",
      "source": [
        "weighted_prediction=tf.multiply(caps2_predicted,tf.reshape(R,[batch_size,n,k,1,1]))"
      ],
      "metadata": {
        "id": "b8Cd8i_cFp8Y"
      },
      "execution_count": 37,
      "outputs": []
    },
    {
      "cell_type": "code",
      "source": [
        "weighted_prediction.shape"
      ],
      "metadata": {
        "colab": {
          "base_uri": "https://localhost:8080/"
        },
        "id": "k97goTxAG4iu",
        "outputId": "e07dfce5-25db-4210-b9bf-072740c9fc2f"
      },
      "execution_count": 38,
      "outputs": [
        {
          "output_type": "execute_result",
          "data": {
            "text/plain": [
              "TensorShape([3, 256, 10, 9, 1])"
            ]
          },
          "metadata": {},
          "execution_count": 38
        }
      ]
    },
    {
      "cell_type": "code",
      "source": [
        "weighted_sum = tf.reduce_sum(weighted_prediction, axis=1, keepdims=True)"
      ],
      "metadata": {
        "id": "m3-uLcepG4gd"
      },
      "execution_count": 39,
      "outputs": []
    },
    {
      "cell_type": "code",
      "source": [
        "weighted_sum.shape"
      ],
      "metadata": {
        "colab": {
          "base_uri": "https://localhost:8080/"
        },
        "id": "3vHbDf_GHuxE",
        "outputId": "d4e526c9-c457-4d92-df64-c5a7cdadd06e"
      },
      "execution_count": 40,
      "outputs": [
        {
          "output_type": "execute_result",
          "data": {
            "text/plain": [
              "TensorShape([3, 1, 10, 9, 1])"
            ]
          },
          "metadata": {},
          "execution_count": 40
        }
      ]
    },
    {
      "cell_type": "code",
      "source": [
        "v=squash(weighted_sum, axis=-2)\n",
        "print(v.shape)"
      ],
      "metadata": {
        "colab": {
          "base_uri": "https://localhost:8080/"
        },
        "id": "8-mG2JuqHxeX",
        "outputId": "bf836c19-5f5b-4761-b8cf-c36faccd1213"
      },
      "execution_count": 41,
      "outputs": [
        {
          "output_type": "stream",
          "name": "stdout",
          "text": [
            "(3, 1, 10, 9, 1)\n"
          ]
        }
      ]
    },
    {
      "cell_type": "code",
      "source": [
        "v"
      ],
      "metadata": {
        "colab": {
          "base_uri": "https://localhost:8080/"
        },
        "id": "AghStYSQH2-k",
        "outputId": "760e10af-557c-4d68-b0e6-775b039a12cb"
      },
      "execution_count": 42,
      "outputs": [
        {
          "output_type": "execute_result",
          "data": {
            "text/plain": [
              "<tf.Tensor: shape=(3, 1, 10, 9, 1), dtype=float64, numpy=\n",
              "array([[[[[ 1.16859643e-34],\n",
              "          [ 9.88838018e-35],\n",
              "          [ 3.13300165e-35],\n",
              "          [ 1.40187216e-35],\n",
              "          [ 9.21522128e-35],\n",
              "          [ 3.70461803e-35],\n",
              "          [-1.51467832e-35],\n",
              "          [-3.47508434e-35],\n",
              "          [ 1.12593591e-34]],\n",
              "\n",
              "         [[-2.21480991e-30],\n",
              "          [ 1.75767961e-30],\n",
              "          [-5.21278667e-30],\n",
              "          [ 4.16336280e-31],\n",
              "          [ 1.91546001e-31],\n",
              "          [ 4.64552578e-30],\n",
              "          [-3.77633742e-30],\n",
              "          [ 3.23691998e-30],\n",
              "          [-9.06403971e-31]],\n",
              "\n",
              "         [[ 5.30468174e-35],\n",
              "          [-1.00951429e-35],\n",
              "          [-2.35832705e-35],\n",
              "          [-1.23984912e-35],\n",
              "          [ 3.64071415e-35],\n",
              "          [ 4.80640068e-35],\n",
              "          [ 5.58173564e-35],\n",
              "          [ 3.66953921e-35],\n",
              "          [ 6.08486072e-35]],\n",
              "\n",
              "         [[ 7.16085124e-24],\n",
              "          [ 8.92353740e-24],\n",
              "          [-1.76250177e-24],\n",
              "          [-1.38224372e-24],\n",
              "          [-5.71507509e-24],\n",
              "          [ 1.17544547e-23],\n",
              "          [-6.65828607e-24],\n",
              "          [-5.04886323e-24],\n",
              "          [ 2.39374561e-24]],\n",
              "\n",
              "         [[ 2.98192180e-32],\n",
              "          [-9.82917641e-33],\n",
              "          [-9.80290014e-33],\n",
              "          [-1.17400863e-33],\n",
              "          [ 1.29704251e-32],\n",
              "          [-1.05464844e-32],\n",
              "          [ 1.86687176e-32],\n",
              "          [ 1.59525566e-32],\n",
              "          [ 6.64423363e-33]],\n",
              "\n",
              "         [[ 1.33885238e-30],\n",
              "          [ 1.35625465e-29],\n",
              "          [-2.98835183e-29],\n",
              "          [ 5.72084362e-30],\n",
              "          [ 5.88059527e-30],\n",
              "          [-1.10046574e-30],\n",
              "          [-4.99832452e-30],\n",
              "          [-1.24741064e-29],\n",
              "          [-1.80980773e-30]],\n",
              "\n",
              "         [[ 1.37974003e-32],\n",
              "          [ 1.14481436e-32],\n",
              "          [ 2.72536504e-32],\n",
              "          [ 4.01256210e-32],\n",
              "          [ 2.75663970e-32],\n",
              "          [-2.01755204e-32],\n",
              "          [-2.96170930e-34],\n",
              "          [ 1.15290227e-32],\n",
              "          [ 4.64088507e-33]],\n",
              "\n",
              "         [[ 1.30762728e-65],\n",
              "          [-3.08318168e-66],\n",
              "          [ 8.25316844e-67],\n",
              "          [-1.25683966e-65],\n",
              "          [ 1.51082223e-65],\n",
              "          [ 8.74727601e-66],\n",
              "          [-1.97787403e-66],\n",
              "          [ 4.11213641e-66],\n",
              "          [ 5.83335344e-66]],\n",
              "\n",
              "         [[-1.44492822e-43],\n",
              "          [-1.50787393e-44],\n",
              "          [-5.70482224e-44],\n",
              "          [ 1.85510712e-45],\n",
              "          [-3.93525368e-44],\n",
              "          [-6.02560152e-44],\n",
              "          [-5.08859053e-45],\n",
              "          [ 5.85925720e-44],\n",
              "          [-7.31515808e-44]],\n",
              "\n",
              "         [[-1.52433642e-03],\n",
              "          [-1.42501948e-02],\n",
              "          [ 1.02115299e-02],\n",
              "          [ 5.13207308e-03],\n",
              "          [ 5.05402984e-03],\n",
              "          [ 1.01740100e-02],\n",
              "          [-4.35487502e-03],\n",
              "          [-1.10260585e-02],\n",
              "          [-6.83573973e-03]]]],\n",
              "\n",
              "\n",
              "\n",
              "       [[[[ 1.51719286e-04],\n",
              "          [ 1.17460828e-04],\n",
              "          [ 1.15323266e-05],\n",
              "          [ 6.25485356e-05],\n",
              "          [ 1.12273227e-04],\n",
              "          [ 7.54858179e-05],\n",
              "          [-3.10702967e-05],\n",
              "          [-3.72106825e-05],\n",
              "          [ 1.71036184e-04]],\n",
              "\n",
              "         [[ 1.04289851e-11],\n",
              "          [ 3.97539255e-11],\n",
              "          [ 5.93986077e-11],\n",
              "          [-5.29137847e-12],\n",
              "          [ 1.73776745e-11],\n",
              "          [ 4.05904737e-12],\n",
              "          [ 1.26087795e-11],\n",
              "          [-8.56110047e-12],\n",
              "          [ 2.38643540e-11]],\n",
              "\n",
              "         [[ 3.00324769e-50],\n",
              "          [-5.44815698e-51],\n",
              "          [-2.29107753e-50],\n",
              "          [-8.95052863e-51],\n",
              "          [ 2.61502137e-50],\n",
              "          [ 2.48604501e-50],\n",
              "          [ 2.89302829e-50],\n",
              "          [ 2.48351728e-50],\n",
              "          [ 3.18741659e-50]],\n",
              "\n",
              "         [[ 8.68166772e-37],\n",
              "          [ 3.61853334e-37],\n",
              "          [ 3.91190487e-37],\n",
              "          [ 4.04121522e-37],\n",
              "          [ 1.42305229e-36],\n",
              "          [-3.76257946e-37],\n",
              "          [ 4.01295213e-37],\n",
              "          [-1.20702773e-37],\n",
              "          [ 2.26225264e-37]],\n",
              "\n",
              "         [[ 1.19403176e-25],\n",
              "          [-1.32582346e-24],\n",
              "          [-2.31606796e-24],\n",
              "          [ 2.56706725e-24],\n",
              "          [ 2.63298076e-24],\n",
              "          [ 6.04481825e-24],\n",
              "          [-5.91975481e-25],\n",
              "          [ 1.99477225e-24],\n",
              "          [-4.01140113e-24]],\n",
              "\n",
              "         [[-2.83249992e-18],\n",
              "          [ 2.89424478e-18],\n",
              "          [ 1.09499843e-19],\n",
              "          [ 7.90199137e-19],\n",
              "          [ 3.41744671e-18],\n",
              "          [ 9.65760107e-19],\n",
              "          [-1.71999871e-18],\n",
              "          [-9.46596178e-19],\n",
              "          [ 1.17536895e-18]],\n",
              "\n",
              "         [[ 1.48276999e-35],\n",
              "          [ 1.17326449e-35],\n",
              "          [ 1.97597637e-35],\n",
              "          [ 3.55984265e-35],\n",
              "          [ 1.75655863e-35],\n",
              "          [-1.55769040e-35],\n",
              "          [-5.72139156e-36],\n",
              "          [ 1.10524458e-35],\n",
              "          [ 5.52831156e-36]],\n",
              "\n",
              "         [[ 5.14197484e-30],\n",
              "          [ 2.49059133e-29],\n",
              "          [-9.98095856e-30],\n",
              "          [-2.95443166e-30],\n",
              "          [-1.28960616e-29],\n",
              "          [-6.55125834e-30],\n",
              "          [-9.03833926e-30],\n",
              "          [ 3.32187175e-29],\n",
              "          [ 4.45268581e-29]],\n",
              "\n",
              "         [[ 4.82594934e-03],\n",
              "          [-6.20060712e-03],\n",
              "          [-1.22676249e-02],\n",
              "          [-8.21631832e-03],\n",
              "          [-4.99177147e-03],\n",
              "          [ 1.87829672e-03],\n",
              "          [-1.02791524e-02],\n",
              "          [-1.37391665e-02],\n",
              "          [-1.51908035e-02]],\n",
              "\n",
              "         [[-3.70092914e-38],\n",
              "          [-5.25496821e-38],\n",
              "          [-4.37312650e-39],\n",
              "          [ 5.88347849e-38],\n",
              "          [-8.18833721e-38],\n",
              "          [ 4.10586769e-38],\n",
              "          [ 5.52790937e-38],\n",
              "          [-7.06094793e-39],\n",
              "          [ 5.75139871e-38]]]],\n",
              "\n",
              "\n",
              "\n",
              "       [[[[-3.12009669e-56],\n",
              "          [-1.46875677e-55],\n",
              "          [-1.13986514e-55],\n",
              "          [ 5.02921931e-56],\n",
              "          [ 2.02709496e-55],\n",
              "          [ 8.83302065e-56],\n",
              "          [-7.77365977e-56],\n",
              "          [-3.71487027e-56],\n",
              "          [-1.43919914e-55]],\n",
              "\n",
              "         [[ 2.30191010e-35],\n",
              "          [ 9.91085365e-36],\n",
              "          [ 6.23729291e-35],\n",
              "          [ 6.73517822e-37],\n",
              "          [-4.07982439e-35],\n",
              "          [-8.20980874e-35],\n",
              "          [ 9.66702984e-35],\n",
              "          [-2.39988878e-34],\n",
              "          [-2.97287770e-35]],\n",
              "\n",
              "         [[ 2.89383444e-40],\n",
              "          [-4.83791912e-40],\n",
              "          [ 5.45386118e-40],\n",
              "          [-3.59350624e-40],\n",
              "          [ 1.04888381e-39],\n",
              "          [-1.13017404e-39],\n",
              "          [-1.43930564e-40],\n",
              "          [ 9.07656898e-40],\n",
              "          [-1.59552929e-39]],\n",
              "\n",
              "         [[ 2.99376644e-51],\n",
              "          [-1.28690224e-51],\n",
              "          [ 1.04431130e-51],\n",
              "          [-4.63541539e-51],\n",
              "          [-9.41904995e-53],\n",
              "          [-1.26652754e-51],\n",
              "          [-1.96964062e-51],\n",
              "          [ 2.23721209e-52],\n",
              "          [-4.56149442e-52]],\n",
              "\n",
              "         [[ 9.76479699e-23],\n",
              "          [-5.50667296e-23],\n",
              "          [ 2.70717265e-24],\n",
              "          [-2.16713729e-23],\n",
              "          [ 9.25292561e-24],\n",
              "          [ 3.10794055e-23],\n",
              "          [-8.39986028e-24],\n",
              "          [ 7.52207354e-23],\n",
              "          [-8.54575072e-23]],\n",
              "\n",
              "         [[ 5.99916906e-38],\n",
              "          [-2.18117380e-38],\n",
              "          [ 9.97017526e-38],\n",
              "          [-1.53777440e-37],\n",
              "          [-2.64725372e-37],\n",
              "          [ 7.46470722e-38],\n",
              "          [-1.70340868e-37],\n",
              "          [-1.50376119e-37],\n",
              "          [-8.61933862e-38]],\n",
              "\n",
              "         [[ 8.43802731e-45],\n",
              "          [ 3.39086843e-44],\n",
              "          [-1.52917097e-44],\n",
              "          [ 1.66848705e-44],\n",
              "          [-9.91950889e-45],\n",
              "          [-1.32232949e-44],\n",
              "          [ 1.43511345e-44],\n",
              "          [ 7.97057410e-45],\n",
              "          [ 6.53864342e-45]],\n",
              "\n",
              "         [[-1.96171113e-46],\n",
              "          [ 7.65947790e-45],\n",
              "          [ 2.65328121e-45],\n",
              "          [ 1.10757278e-44],\n",
              "          [ 3.08631637e-45],\n",
              "          [-2.12121218e-46],\n",
              "          [ 4.59212462e-45],\n",
              "          [ 5.49893353e-45],\n",
              "          [ 2.05995006e-45]],\n",
              "\n",
              "         [[-1.64806927e-03],\n",
              "          [-8.09514496e-03],\n",
              "          [-5.75011773e-03],\n",
              "          [ 1.55745250e-03],\n",
              "          [ 6.55492753e-03],\n",
              "          [ 4.84250644e-03],\n",
              "          [-2.57485402e-04],\n",
              "          [ 3.66596102e-03],\n",
              "          [-2.21087325e-03]],\n",
              "\n",
              "         [[ 1.15374357e-22],\n",
              "          [-8.43878268e-23],\n",
              "          [-4.94440991e-23],\n",
              "          [ 2.97503660e-23],\n",
              "          [ 2.17542014e-22],\n",
              "          [ 2.10795249e-22],\n",
              "          [-1.66141964e-22],\n",
              "          [-2.70866792e-22],\n",
              "          [-2.58782798e-24]]]]])>"
            ]
          },
          "metadata": {},
          "execution_count": 42
        }
      ]
    },
    {
      "cell_type": "code",
      "source": [],
      "metadata": {
        "id": "48Jgz_K6H9Nr"
      },
      "execution_count": null,
      "outputs": []
    }
  ]
}