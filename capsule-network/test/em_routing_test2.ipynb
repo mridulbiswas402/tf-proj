{
  "nbformat": 4,
  "nbformat_minor": 0,
  "metadata": {
    "colab": {
      "provenance": []
    },
    "kernelspec": {
      "name": "python3",
      "display_name": "Python 3"
    },
    "language_info": {
      "name": "python"
    }
  },
  "cells": [
    {
      "cell_type": "code",
      "source": [
        "import numpy as np\n",
        "import tensorflow as tf\n",
        "from tensorflow import keras"
      ],
      "metadata": {
        "id": "-DCbvfO3CvPM"
      },
      "execution_count": 1,
      "outputs": []
    },
    {
      "cell_type": "code",
      "source": [
        "import tensorflow_probability as tfp"
      ],
      "metadata": {
        "id": "9qRNpO1Wx61L"
      },
      "execution_count": 2,
      "outputs": []
    },
    {
      "cell_type": "code",
      "source": [
        "%matplotlib inline\n",
        "import matplotlib\n",
        "import matplotlib.pyplot as plt"
      ],
      "metadata": {
        "id": "iEc0gm13CvME"
      },
      "execution_count": 3,
      "outputs": []
    },
    {
      "cell_type": "code",
      "source": [
        "from scipy import random"
      ],
      "metadata": {
        "id": "VsKVCiHmyQdU"
      },
      "execution_count": 4,
      "outputs": []
    },
    {
      "cell_type": "code",
      "source": [
        "import os\n",
        "import time"
      ],
      "metadata": {
        "id": "YJpp1ZU8CvI7"
      },
      "execution_count": 5,
      "outputs": []
    },
    {
      "cell_type": "code",
      "source": [
        "@tf.function\n",
        "def squash(x, axis=-1):\n",
        "    s_squared_norm = tf.math.reduce_sum(tf.math.square(x), axis, keepdims=True) + keras.backend.epsilon()\n",
        "    scale = tf.math.sqrt(s_squared_norm) / (1 + s_squared_norm)\n",
        "    return scale * x\n",
        "\n",
        "@tf.function\n",
        "def margin_loss(y_true, y_pred):\n",
        "    lamb, margin = 0.5, 0.1\n",
        "    return tf.math.reduce_sum((y_true * tf.math.square(tf.nn.relu(1 - margin - y_pred)) + lamb * (\n",
        "        1 - y_true) * tf.math.square(tf.nn.relu(y_pred - margin))), axis=-1)\n",
        "\n",
        "#@tf.function\n",
        "def safe_norm(s, axis=-1, epsilon=1e-7, keep_dims=False):\n",
        "        squared_norm = tf.reduce_sum(tf.square(s),axis=axis,keepdims=keep_dims)\n",
        "        return tf.sqrt(squared_norm + epsilon)"
      ],
      "metadata": {
        "id": "ppnv09zACvGE"
      },
      "execution_count": 6,
      "outputs": []
    },
    {
      "cell_type": "code",
      "source": [
        "class Capsule(keras.layers.Layer):\n",
        "   \n",
        "\n",
        "    def __init__(self,\n",
        "                 num_capsule,\n",
        "                 dim_capsule,\n",
        "                 routings=3,\n",
        "                 **kwargs):\n",
        "        super(Capsule, self).__init__(**kwargs)\n",
        "        self.caps_n = num_capsule\n",
        "        self.caps_dim = dim_capsule\n",
        "        self.r = routings\n",
        "\n",
        "    def get_config(self):\n",
        "        config = super().get_config().copy()\n",
        "        config.update({\n",
        "        'num_capsule':  self.caps_n,\n",
        "        'dim_capsule' : self.caps_dim,\n",
        "        'routings':  self.r,      \n",
        "        })\n",
        "        return config\n",
        "\n",
        "    def build(self, input_shape):\n",
        "\n",
        "        batch_size = input_shape[0]\n",
        "        n=input_shape[1]\n",
        "        k=self.caps_n\n",
        "        d=self.caps_dim\n",
        "\n",
        "        self.W = self.add_weight(name='W',\n",
        "                    shape=[1, input_shape[1], self.caps_n, self.caps_dim, input_shape[-1]],\n",
        "                    dtype=tf.float64,\n",
        "                    initializer='glorot_uniform',\n",
        "                    trainable=True)\n",
        "        \n",
        "        #initialization step.\n",
        "        init_mu = random.rand(batch_size,k, d)*20 - 10\n",
        "        self.mu = init_mu #initializing mean.\n",
        "\n",
        "        init_sigma = np.zeros((k, d, d))\n",
        "        for i in range(k):\n",
        "            init_sigma[i] = np.eye(d)\n",
        "        sigma = init_sigma\n",
        "        sigma=tf.expand_dims(sigma,axis=0)\n",
        "        self.sigma=tf.tile(sigma,[batch_size,1,1,1]) # initializing cov matrix.\n",
        "\n",
        "        init_pi = np.ones(k)/k\n",
        "        pi = init_pi\n",
        "        pi=tf.expand_dims(pi,axis=0)\n",
        "        self.pi=tf.tile(pi,[batch_size,1])\n",
        "\n",
        "        R=np.zeros(shape=(n,k))\n",
        "        R=tf.expand_dims(R,axis=0)\n",
        "        self.R=tf.tile(R,[batch_size,1,1]) # coupling coefficient.\n",
        "        \n",
        "    def call(self, input_tensor):\n",
        "        assert input_tensor.shape[2]==self.caps_dim\n",
        "        input_tensor=tf.cast(input_tensor,dtype=tf.float64)\n",
        "        assert input_tensor.dtype==tf.float64\n",
        "        batch_size = input_tensor.shape[0]\n",
        "        n=input_tensor.shape[1]\n",
        "        k=self.caps_n\n",
        "        d=self.caps_dim\n",
        "        \n",
        "        W_tiled = tf.tile(self.W, [batch_size, 1, 1, 1, 1]) # replicating the weights for parallel processing of a batch.\n",
        "        \"\"\" W_tiled.shape=[batch_size,caps_n(i-1),caps_n(i),caps_dim(i),caps_dim(i-1)] \"\"\"\n",
        "\n",
        "        caps_output_expanded = tf.expand_dims(input_tensor, -1) # converting last dim to a column vector.\n",
        "        \"\"\" the above step change the input shape from \n",
        "            [batch_size,caps_n(i-1),caps_dim(i-1)] --> [batch_size,caps_n(i-1),caps_dim(i-1),1]\"\"\"\n",
        "\n",
        "        caps_output_tile = tf.expand_dims(caps_output_expanded, 2)\n",
        "        \"\"\" the above step change the input shape from \n",
        "            [batch_size,caps_n(i-1),caps_dim(i-1),1] --> [batch_size,caps_n(i-1),1,caps_dim(i-1),1]\"\"\"\n",
        "\n",
        "        caps_output_tiled = tf.tile(caps_output_tile, [1, 1, self.caps_n, 1, 1]) # replicating the input capsule vector for every output capsule.\n",
        "        \"\"\" i.e [batch_size,caps_n(i-1),1,caps_dim(i-1),1] --> [batch_size,caps_n(i-1),caps_n(i),1,caps_dim(i-1),1]\"\"\"\n",
        "\n",
        "        caps_predicted = tf.matmul(W_tiled, caps_output_tiled) # this is performing element wise tf.matmul() operation.\n",
        "        \"\"\" caps_predicted.shape = [1,caps_n(i-1),caps_n(i),caps_dim(i),1]\"\"\"\n",
        "\n",
        "        \"\"\" dynamic routing \"\"\"\n",
        "        \"\"\"#initialization step.\n",
        "        init_mu = random.rand(batch_size,k, d)*20 - 10\n",
        "        mu = init_mu #initializing mean.\n",
        "\n",
        "        init_sigma = np.zeros((k, d, d))\n",
        "        for i in range(k):\n",
        "            init_sigma[i] = np.eye(d)\n",
        "        sigma = init_sigma\n",
        "        sigma=tf.expand_dims(sigma,axis=0)\n",
        "        sigma=tf.tile(sigma,[batch_size,1,1,1]) # initializing cov matrix.\n",
        "\n",
        "        init_pi = np.ones(k)/k\n",
        "        pi = init_pi\n",
        "        pi=tf.expand_dims(pi,axis=0)\n",
        "        pi=tf.tile(pi,[batch_size,1])\n",
        "\n",
        "        R=np.zeros(shape=(n,k))\n",
        "        R=tf.expand_dims(R,axis=0)\n",
        "        R=tf.tile(R,[batch_size,1,1]) # coupling coefficient.\"\"\"\n",
        "\n",
        "        pi=tf.Variable(self.pi,dtype=tf.float64)\n",
        "        mu=tf.Variable(self.mu,dtype=tf.float64)\n",
        "        sigma=tf.Variable(self.sigma,dtype=tf.float64)\n",
        "        R=tf.Variable(self.R,dtype=tf.float64)\n",
        "\n",
        "        #print(mu.shape,pi.shape,sigma.shape,R.shape)\n",
        "\n",
        "        N=np.zeros((batch_size,n))\n",
        "        N=tf.Variable(N,dtype=tf.float64)\n",
        "\n",
        "        r=self.r\n",
        "        while(r):\n",
        "          r=r-1\n",
        "          # E-step.\n",
        "          for i in range(k):\n",
        "              for b in range(batch_size):\n",
        "                  tmp = tfp.distributions.MultivariateNormalFullCovariance(loc=mu[b][i],\n",
        "                                                                        covariance_matrix=sigma[b][i]).prob(input_tensor[b])\n",
        "                  N[b].assign(tmp)\n",
        "              R[:,:,i].assign(tf.expand_dims(pi[:,i],axis=1)*N)\n",
        "          R.assign(R/tf.reduce_sum(R,axis=2, keepdims=True))\n",
        "\n",
        "          # M-step\n",
        "          N_k=tf.reduce_sum(R,axis=1)\n",
        "          pi=N_k/n\n",
        "          mu=tf.matmul(tf.transpose(R,perm=[0,2,1]),input_tensor)\n",
        "          mu=mu/N_k[:,:,None]\n",
        "\n",
        "          for i in range(k):\n",
        "              tmp=input_tensor-tf.expand_dims(mu[:,i,:],axis=1)\n",
        "              tmp=tf.expand_dims(tmp,axis=-1)\n",
        "              tmp_T=tf.transpose(tmp,perm=[0,1,3,2])\n",
        "              res=tf.matmul(tmp,tmp_T)\n",
        "              res=tf.multiply(tf.reshape(R[:,:,i],[batch_size,n,1,1]),res)\n",
        "              res=tf.reduce_sum(res,axis=1)/tf.reshape(N_k[:,i],[batch_size,1,1])\n",
        "              sigma[:,i].assign(res)\n",
        "              \n",
        "        weighted_prediction=tf.multiply(caps_predicted,tf.reshape(R,[batch_size,n,k,1,1]))\n",
        "        weighted_sum = tf.reduce_sum(weighted_prediction, axis=1, keepdims=True)\n",
        "        v=squash(weighted_sum, axis=-2)\n",
        "        v = tf.squeeze(v, axis=[1,4])\n",
        "        return v\n",
        "\n",
        "    def compute_output_signature(self,input_shape):\n",
        "      return tf.TensorSpec(shape=[input_shape[0],self.caps_n,self.caps_dim],dtype=tf.float64)"
      ],
      "metadata": {
        "id": "FWhXR-7ZTka9"
      },
      "execution_count": 50,
      "outputs": []
    },
    {
      "cell_type": "code",
      "source": [
        "c1=tf.keras.layers.Conv2D(16,kernel_size=5,strides=1,padding='valid',activation='relu')\n",
        "c2=tf.keras.layers.Conv2D(32,kernel_size=9,strides=1,padding='valid',activation='relu')\n",
        "bn1=tf.keras.layers.BatchNormalization()\n",
        "bn2=tf.keras.layers.BatchNormalization()\n",
        "last=Capsule(10,16)"
      ],
      "metadata": {
        "id": "JYtOCQh1wlth"
      },
      "execution_count": 51,
      "outputs": []
    },
    {
      "cell_type": "code",
      "source": [
        "x=keras.Input(shape=(28, 28, 1), batch_size=32)\n"
      ],
      "metadata": {
        "id": "JKFqIBegB3Eh"
      },
      "execution_count": 52,
      "outputs": []
    },
    {
      "cell_type": "code",
      "source": [
        "x=c2(c1(x))"
      ],
      "metadata": {
        "id": "Jb4hW1v2B7a3"
      },
      "execution_count": 53,
      "outputs": []
    },
    {
      "cell_type": "code",
      "source": [
        "x=tf.reshape(x,[-1,16*32,16])"
      ],
      "metadata": {
        "id": "ct_Sb0v4CFrc"
      },
      "execution_count": 54,
      "outputs": []
    },
    {
      "cell_type": "code",
      "source": [
        "x=tf.cast(x,dtype=tf.float64)\n",
        "last(x)"
      ],
      "metadata": {
        "colab": {
          "base_uri": "https://localhost:8080/"
        },
        "id": "8pQg4pgtCrxr",
        "outputId": "7cb67382-0510-4022-fcc4-ff21ddea8dde"
      },
      "execution_count": 55,
      "outputs": [
        {
          "output_type": "execute_result",
          "data": {
            "text/plain": [
              "<KerasTensor: shape=(32, 10, 16) dtype=float64 (created by layer 'capsule_7')>"
            ]
          },
          "metadata": {},
          "execution_count": 55
        }
      ]
    },
    {
      "cell_type": "code",
      "source": [],
      "metadata": {
        "id": "4U_8gALDxOce"
      },
      "execution_count": null,
      "outputs": []
    }
  ]
}