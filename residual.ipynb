{
  "nbformat": 4,
  "nbformat_minor": 0,
  "metadata": {
    "colab": {
      "name": "model2.ipynb",
      "provenance": []
    },
    "kernelspec": {
      "name": "python3",
      "display_name": "Python 3"
    },
    "language_info": {
      "name": "python"
    }
  },
  "cells": [
    {
      "cell_type": "code",
      "execution_count": 1,
      "metadata": {
        "id": "Wkl0rzN69JYr"
      },
      "outputs": [],
      "source": [
        "import numpy as np\n",
        "import tensorflow as tf\n",
        "from tensorflow import keras\n",
        "import matplotlib.pyplot as plt"
      ]
    },
    {
      "cell_type": "code",
      "source": [
        "# data loading in appropriate formate\n",
        "\n",
        "mnist = tf.keras.datasets.mnist\n",
        "\n",
        "(x_train, y_train), (x_test, y_test) = mnist.load_data()\n",
        "x_train, x_test = x_train / 255.0, x_test / 255.0\n",
        "\n",
        "# Add a channels dimension\n",
        "x_train = x_train[..., tf.newaxis].astype(\"float32\")\n",
        "x_test = x_test[..., tf.newaxis].astype(\"float32\")\n"
      ],
      "metadata": {
        "colab": {
          "base_uri": "https://localhost:8080/"
        },
        "id": "9wWYiNPu9lX_",
        "outputId": "4f41b997-7624-47d5-99a5-ac9cace19bb5"
      },
      "execution_count": 2,
      "outputs": [
        {
          "output_type": "stream",
          "name": "stdout",
          "text": [
            "Downloading data from https://storage.googleapis.com/tensorflow/tf-keras-datasets/mnist.npz\n",
            "11493376/11490434 [==============================] - 0s 0us/step\n",
            "11501568/11490434 [==============================] - 0s 0us/step\n"
          ]
        }
      ]
    },
    {
      "cell_type": "code",
      "source": [
        "y_train=tf.keras.utils.to_categorical(y_train)"
      ],
      "metadata": {
        "id": "eMfYbUSA82Zl"
      },
      "execution_count": 3,
      "outputs": []
    },
    {
      "cell_type": "code",
      "source": [
        "class CONV(tf.keras.layers.Layer):\n",
        "    def __init__(self, out_channels, kernel_size=3):\n",
        "        super(CONV, self).__init__()\n",
        "        self.conv = tf.keras.layers.Conv2D(out_channels, kernel_size, padding=\"same\")\n",
        "        self.bn = tf.keras.layers.BatchNormalization()\n",
        "\n",
        "    def call(self, input_tensor,training=False):\n",
        "        x = self.conv(input_tensor)\n",
        "        x = self.bn(x,training=training)\n",
        "        x = tf.nn.relu(x)\n",
        "        return x"
      ],
      "metadata": {
        "id": "DVvZEL3Kkbqs"
      },
      "execution_count": 4,
      "outputs": []
    },
    {
      "cell_type": "code",
      "source": [
        "class RES_block(tf.keras.layers.Layer):\n",
        "    def __init__(self):\n",
        "        super(RES_block,self).__init__()\n",
        "        self.conv1=CONV(20,3)\n",
        "        self.conv2=CONV(30,3)\n",
        "        self.conv3=CONV(30,3)\n",
        "        self.identity_mapping = CONV(30, 1)\n",
        "        self.max=tf.keras.layers.MaxPool2D(3)\n",
        "\n",
        "    def call(self, input_tensor,training=False):\n",
        "        x = self.conv1(input_tensor)\n",
        "        x = self.conv2(x)\n",
        "        x = self.conv3(x + self.identity_mapping(input_tensor), training=training)\n",
        "        x = self.max(x)\n",
        "        return x\n",
        "        \n"
      ],
      "metadata": {
        "id": "YHvsuv6dJRpp"
      },
      "execution_count": 5,
      "outputs": []
    },
    {
      "cell_type": "code",
      "source": [
        "#model subclassing with convolution layer.\n",
        "\n",
        "class MyModel(tf.keras.Model):\n",
        "    def __init__(self, num_classes):\n",
        "        super(MyModel, self).__init__()\n",
        "        # define all layers in init\n",
        "        # Layer of Block 1\n",
        "        self.r1 = RES_block()\n",
        "\n",
        "        #fully connected layer\n",
        "        self.flat = tf.keras.layers.Flatten()\n",
        "        self.d1 = keras.layers.Dense(20, activation='relu')\n",
        "        self.d2 = keras.layers.Dense(num_classes)\n",
        "\n",
        "\n",
        "    def call(self, input_tensor):\n",
        "        # forward pass: block 1 \n",
        "        x = self.r1(input_tensor)\n",
        "\n",
        "        # forward pass: FC layer\n",
        "        x=self.flat(x)\n",
        "        x = self.d1(x)\n",
        "        return self.d2(x)\n"
      ],
      "metadata": {
        "id": "9ZGy-eKWkboM"
      },
      "execution_count": 8,
      "outputs": []
    },
    {
      "cell_type": "code",
      "source": [
        "model=MyModel(10)\n",
        "\n",
        "\"\"\"loss_fn = tf.keras.losses.SparseCategoricalCrossentropy(from_logits=True)\n",
        "model.compile(optimizer='adam',\n",
        "              loss=loss_fn,\n",
        "              metrics=['accuracy'])\"\"\"\n",
        "model.compile(\n",
        "          loss      = tf.keras.losses.CategoricalCrossentropy(from_logits=True),\n",
        "          metrics   = tf.keras.metrics.CategoricalAccuracy(),\n",
        "          optimizer = tf.keras.optimizers.Adam())"
      ],
      "metadata": {
        "id": "5rCt4dpvp33u"
      },
      "execution_count": 9,
      "outputs": []
    },
    {
      "cell_type": "code",
      "source": [
        "model.build(input_shape=(None, 28, 28, 1))\n",
        "model.call(tf.keras.Input(shape=(28, 28, 1)))\n",
        "model.summary()\n",
        "#no of parameter in conv  = ((m*n*d)+1)*k) for ex ((3*3*1)+1)*32 = 320\n",
        "# ((3*3*32)+1)*64) = 18496"
      ],
      "metadata": {
        "colab": {
          "base_uri": "https://localhost:8080/"
        },
        "id": "TFZWf8APkbjR",
        "outputId": "56a938bc-5fca-40a1-8228-c00df072e0b1"
      },
      "execution_count": 10,
      "outputs": [
        {
          "output_type": "stream",
          "name": "stdout",
          "text": [
            "Model: \"my_model_1\"\n",
            "_________________________________________________________________\n",
            " Layer (type)                Output Shape              Param #   \n",
            "=================================================================\n",
            " res_block (RES_block)       (None, 9, 9, 30)          14260     \n",
            "                                                                 \n",
            " flatten (Flatten)           (None, 2430)              0         \n",
            "                                                                 \n",
            " dense (Dense)               (None, 20)                48620     \n",
            "                                                                 \n",
            " dense_1 (Dense)             (None, 10)                210       \n",
            "                                                                 \n",
            "=================================================================\n",
            "Total params: 63,090\n",
            "Trainable params: 62,870\n",
            "Non-trainable params: 220\n",
            "_________________________________________________________________\n"
          ]
        }
      ]
    },
    {
      "cell_type": "code",
      "source": [
        "model.fit(x_train, y_train, batch_size=128,epochs=2,validation_split=0.2)"
      ],
      "metadata": {
        "colab": {
          "base_uri": "https://localhost:8080/"
        },
        "id": "FP9EQhYzkbgy",
        "outputId": "c46dab8b-f6d9-4633-f3da-db131ed908d1"
      },
      "execution_count": 11,
      "outputs": [
        {
          "output_type": "stream",
          "name": "stdout",
          "text": [
            "Epoch 1/2\n",
            "375/375 [==============================] - 228s 605ms/step - loss: 0.3021 - categorical_accuracy: 0.9074 - val_loss: 0.2487 - val_categorical_accuracy: 0.9658\n",
            "Epoch 2/2\n",
            "375/375 [==============================] - 228s 607ms/step - loss: 0.0767 - categorical_accuracy: 0.9767 - val_loss: 0.0764 - val_categorical_accuracy: 0.9782\n"
          ]
        },
        {
          "output_type": "execute_result",
          "data": {
            "text/plain": [
              "<keras.callbacks.History at 0x7f3d55548a90>"
            ]
          },
          "metadata": {},
          "execution_count": 11
        }
      ]
    },
    {
      "cell_type": "code",
      "source": [
        ""
      ],
      "metadata": {
        "id": "MUwaszgLkbTT"
      },
      "execution_count": null,
      "outputs": []
    },
    {
      "cell_type": "code",
      "source": [
        ""
      ],
      "metadata": {
        "id": "QqJMKxmSkbQt"
      },
      "execution_count": null,
      "outputs": []
    }
  ]
}