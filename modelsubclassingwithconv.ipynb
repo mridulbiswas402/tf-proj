{
  "nbformat": 4,
  "nbformat_minor": 0,
  "metadata": {
    "colab": {
      "name": "model0.ipynb",
      "provenance": []
    },
    "kernelspec": {
      "name": "python3",
      "display_name": "Python 3"
    },
    "language_info": {
      "name": "python"
    }
  },
  "cells": [
    {
      "cell_type": "code",
      "execution_count": 1,
      "metadata": {
        "id": "Wkl0rzN69JYr"
      },
      "outputs": [],
      "source": [
        "import numpy as np\n",
        "import tensorflow as tf\n",
        "from tensorflow import keras\n"
      ]
    },
    {
      "cell_type": "code",
      "source": [
        "import matplotlib.pyplot as plt"
      ],
      "metadata": {
        "id": "KKbLIhyENcpW"
      },
      "execution_count": 2,
      "outputs": []
    },
    {
      "cell_type": "code",
      "source": [
        "# data loading in appropriate formate\n",
        "\n",
        "mnist = tf.keras.datasets.mnist\n",
        "\n",
        "(x_train, y_train), (x_test, y_test) = mnist.load_data()\n",
        "x_train, x_test = x_train / 255.0, x_test / 255.0\n",
        "\n",
        "# Add a channels dimension\n",
        "x_train = x_train[..., tf.newaxis].astype(\"float32\")\n",
        "x_test = x_test[..., tf.newaxis].astype(\"float32\")\n"
      ],
      "metadata": {
        "colab": {
          "base_uri": "https://localhost:8080/"
        },
        "id": "9wWYiNPu9lX_",
        "outputId": "975089cc-61d5-4138-a66f-6fdffc3e81a2"
      },
      "execution_count": 3,
      "outputs": [
        {
          "output_type": "stream",
          "name": "stdout",
          "text": [
            "Downloading data from https://storage.googleapis.com/tensorflow/tf-keras-datasets/mnist.npz\n",
            "11493376/11490434 [==============================] - 0s 0us/step\n",
            "11501568/11490434 [==============================] - 0s 0us/step\n"
          ]
        }
      ]
    },
    {
      "cell_type": "code",
      "source": [
        "#model subclassing with convolution layer.\n",
        "\n",
        "class ModelSubClassing(tf.keras.Model):\n",
        "    def __init__(self, num_classes):\n",
        "        super(ModelSubClassing, self).__init__()\n",
        "        # define all layers in init\n",
        "        # Layer of Block 1\n",
        "        self.conv1 = tf.keras.layers.Conv2D(32, 3, strides=2,padding='same', activation=\"relu\")\n",
        "        self.max1  = tf.keras.layers.MaxPooling2D(3)\n",
        "\n",
        "        # Layer of Block 2\n",
        "        self.conv2 = tf.keras.layers.Conv2D(64, 3, padding='same',activation=\"relu\")\n",
        "        self.max2  = tf.keras.layers.MaxPooling2D(3)\n",
        "\n",
        "        #fully connected layer\n",
        "        self.flat = tf.keras.layers.Flatten()\n",
        "        self.d1 = keras.layers.Dense(20, activation='relu')\n",
        "        self.d2 = keras.layers.Dense(num_classes)\n",
        "\n",
        "\n",
        "    def call(self, input_tensor):\n",
        "        # forward pass: block 1 \n",
        "        x = self.conv1(input_tensor)\n",
        "        x = self.max1(x)\n",
        "\n",
        "        # forward pass: block 2 \n",
        "        x = self.conv2(x)\n",
        "        x = self.max2(x)\n",
        "\n",
        "        # forward pass: FC layer\n",
        "        x=self.flat(x)\n",
        "        x = self.d1(x)\n",
        "        return self.d2(x)\n",
        "\n"
      ],
      "metadata": {
        "id": "nOxj8X87osVJ"
      },
      "execution_count": 4,
      "outputs": []
    },
    {
      "cell_type": "code",
      "source": [
        "model = ModelSubClassing(10)\n",
        "\n",
        "\"\"\"loss_fn = tf.keras.losses.SparseCategoricalCrossentropy(from_logits=True)\n",
        "model.compile(optimizer='adam',\n",
        "              loss=loss_fn,\n",
        "              metrics=['accuracy'])\"\"\"\n",
        "model.compile(\n",
        "          loss      = tf.keras.losses.CategoricalCrossentropy(from_logits=True),\n",
        "          metrics   = tf.keras.metrics.CategoricalAccuracy(),\n",
        "          optimizer = tf.keras.optimizers.Adam())"
      ],
      "metadata": {
        "id": "1KG-xVerzfD5"
      },
      "execution_count": 5,
      "outputs": []
    },
    {
      "cell_type": "code",
      "source": [
        "y_train=tf.keras.utils.to_categorical(y_train)"
      ],
      "metadata": {
        "id": "eMfYbUSA82Zl"
      },
      "execution_count": 6,
      "outputs": []
    },
    {
      "cell_type": "code",
      "source": [
        "model.fit(x_train, y_train, batch_size=128,epochs=4,validation_split=0.2)"
      ],
      "metadata": {
        "colab": {
          "base_uri": "https://localhost:8080/"
        },
        "id": "phmSvdDEzpma",
        "outputId": "98fc9020-137b-40d6-c977-765a6596d517"
      },
      "execution_count": 7,
      "outputs": [
        {
          "output_type": "stream",
          "name": "stdout",
          "text": [
            "Epoch 1/4\n",
            "375/375 [==============================] - 15s 35ms/step - loss: 0.7345 - categorical_accuracy: 0.7861 - val_loss: 0.2441 - val_categorical_accuracy: 0.9291\n",
            "Epoch 2/4\n",
            "375/375 [==============================] - 12s 32ms/step - loss: 0.2076 - categorical_accuracy: 0.9378 - val_loss: 0.1627 - val_categorical_accuracy: 0.9508\n",
            "Epoch 3/4\n",
            "375/375 [==============================] - 11s 31ms/step - loss: 0.1443 - categorical_accuracy: 0.9561 - val_loss: 0.1138 - val_categorical_accuracy: 0.9665\n",
            "Epoch 4/4\n",
            "375/375 [==============================] - 13s 35ms/step - loss: 0.1163 - categorical_accuracy: 0.9647 - val_loss: 0.0974 - val_categorical_accuracy: 0.9704\n"
          ]
        },
        {
          "output_type": "execute_result",
          "data": {
            "text/plain": [
              "<keras.callbacks.History at 0x7f922ccbafd0>"
            ]
          },
          "metadata": {},
          "execution_count": 7
        }
      ]
    },
    {
      "cell_type": "code",
      "source": [
        "model.summary()"
      ],
      "metadata": {
        "colab": {
          "base_uri": "https://localhost:8080/"
        },
        "id": "ASgeglq9Amcd",
        "outputId": "13b4312a-51ed-43a3-a833-6f0da8448f34"
      },
      "execution_count": 8,
      "outputs": [
        {
          "output_type": "stream",
          "name": "stdout",
          "text": [
            "Model: \"model_sub_classing\"\n",
            "_________________________________________________________________\n",
            " Layer (type)                Output Shape              Param #   \n",
            "=================================================================\n",
            " conv2d (Conv2D)             multiple                  320       \n",
            "                                                                 \n",
            " max_pooling2d (MaxPooling2D  multiple                 0         \n",
            " )                                                               \n",
            "                                                                 \n",
            " conv2d_1 (Conv2D)           multiple                  18496     \n",
            "                                                                 \n",
            " max_pooling2d_1 (MaxPooling  multiple                 0         \n",
            " 2D)                                                             \n",
            "                                                                 \n",
            " flatten (Flatten)           multiple                  0         \n",
            "                                                                 \n",
            " dense (Dense)               multiple                  1300      \n",
            "                                                                 \n",
            " dense_1 (Dense)             multiple                  210       \n",
            "                                                                 \n",
            "=================================================================\n",
            "Total params: 20,326\n",
            "Trainable params: 20,326\n",
            "Non-trainable params: 0\n",
            "_________________________________________________________________\n"
          ]
        }
      ]
    },
    {
      "cell_type": "code",
      "source": [
        ""
      ],
      "metadata": {
        "id": "glO3Q8Uk-jSZ"
      },
      "execution_count": 8,
      "outputs": []
    }
  ]
}