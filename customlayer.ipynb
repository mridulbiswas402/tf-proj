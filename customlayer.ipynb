{
  "nbformat": 4,
  "nbformat_minor": 0,
  "metadata": {
    "colab": {
      "name": "learntf1.ipynb",
      "provenance": [],
      "collapsed_sections": []
    },
    "kernelspec": {
      "name": "python3",
      "display_name": "Python 3"
    },
    "language_info": {
      "name": "python"
    }
  },
  "cells": [
    {
      "cell_type": "code",
      "execution_count": 4,
      "metadata": {
        "id": "zTGXKqRkTMHk"
      },
      "outputs": [],
      "source": [
        "import numpy as np\n",
        "import tensorflow as tf\n",
        "import matplotlib.pyplot as plt"
      ]
    },
    {
      "cell_type": "code",
      "source": [
        "from tensorflow import keras"
      ],
      "metadata": {
        "id": "FruyUOM1qmn1"
      },
      "execution_count": 5,
      "outputs": []
    },
    {
      "cell_type": "code",
      "source": [
        "from scipy.special import expit"
      ],
      "metadata": {
        "id": "qv-WiSnVCOMw"
      },
      "execution_count": 40,
      "outputs": []
    },
    {
      "cell_type": "code",
      "source": [
        "mnist = tf.keras.datasets.mnist\n",
        "\n",
        "(x_train, y_train), (x_test, y_test) = mnist.load_data()\n",
        "x_train, x_test = x_train / 255.0, x_test / 255.0\n",
        "\n",
        "# Add a channels dimension\n",
        "x_train = x_train[..., tf.newaxis].astype(\"float32\")\n",
        "x_test = x_test[..., tf.newaxis].astype(\"float32\")\n"
      ],
      "metadata": {
        "id": "25-PzRTgqwO6"
      },
      "execution_count": 6,
      "outputs": []
    },
    {
      "cell_type": "code",
      "source": [
        ""
      ],
      "metadata": {
        "id": "klcesbbm4PzM"
      },
      "execution_count": null,
      "outputs": []
    },
    {
      "cell_type": "code",
      "source": [
        "x=x_train[:3]"
      ],
      "metadata": {
        "id": "7m7DwXdY4PxN"
      },
      "execution_count": 10,
      "outputs": []
    },
    {
      "cell_type": "code",
      "source": [
        "x.shape"
      ],
      "metadata": {
        "colab": {
          "base_uri": "https://localhost:8080/"
        },
        "id": "39TupkGr4Vom",
        "outputId": "08aacf58-da5e-473c-812b-8bf935cfc7c6"
      },
      "execution_count": 19,
      "outputs": [
        {
          "output_type": "execute_result",
          "data": {
            "text/plain": [
              "(3, 28, 28, 1)"
            ]
          },
          "metadata": {},
          "execution_count": 19
        }
      ]
    },
    {
      "cell_type": "code",
      "source": [
        "class dense(keras.layers.Layer):\n",
        "\n",
        "  def __init__(self, units=32,activation='linear'):\n",
        "      super(dense, self).__init__()\n",
        "      self.units = units\n",
        "      self.initializer={'sigmoid':keras.activations.sigmoid,'relu':keras.activations.relu,'linear':lambda x:x}\n",
        "      self.activation=self.initializer.get(activation)\n",
        "\n",
        "  def build(self, input_shape):\n",
        "      self.w = self.add_weight(shape=(input_shape[-1], self.units),\n",
        "                               initializer='random_normal',\n",
        "                               trainable=True)\n",
        "      self.b = self.add_weight(shape=(1,self.units),\n",
        "                               initializer='random_normal',\n",
        "                               trainable=True)\n",
        "\n",
        "  def call(self, inputs):\n",
        "      return self.activation(tf.matmul(inputs, self.w) + self.b)"
      ],
      "metadata": {
        "id": "zEgR0MUAxqDA"
      },
      "execution_count": 69,
      "outputs": []
    },
    {
      "cell_type": "code",
      "source": [
        "tst=dense(units=3,activation='sigmoid')"
      ],
      "metadata": {
        "id": "EysohILxCs60"
      },
      "execution_count": 75,
      "outputs": []
    },
    {
      "cell_type": "code",
      "source": [
        "tst(tf.convert_to_tensor(np.array([[1,1,1],[2,2,2.]])))"
      ],
      "metadata": {
        "colab": {
          "base_uri": "https://localhost:8080/"
        },
        "id": "IuGPc6WB_CSq",
        "outputId": "3e660f29-1f5b-467e-8642-ed3d7b714bad"
      },
      "execution_count": 76,
      "outputs": [
        {
          "output_type": "execute_result",
          "data": {
            "text/plain": [
              "<tf.Tensor: shape=(2, 3), dtype=float32, numpy=\n",
              "array([[0.51558757, 0.4935058 , 0.48636466],\n",
              "       [0.51046854, 0.47653392, 0.47633174]], dtype=float32)>"
            ]
          },
          "metadata": {},
          "execution_count": 76
        }
      ]
    },
    {
      "cell_type": "code",
      "source": [
        "tst.weights"
      ],
      "metadata": {
        "colab": {
          "base_uri": "https://localhost:8080/"
        },
        "id": "1DvtN5Xm_mJ8",
        "outputId": "38134939-2c32-494e-a11d-bcdb5b3ad5b0"
      },
      "execution_count": 77,
      "outputs": [
        {
          "output_type": "execute_result",
          "data": {
            "text/plain": [
              "[<tf.Variable 'dense_7/Variable:0' shape=(3, 3) dtype=float32, numpy=\n",
              " array([[ 0.01119683, -0.03330211, -0.00169412],\n",
              "        [-0.0084322 ,  0.03372768, -0.07433393],\n",
              "        [-0.02325474, -0.06838065,  0.03583896]], dtype=float32)>,\n",
              " <tf.Variable 'dense_7/Variable:0' shape=(1, 3) dtype=float32, numpy=array([[ 0.08286058,  0.04197684, -0.01436575]], dtype=float32)>]"
            ]
          },
          "metadata": {},
          "execution_count": 77
        }
      ]
    },
    {
      "cell_type": "code",
      "source": [
        "expit(np.matmul(np.array([[1,1,1],[2,2,2]]),np.array([[ 0.01119683, -0.03330211, -0.00169412],\n",
        "        [-0.0084322 ,  0.03372768, -0.07433393],\n",
        "        [-0.02325474, -0.06838065,  0.03583896]]))+np.array([[ 0.08286058,  0.04197684, -0.01436575]]))"
      ],
      "metadata": {
        "id": "QwuuBeRKxqA6",
        "colab": {
          "base_uri": "https://localhost:8080/"
        },
        "outputId": "50040d53-c6f4-498a-8d33-9e3db3453c19"
      },
      "execution_count": 78,
      "outputs": [
        {
          "output_type": "execute_result",
          "data": {
            "text/plain": [
              "array([[0.51558756, 0.49350581, 0.48636467],\n",
              "       [0.51046856, 0.47653392, 0.47633172]])"
            ]
          },
          "metadata": {},
          "execution_count": 78
        }
      ]
    },
    {
      "cell_type": "code",
      "source": [
        ""
      ],
      "metadata": {
        "id": "7hJlZ7xmG2IY"
      },
      "execution_count": null,
      "outputs": []
    }
  ]
}